{
  "nbformat": 4,
  "nbformat_minor": 0,
  "metadata": {
    "colab": {
      "provenance": [],
      "gpuType": "T4"
    },
    "kernelspec": {
      "name": "python3",
      "display_name": "Python 3"
    },
    "language_info": {
      "name": "python"
    },
    "accelerator": "GPU"
  },
  "cells": [
    {
      "cell_type": "code",
      "execution_count": 1,
      "metadata": {
        "colab": {
          "base_uri": "https://localhost:8080/",
          "height": 74
        },
        "id": "sg9jLXrI_Vu8",
        "outputId": "432bd30a-7e96-4c34-8a68-94f336bc312c"
      },
      "outputs": [
        {
          "output_type": "display_data",
          "data": {
            "text/plain": [
              "<IPython.core.display.HTML object>"
            ],
            "text/html": [
              "\n",
              "     <input type=\"file\" id=\"files-1a85f506-0cae-49cc-b42b-942e09ba035a\" name=\"files[]\" multiple disabled\n",
              "        style=\"border:none\" />\n",
              "     <output id=\"result-1a85f506-0cae-49cc-b42b-942e09ba035a\">\n",
              "      Upload widget is only available when the cell has been executed in the\n",
              "      current browser session. Please rerun this cell to enable.\n",
              "      </output>\n",
              "      <script>// Copyright 2017 Google LLC\n",
              "//\n",
              "// Licensed under the Apache License, Version 2.0 (the \"License\");\n",
              "// you may not use this file except in compliance with the License.\n",
              "// You may obtain a copy of the License at\n",
              "//\n",
              "//      http://www.apache.org/licenses/LICENSE-2.0\n",
              "//\n",
              "// Unless required by applicable law or agreed to in writing, software\n",
              "// distributed under the License is distributed on an \"AS IS\" BASIS,\n",
              "// WITHOUT WARRANTIES OR CONDITIONS OF ANY KIND, either express or implied.\n",
              "// See the License for the specific language governing permissions and\n",
              "// limitations under the License.\n",
              "\n",
              "/**\n",
              " * @fileoverview Helpers for google.colab Python module.\n",
              " */\n",
              "(function(scope) {\n",
              "function span(text, styleAttributes = {}) {\n",
              "  const element = document.createElement('span');\n",
              "  element.textContent = text;\n",
              "  for (const key of Object.keys(styleAttributes)) {\n",
              "    element.style[key] = styleAttributes[key];\n",
              "  }\n",
              "  return element;\n",
              "}\n",
              "\n",
              "// Max number of bytes which will be uploaded at a time.\n",
              "const MAX_PAYLOAD_SIZE = 100 * 1024;\n",
              "\n",
              "function _uploadFiles(inputId, outputId) {\n",
              "  const steps = uploadFilesStep(inputId, outputId);\n",
              "  const outputElement = document.getElementById(outputId);\n",
              "  // Cache steps on the outputElement to make it available for the next call\n",
              "  // to uploadFilesContinue from Python.\n",
              "  outputElement.steps = steps;\n",
              "\n",
              "  return _uploadFilesContinue(outputId);\n",
              "}\n",
              "\n",
              "// This is roughly an async generator (not supported in the browser yet),\n",
              "// where there are multiple asynchronous steps and the Python side is going\n",
              "// to poll for completion of each step.\n",
              "// This uses a Promise to block the python side on completion of each step,\n",
              "// then passes the result of the previous step as the input to the next step.\n",
              "function _uploadFilesContinue(outputId) {\n",
              "  const outputElement = document.getElementById(outputId);\n",
              "  const steps = outputElement.steps;\n",
              "\n",
              "  const next = steps.next(outputElement.lastPromiseValue);\n",
              "  return Promise.resolve(next.value.promise).then((value) => {\n",
              "    // Cache the last promise value to make it available to the next\n",
              "    // step of the generator.\n",
              "    outputElement.lastPromiseValue = value;\n",
              "    return next.value.response;\n",
              "  });\n",
              "}\n",
              "\n",
              "/**\n",
              " * Generator function which is called between each async step of the upload\n",
              " * process.\n",
              " * @param {string} inputId Element ID of the input file picker element.\n",
              " * @param {string} outputId Element ID of the output display.\n",
              " * @return {!Iterable<!Object>} Iterable of next steps.\n",
              " */\n",
              "function* uploadFilesStep(inputId, outputId) {\n",
              "  const inputElement = document.getElementById(inputId);\n",
              "  inputElement.disabled = false;\n",
              "\n",
              "  const outputElement = document.getElementById(outputId);\n",
              "  outputElement.innerHTML = '';\n",
              "\n",
              "  const pickedPromise = new Promise((resolve) => {\n",
              "    inputElement.addEventListener('change', (e) => {\n",
              "      resolve(e.target.files);\n",
              "    });\n",
              "  });\n",
              "\n",
              "  const cancel = document.createElement('button');\n",
              "  inputElement.parentElement.appendChild(cancel);\n",
              "  cancel.textContent = 'Cancel upload';\n",
              "  const cancelPromise = new Promise((resolve) => {\n",
              "    cancel.onclick = () => {\n",
              "      resolve(null);\n",
              "    };\n",
              "  });\n",
              "\n",
              "  // Wait for the user to pick the files.\n",
              "  const files = yield {\n",
              "    promise: Promise.race([pickedPromise, cancelPromise]),\n",
              "    response: {\n",
              "      action: 'starting',\n",
              "    }\n",
              "  };\n",
              "\n",
              "  cancel.remove();\n",
              "\n",
              "  // Disable the input element since further picks are not allowed.\n",
              "  inputElement.disabled = true;\n",
              "\n",
              "  if (!files) {\n",
              "    return {\n",
              "      response: {\n",
              "        action: 'complete',\n",
              "      }\n",
              "    };\n",
              "  }\n",
              "\n",
              "  for (const file of files) {\n",
              "    const li = document.createElement('li');\n",
              "    li.append(span(file.name, {fontWeight: 'bold'}));\n",
              "    li.append(span(\n",
              "        `(${file.type || 'n/a'}) - ${file.size} bytes, ` +\n",
              "        `last modified: ${\n",
              "            file.lastModifiedDate ? file.lastModifiedDate.toLocaleDateString() :\n",
              "                                    'n/a'} - `));\n",
              "    const percent = span('0% done');\n",
              "    li.appendChild(percent);\n",
              "\n",
              "    outputElement.appendChild(li);\n",
              "\n",
              "    const fileDataPromise = new Promise((resolve) => {\n",
              "      const reader = new FileReader();\n",
              "      reader.onload = (e) => {\n",
              "        resolve(e.target.result);\n",
              "      };\n",
              "      reader.readAsArrayBuffer(file);\n",
              "    });\n",
              "    // Wait for the data to be ready.\n",
              "    let fileData = yield {\n",
              "      promise: fileDataPromise,\n",
              "      response: {\n",
              "        action: 'continue',\n",
              "      }\n",
              "    };\n",
              "\n",
              "    // Use a chunked sending to avoid message size limits. See b/62115660.\n",
              "    let position = 0;\n",
              "    do {\n",
              "      const length = Math.min(fileData.byteLength - position, MAX_PAYLOAD_SIZE);\n",
              "      const chunk = new Uint8Array(fileData, position, length);\n",
              "      position += length;\n",
              "\n",
              "      const base64 = btoa(String.fromCharCode.apply(null, chunk));\n",
              "      yield {\n",
              "        response: {\n",
              "          action: 'append',\n",
              "          file: file.name,\n",
              "          data: base64,\n",
              "        },\n",
              "      };\n",
              "\n",
              "      let percentDone = fileData.byteLength === 0 ?\n",
              "          100 :\n",
              "          Math.round((position / fileData.byteLength) * 100);\n",
              "      percent.textContent = `${percentDone}% done`;\n",
              "\n",
              "    } while (position < fileData.byteLength);\n",
              "  }\n",
              "\n",
              "  // All done.\n",
              "  yield {\n",
              "    response: {\n",
              "      action: 'complete',\n",
              "    }\n",
              "  };\n",
              "}\n",
              "\n",
              "scope.google = scope.google || {};\n",
              "scope.google.colab = scope.google.colab || {};\n",
              "scope.google.colab._files = {\n",
              "  _uploadFiles,\n",
              "  _uploadFilesContinue,\n",
              "};\n",
              "})(self);\n",
              "</script> "
            ]
          },
          "metadata": {}
        },
        {
          "output_type": "stream",
          "name": "stdout",
          "text": [
            "Saving Sample - Superstore.xls to Sample - Superstore.xls\n"
          ]
        }
      ],
      "source": [
        "from google.colab import files\n",
        "\n",
        "uploaded = files.upload()"
      ]
    },
    {
      "cell_type": "code",
      "source": [
        "from google.colab import drive\n",
        "drive.mount('/content/drive')"
      ],
      "metadata": {
        "id": "Xb8zLwPdOp3A"
      },
      "execution_count": null,
      "outputs": []
    },
    {
      "cell_type": "code",
      "source": [
        "!pip install statsmodels"
      ],
      "metadata": {
        "colab": {
          "base_uri": "https://localhost:8080/"
        },
        "id": "ruRYm0qUAvu4",
        "outputId": "f46a74c2-e5d9-4ba1-cd3c-a72f5663445d"
      },
      "execution_count": 2,
      "outputs": [
        {
          "output_type": "stream",
          "name": "stdout",
          "text": [
            "Looking in indexes: https://pypi.org/simple, https://us-python.pkg.dev/colab-wheels/public/simple/\n",
            "Requirement already satisfied: statsmodels in /usr/local/lib/python3.10/dist-packages (0.13.5)\n",
            "Requirement already satisfied: pandas>=0.25 in /usr/local/lib/python3.10/dist-packages (from statsmodels) (1.5.3)\n",
            "Requirement already satisfied: patsy>=0.5.2 in /usr/local/lib/python3.10/dist-packages (from statsmodels) (0.5.3)\n",
            "Requirement already satisfied: packaging>=21.3 in /usr/local/lib/python3.10/dist-packages (from statsmodels) (23.1)\n",
            "Requirement already satisfied: scipy>=1.3 in /usr/local/lib/python3.10/dist-packages (from statsmodels) (1.10.1)\n",
            "Requirement already satisfied: numpy>=1.17 in /usr/local/lib/python3.10/dist-packages (from statsmodels) (1.22.4)\n",
            "Requirement already satisfied: python-dateutil>=2.8.1 in /usr/local/lib/python3.10/dist-packages (from pandas>=0.25->statsmodels) (2.8.2)\n",
            "Requirement already satisfied: pytz>=2020.1 in /usr/local/lib/python3.10/dist-packages (from pandas>=0.25->statsmodels) (2022.7.1)\n",
            "Requirement already satisfied: six in /usr/local/lib/python3.10/dist-packages (from patsy>=0.5.2->statsmodels) (1.16.0)\n"
          ]
        }
      ]
    },
    {
      "cell_type": "code",
      "source": [
        "import pandas as pd\n",
        "import numpy as np\n",
        "import matplotlib.pyplot as plt\n",
        "import warnings\n",
        "import tensorflow as tf\n",
        "warnings.filterwarnings(\"ignore\")\n",
        "plt.style.use('fivethirtyeight')\n",
        "import statsmodels.api as sm\n",
        "import itertools\n",
        "import matplotlib\n",
        "import joblib\n",
        "\n",
        "matplotlib.rcParams['axes.labelsize'] = 14\n",
        "matplotlib.rcParams['ytick.labelsize'] = 12\n",
        "matplotlib.rcParams['xtick.labelsize'] = 12\n",
        "matplotlib.rcParams['text.color'] = 'k'"
      ],
      "metadata": {
        "id": "BbemPgxkAFAh"
      },
      "execution_count": 85,
      "outputs": []
    },
    {
      "cell_type": "markdown",
      "source": [
        "### Import and Read Data "
      ],
      "metadata": {
        "id": "17Bb-ac2Mm2s"
      }
    },
    {
      "cell_type": "code",
      "source": [
        "df = pd.read_excel(\"/content/Sample - Superstore.xls\")"
      ],
      "metadata": {
        "id": "eRMdPIzoHkHM"
      },
      "execution_count": 4,
      "outputs": []
    },
    {
      "cell_type": "code",
      "source": [
        "df.head()"
      ],
      "metadata": {
        "id": "xFDMk4g6D0bE",
        "colab": {
          "base_uri": "https://localhost:8080/",
          "height": 629
        },
        "outputId": "ccf1f200-e95e-4433-8ab7-38fdba2fa0ec"
      },
      "execution_count": 5,
      "outputs": [
        {
          "output_type": "execute_result",
          "data": {
            "text/plain": [
              "   Row ID        Order ID Order Date  Ship Date       Ship Mode Customer ID  \\\n",
              "0       1  CA-2016-152156 2016-11-08 2016-11-11    Second Class    CG-12520   \n",
              "1       2  CA-2016-152156 2016-11-08 2016-11-11    Second Class    CG-12520   \n",
              "2       3  CA-2016-138688 2016-06-12 2016-06-16    Second Class    DV-13045   \n",
              "3       4  US-2015-108966 2015-10-11 2015-10-18  Standard Class    SO-20335   \n",
              "4       5  US-2015-108966 2015-10-11 2015-10-18  Standard Class    SO-20335   \n",
              "\n",
              "     Customer Name    Segment        Country             City  ...  \\\n",
              "0      Claire Gute   Consumer  United States        Henderson  ...   \n",
              "1      Claire Gute   Consumer  United States        Henderson  ...   \n",
              "2  Darrin Van Huff  Corporate  United States      Los Angeles  ...   \n",
              "3   Sean O'Donnell   Consumer  United States  Fort Lauderdale  ...   \n",
              "4   Sean O'Donnell   Consumer  United States  Fort Lauderdale  ...   \n",
              "\n",
              "  Postal Code  Region       Product ID         Category Sub-Category  \\\n",
              "0       42420   South  FUR-BO-10001798        Furniture    Bookcases   \n",
              "1       42420   South  FUR-CH-10000454        Furniture       Chairs   \n",
              "2       90036    West  OFF-LA-10000240  Office Supplies       Labels   \n",
              "3       33311   South  FUR-TA-10000577        Furniture       Tables   \n",
              "4       33311   South  OFF-ST-10000760  Office Supplies      Storage   \n",
              "\n",
              "                                        Product Name     Sales  Quantity  \\\n",
              "0                  Bush Somerset Collection Bookcase  261.9600         2   \n",
              "1  Hon Deluxe Fabric Upholstered Stacking Chairs,...  731.9400         3   \n",
              "2  Self-Adhesive Address Labels for Typewriters b...   14.6200         2   \n",
              "3      Bretford CR4500 Series Slim Rectangular Table  957.5775         5   \n",
              "4                     Eldon Fold 'N Roll Cart System   22.3680         2   \n",
              "\n",
              "   Discount    Profit  \n",
              "0      0.00   41.9136  \n",
              "1      0.00  219.5820  \n",
              "2      0.00    6.8714  \n",
              "3      0.45 -383.0310  \n",
              "4      0.20    2.5164  \n",
              "\n",
              "[5 rows x 21 columns]"
            ],
            "text/html": [
              "\n",
              "  <div id=\"df-fc72dbfc-71af-4872-8615-ea68070b739e\">\n",
              "    <div class=\"colab-df-container\">\n",
              "      <div>\n",
              "<style scoped>\n",
              "    .dataframe tbody tr th:only-of-type {\n",
              "        vertical-align: middle;\n",
              "    }\n",
              "\n",
              "    .dataframe tbody tr th {\n",
              "        vertical-align: top;\n",
              "    }\n",
              "\n",
              "    .dataframe thead th {\n",
              "        text-align: right;\n",
              "    }\n",
              "</style>\n",
              "<table border=\"1\" class=\"dataframe\">\n",
              "  <thead>\n",
              "    <tr style=\"text-align: right;\">\n",
              "      <th></th>\n",
              "      <th>Row ID</th>\n",
              "      <th>Order ID</th>\n",
              "      <th>Order Date</th>\n",
              "      <th>Ship Date</th>\n",
              "      <th>Ship Mode</th>\n",
              "      <th>Customer ID</th>\n",
              "      <th>Customer Name</th>\n",
              "      <th>Segment</th>\n",
              "      <th>Country</th>\n",
              "      <th>City</th>\n",
              "      <th>...</th>\n",
              "      <th>Postal Code</th>\n",
              "      <th>Region</th>\n",
              "      <th>Product ID</th>\n",
              "      <th>Category</th>\n",
              "      <th>Sub-Category</th>\n",
              "      <th>Product Name</th>\n",
              "      <th>Sales</th>\n",
              "      <th>Quantity</th>\n",
              "      <th>Discount</th>\n",
              "      <th>Profit</th>\n",
              "    </tr>\n",
              "  </thead>\n",
              "  <tbody>\n",
              "    <tr>\n",
              "      <th>0</th>\n",
              "      <td>1</td>\n",
              "      <td>CA-2016-152156</td>\n",
              "      <td>2016-11-08</td>\n",
              "      <td>2016-11-11</td>\n",
              "      <td>Second Class</td>\n",
              "      <td>CG-12520</td>\n",
              "      <td>Claire Gute</td>\n",
              "      <td>Consumer</td>\n",
              "      <td>United States</td>\n",
              "      <td>Henderson</td>\n",
              "      <td>...</td>\n",
              "      <td>42420</td>\n",
              "      <td>South</td>\n",
              "      <td>FUR-BO-10001798</td>\n",
              "      <td>Furniture</td>\n",
              "      <td>Bookcases</td>\n",
              "      <td>Bush Somerset Collection Bookcase</td>\n",
              "      <td>261.9600</td>\n",
              "      <td>2</td>\n",
              "      <td>0.00</td>\n",
              "      <td>41.9136</td>\n",
              "    </tr>\n",
              "    <tr>\n",
              "      <th>1</th>\n",
              "      <td>2</td>\n",
              "      <td>CA-2016-152156</td>\n",
              "      <td>2016-11-08</td>\n",
              "      <td>2016-11-11</td>\n",
              "      <td>Second Class</td>\n",
              "      <td>CG-12520</td>\n",
              "      <td>Claire Gute</td>\n",
              "      <td>Consumer</td>\n",
              "      <td>United States</td>\n",
              "      <td>Henderson</td>\n",
              "      <td>...</td>\n",
              "      <td>42420</td>\n",
              "      <td>South</td>\n",
              "      <td>FUR-CH-10000454</td>\n",
              "      <td>Furniture</td>\n",
              "      <td>Chairs</td>\n",
              "      <td>Hon Deluxe Fabric Upholstered Stacking Chairs,...</td>\n",
              "      <td>731.9400</td>\n",
              "      <td>3</td>\n",
              "      <td>0.00</td>\n",
              "      <td>219.5820</td>\n",
              "    </tr>\n",
              "    <tr>\n",
              "      <th>2</th>\n",
              "      <td>3</td>\n",
              "      <td>CA-2016-138688</td>\n",
              "      <td>2016-06-12</td>\n",
              "      <td>2016-06-16</td>\n",
              "      <td>Second Class</td>\n",
              "      <td>DV-13045</td>\n",
              "      <td>Darrin Van Huff</td>\n",
              "      <td>Corporate</td>\n",
              "      <td>United States</td>\n",
              "      <td>Los Angeles</td>\n",
              "      <td>...</td>\n",
              "      <td>90036</td>\n",
              "      <td>West</td>\n",
              "      <td>OFF-LA-10000240</td>\n",
              "      <td>Office Supplies</td>\n",
              "      <td>Labels</td>\n",
              "      <td>Self-Adhesive Address Labels for Typewriters b...</td>\n",
              "      <td>14.6200</td>\n",
              "      <td>2</td>\n",
              "      <td>0.00</td>\n",
              "      <td>6.8714</td>\n",
              "    </tr>\n",
              "    <tr>\n",
              "      <th>3</th>\n",
              "      <td>4</td>\n",
              "      <td>US-2015-108966</td>\n",
              "      <td>2015-10-11</td>\n",
              "      <td>2015-10-18</td>\n",
              "      <td>Standard Class</td>\n",
              "      <td>SO-20335</td>\n",
              "      <td>Sean O'Donnell</td>\n",
              "      <td>Consumer</td>\n",
              "      <td>United States</td>\n",
              "      <td>Fort Lauderdale</td>\n",
              "      <td>...</td>\n",
              "      <td>33311</td>\n",
              "      <td>South</td>\n",
              "      <td>FUR-TA-10000577</td>\n",
              "      <td>Furniture</td>\n",
              "      <td>Tables</td>\n",
              "      <td>Bretford CR4500 Series Slim Rectangular Table</td>\n",
              "      <td>957.5775</td>\n",
              "      <td>5</td>\n",
              "      <td>0.45</td>\n",
              "      <td>-383.0310</td>\n",
              "    </tr>\n",
              "    <tr>\n",
              "      <th>4</th>\n",
              "      <td>5</td>\n",
              "      <td>US-2015-108966</td>\n",
              "      <td>2015-10-11</td>\n",
              "      <td>2015-10-18</td>\n",
              "      <td>Standard Class</td>\n",
              "      <td>SO-20335</td>\n",
              "      <td>Sean O'Donnell</td>\n",
              "      <td>Consumer</td>\n",
              "      <td>United States</td>\n",
              "      <td>Fort Lauderdale</td>\n",
              "      <td>...</td>\n",
              "      <td>33311</td>\n",
              "      <td>South</td>\n",
              "      <td>OFF-ST-10000760</td>\n",
              "      <td>Office Supplies</td>\n",
              "      <td>Storage</td>\n",
              "      <td>Eldon Fold 'N Roll Cart System</td>\n",
              "      <td>22.3680</td>\n",
              "      <td>2</td>\n",
              "      <td>0.20</td>\n",
              "      <td>2.5164</td>\n",
              "    </tr>\n",
              "  </tbody>\n",
              "</table>\n",
              "<p>5 rows × 21 columns</p>\n",
              "</div>\n",
              "      <button class=\"colab-df-convert\" onclick=\"convertToInteractive('df-fc72dbfc-71af-4872-8615-ea68070b739e')\"\n",
              "              title=\"Convert this dataframe to an interactive table.\"\n",
              "              style=\"display:none;\">\n",
              "        \n",
              "  <svg xmlns=\"http://www.w3.org/2000/svg\" height=\"24px\"viewBox=\"0 0 24 24\"\n",
              "       width=\"24px\">\n",
              "    <path d=\"M0 0h24v24H0V0z\" fill=\"none\"/>\n",
              "    <path d=\"M18.56 5.44l.94 2.06.94-2.06 2.06-.94-2.06-.94-.94-2.06-.94 2.06-2.06.94zm-11 1L8.5 8.5l.94-2.06 2.06-.94-2.06-.94L8.5 2.5l-.94 2.06-2.06.94zm10 10l.94 2.06.94-2.06 2.06-.94-2.06-.94-.94-2.06-.94 2.06-2.06.94z\"/><path d=\"M17.41 7.96l-1.37-1.37c-.4-.4-.92-.59-1.43-.59-.52 0-1.04.2-1.43.59L10.3 9.45l-7.72 7.72c-.78.78-.78 2.05 0 2.83L4 21.41c.39.39.9.59 1.41.59.51 0 1.02-.2 1.41-.59l7.78-7.78 2.81-2.81c.8-.78.8-2.07 0-2.86zM5.41 20L4 18.59l7.72-7.72 1.47 1.35L5.41 20z\"/>\n",
              "  </svg>\n",
              "      </button>\n",
              "      \n",
              "  <style>\n",
              "    .colab-df-container {\n",
              "      display:flex;\n",
              "      flex-wrap:wrap;\n",
              "      gap: 12px;\n",
              "    }\n",
              "\n",
              "    .colab-df-convert {\n",
              "      background-color: #E8F0FE;\n",
              "      border: none;\n",
              "      border-radius: 50%;\n",
              "      cursor: pointer;\n",
              "      display: none;\n",
              "      fill: #1967D2;\n",
              "      height: 32px;\n",
              "      padding: 0 0 0 0;\n",
              "      width: 32px;\n",
              "    }\n",
              "\n",
              "    .colab-df-convert:hover {\n",
              "      background-color: #E2EBFA;\n",
              "      box-shadow: 0px 1px 2px rgba(60, 64, 67, 0.3), 0px 1px 3px 1px rgba(60, 64, 67, 0.15);\n",
              "      fill: #174EA6;\n",
              "    }\n",
              "\n",
              "    [theme=dark] .colab-df-convert {\n",
              "      background-color: #3B4455;\n",
              "      fill: #D2E3FC;\n",
              "    }\n",
              "\n",
              "    [theme=dark] .colab-df-convert:hover {\n",
              "      background-color: #434B5C;\n",
              "      box-shadow: 0px 1px 3px 1px rgba(0, 0, 0, 0.15);\n",
              "      filter: drop-shadow(0px 1px 2px rgba(0, 0, 0, 0.3));\n",
              "      fill: #FFFFFF;\n",
              "    }\n",
              "  </style>\n",
              "\n",
              "      <script>\n",
              "        const buttonEl =\n",
              "          document.querySelector('#df-fc72dbfc-71af-4872-8615-ea68070b739e button.colab-df-convert');\n",
              "        buttonEl.style.display =\n",
              "          google.colab.kernel.accessAllowed ? 'block' : 'none';\n",
              "\n",
              "        async function convertToInteractive(key) {\n",
              "          const element = document.querySelector('#df-fc72dbfc-71af-4872-8615-ea68070b739e');\n",
              "          const dataTable =\n",
              "            await google.colab.kernel.invokeFunction('convertToInteractive',\n",
              "                                                     [key], {});\n",
              "          if (!dataTable) return;\n",
              "\n",
              "          const docLinkHtml = 'Like what you see? Visit the ' +\n",
              "            '<a target=\"_blank\" href=https://colab.research.google.com/notebooks/data_table.ipynb>data table notebook</a>'\n",
              "            + ' to learn more about interactive tables.';\n",
              "          element.innerHTML = '';\n",
              "          dataTable['output_type'] = 'display_data';\n",
              "          await google.colab.output.renderOutput(dataTable, element);\n",
              "          const docLink = document.createElement('div');\n",
              "          docLink.innerHTML = docLinkHtml;\n",
              "          element.appendChild(docLink);\n",
              "        }\n",
              "      </script>\n",
              "    </div>\n",
              "  </div>\n",
              "  "
            ]
          },
          "metadata": {},
          "execution_count": 5
        }
      ]
    },
    {
      "cell_type": "code",
      "source": [
        "df.info()"
      ],
      "metadata": {
        "id": "CnQVARenDgRs",
        "colab": {
          "base_uri": "https://localhost:8080/"
        },
        "outputId": "b5b3034d-8ab2-49aa-b638-484ff5c42a90"
      },
      "execution_count": 6,
      "outputs": [
        {
          "output_type": "stream",
          "name": "stdout",
          "text": [
            "<class 'pandas.core.frame.DataFrame'>\n",
            "RangeIndex: 9994 entries, 0 to 9993\n",
            "Data columns (total 21 columns):\n",
            " #   Column         Non-Null Count  Dtype         \n",
            "---  ------         --------------  -----         \n",
            " 0   Row ID         9994 non-null   int64         \n",
            " 1   Order ID       9994 non-null   object        \n",
            " 2   Order Date     9994 non-null   datetime64[ns]\n",
            " 3   Ship Date      9994 non-null   datetime64[ns]\n",
            " 4   Ship Mode      9994 non-null   object        \n",
            " 5   Customer ID    9994 non-null   object        \n",
            " 6   Customer Name  9994 non-null   object        \n",
            " 7   Segment        9994 non-null   object        \n",
            " 8   Country        9994 non-null   object        \n",
            " 9   City           9994 non-null   object        \n",
            " 10  State          9994 non-null   object        \n",
            " 11  Postal Code    9994 non-null   int64         \n",
            " 12  Region         9994 non-null   object        \n",
            " 13  Product ID     9994 non-null   object        \n",
            " 14  Category       9994 non-null   object        \n",
            " 15  Sub-Category   9994 non-null   object        \n",
            " 16  Product Name   9994 non-null   object        \n",
            " 17  Sales          9994 non-null   float64       \n",
            " 18  Quantity       9994 non-null   int64         \n",
            " 19  Discount       9994 non-null   float64       \n",
            " 20  Profit         9994 non-null   float64       \n",
            "dtypes: datetime64[ns](2), float64(3), int64(3), object(13)\n",
            "memory usage: 1.6+ MB\n"
          ]
        }
      ]
    },
    {
      "cell_type": "code",
      "source": [
        "los_angeles_data = df.loc[df['City'] == 'Los Angeles']"
      ],
      "metadata": {
        "id": "SsU2ZPFoDvTg"
      },
      "execution_count": 7,
      "outputs": []
    },
    {
      "cell_type": "code",
      "source": [
        "los_angeles_data.columns"
      ],
      "metadata": {
        "colab": {
          "base_uri": "https://localhost:8080/"
        },
        "id": "Nqe95jsJFpfE",
        "outputId": "7575630f-02fe-48e5-c483-f540323d1dae"
      },
      "execution_count": 8,
      "outputs": [
        {
          "output_type": "execute_result",
          "data": {
            "text/plain": [
              "Index(['Row ID', 'Order ID', 'Order Date', 'Ship Date', 'Ship Mode',\n",
              "       'Customer ID', 'Customer Name', 'Segment', 'Country', 'City', 'State',\n",
              "       'Postal Code', 'Region', 'Product ID', 'Category', 'Sub-Category',\n",
              "       'Product Name', 'Sales', 'Quantity', 'Discount', 'Profit'],\n",
              "      dtype='object')"
            ]
          },
          "metadata": {},
          "execution_count": 8
        }
      ]
    },
    {
      "cell_type": "code",
      "source": [
        "del_cols = ['Row ID', 'Order ID', 'Ship Date', 'Ship Mode',\n",
        "       'Customer ID', 'Customer Name', 'Segment', 'Country', 'City', 'State',\n",
        "       'Postal Code', 'Region', 'Product ID', 'Category', 'Sub-Category',\n",
        "       'Product Name', 'Quantity', 'Discount', 'Profit']\n",
        "los_angeles_data.drop(del_cols,axis=1,inplace=True)"
      ],
      "metadata": {
        "id": "htUV4v26D9sa"
      },
      "execution_count": 9,
      "outputs": []
    },
    {
      "cell_type": "code",
      "source": [
        "los_angeles_data.columns"
      ],
      "metadata": {
        "colab": {
          "base_uri": "https://localhost:8080/"
        },
        "id": "N1HaSOjYFxp-",
        "outputId": "79383ba2-cdeb-4f12-b5c4-358a17d2c285"
      },
      "execution_count": 10,
      "outputs": [
        {
          "output_type": "execute_result",
          "data": {
            "text/plain": [
              "Index(['Order Date', 'Sales'], dtype='object')"
            ]
          },
          "metadata": {},
          "execution_count": 10
        }
      ]
    },
    {
      "cell_type": "code",
      "source": [
        "los_angeles_data = los_angeles_data.groupby('Order Date').sum().reset_index()\n"
      ],
      "metadata": {
        "id": "YJ830MCXF0pd"
      },
      "execution_count": 11,
      "outputs": []
    },
    {
      "cell_type": "code",
      "source": [
        "los_angeles_data = los_angeles_data.set_index('Order Date')\n",
        "los_angeles_data"
      ],
      "metadata": {
        "id": "lPW9xrsFIQKw",
        "colab": {
          "base_uri": "https://localhost:8080/",
          "height": 455
        },
        "outputId": "022f3d10-11b3-402c-b060-8154f83c2e32"
      },
      "execution_count": 12,
      "outputs": [
        {
          "output_type": "execute_result",
          "data": {
            "text/plain": [
              "               Sales\n",
              "Order Date          \n",
              "2014-01-06    19.440\n",
              "2014-01-20    38.660\n",
              "2014-02-20    12.960\n",
              "2014-03-23   935.152\n",
              "2014-03-26    66.300\n",
              "...              ...\n",
              "2017-12-21    12.510\n",
              "2017-12-22   474.950\n",
              "2017-12-24  2970.432\n",
              "2017-12-25   424.172\n",
              "2017-12-29   695.944\n",
              "\n",
              "[331 rows x 1 columns]"
            ],
            "text/html": [
              "\n",
              "  <div id=\"df-5ab122d3-5476-4ab2-860b-c06713f8947a\">\n",
              "    <div class=\"colab-df-container\">\n",
              "      <div>\n",
              "<style scoped>\n",
              "    .dataframe tbody tr th:only-of-type {\n",
              "        vertical-align: middle;\n",
              "    }\n",
              "\n",
              "    .dataframe tbody tr th {\n",
              "        vertical-align: top;\n",
              "    }\n",
              "\n",
              "    .dataframe thead th {\n",
              "        text-align: right;\n",
              "    }\n",
              "</style>\n",
              "<table border=\"1\" class=\"dataframe\">\n",
              "  <thead>\n",
              "    <tr style=\"text-align: right;\">\n",
              "      <th></th>\n",
              "      <th>Sales</th>\n",
              "    </tr>\n",
              "    <tr>\n",
              "      <th>Order Date</th>\n",
              "      <th></th>\n",
              "    </tr>\n",
              "  </thead>\n",
              "  <tbody>\n",
              "    <tr>\n",
              "      <th>2014-01-06</th>\n",
              "      <td>19.440</td>\n",
              "    </tr>\n",
              "    <tr>\n",
              "      <th>2014-01-20</th>\n",
              "      <td>38.660</td>\n",
              "    </tr>\n",
              "    <tr>\n",
              "      <th>2014-02-20</th>\n",
              "      <td>12.960</td>\n",
              "    </tr>\n",
              "    <tr>\n",
              "      <th>2014-03-23</th>\n",
              "      <td>935.152</td>\n",
              "    </tr>\n",
              "    <tr>\n",
              "      <th>2014-03-26</th>\n",
              "      <td>66.300</td>\n",
              "    </tr>\n",
              "    <tr>\n",
              "      <th>...</th>\n",
              "      <td>...</td>\n",
              "    </tr>\n",
              "    <tr>\n",
              "      <th>2017-12-21</th>\n",
              "      <td>12.510</td>\n",
              "    </tr>\n",
              "    <tr>\n",
              "      <th>2017-12-22</th>\n",
              "      <td>474.950</td>\n",
              "    </tr>\n",
              "    <tr>\n",
              "      <th>2017-12-24</th>\n",
              "      <td>2970.432</td>\n",
              "    </tr>\n",
              "    <tr>\n",
              "      <th>2017-12-25</th>\n",
              "      <td>424.172</td>\n",
              "    </tr>\n",
              "    <tr>\n",
              "      <th>2017-12-29</th>\n",
              "      <td>695.944</td>\n",
              "    </tr>\n",
              "  </tbody>\n",
              "</table>\n",
              "<p>331 rows × 1 columns</p>\n",
              "</div>\n",
              "      <button class=\"colab-df-convert\" onclick=\"convertToInteractive('df-5ab122d3-5476-4ab2-860b-c06713f8947a')\"\n",
              "              title=\"Convert this dataframe to an interactive table.\"\n",
              "              style=\"display:none;\">\n",
              "        \n",
              "  <svg xmlns=\"http://www.w3.org/2000/svg\" height=\"24px\"viewBox=\"0 0 24 24\"\n",
              "       width=\"24px\">\n",
              "    <path d=\"M0 0h24v24H0V0z\" fill=\"none\"/>\n",
              "    <path d=\"M18.56 5.44l.94 2.06.94-2.06 2.06-.94-2.06-.94-.94-2.06-.94 2.06-2.06.94zm-11 1L8.5 8.5l.94-2.06 2.06-.94-2.06-.94L8.5 2.5l-.94 2.06-2.06.94zm10 10l.94 2.06.94-2.06 2.06-.94-2.06-.94-.94-2.06-.94 2.06-2.06.94z\"/><path d=\"M17.41 7.96l-1.37-1.37c-.4-.4-.92-.59-1.43-.59-.52 0-1.04.2-1.43.59L10.3 9.45l-7.72 7.72c-.78.78-.78 2.05 0 2.83L4 21.41c.39.39.9.59 1.41.59.51 0 1.02-.2 1.41-.59l7.78-7.78 2.81-2.81c.8-.78.8-2.07 0-2.86zM5.41 20L4 18.59l7.72-7.72 1.47 1.35L5.41 20z\"/>\n",
              "  </svg>\n",
              "      </button>\n",
              "      \n",
              "  <style>\n",
              "    .colab-df-container {\n",
              "      display:flex;\n",
              "      flex-wrap:wrap;\n",
              "      gap: 12px;\n",
              "    }\n",
              "\n",
              "    .colab-df-convert {\n",
              "      background-color: #E8F0FE;\n",
              "      border: none;\n",
              "      border-radius: 50%;\n",
              "      cursor: pointer;\n",
              "      display: none;\n",
              "      fill: #1967D2;\n",
              "      height: 32px;\n",
              "      padding: 0 0 0 0;\n",
              "      width: 32px;\n",
              "    }\n",
              "\n",
              "    .colab-df-convert:hover {\n",
              "      background-color: #E2EBFA;\n",
              "      box-shadow: 0px 1px 2px rgba(60, 64, 67, 0.3), 0px 1px 3px 1px rgba(60, 64, 67, 0.15);\n",
              "      fill: #174EA6;\n",
              "    }\n",
              "\n",
              "    [theme=dark] .colab-df-convert {\n",
              "      background-color: #3B4455;\n",
              "      fill: #D2E3FC;\n",
              "    }\n",
              "\n",
              "    [theme=dark] .colab-df-convert:hover {\n",
              "      background-color: #434B5C;\n",
              "      box-shadow: 0px 1px 3px 1px rgba(0, 0, 0, 0.15);\n",
              "      filter: drop-shadow(0px 1px 2px rgba(0, 0, 0, 0.3));\n",
              "      fill: #FFFFFF;\n",
              "    }\n",
              "  </style>\n",
              "\n",
              "      <script>\n",
              "        const buttonEl =\n",
              "          document.querySelector('#df-5ab122d3-5476-4ab2-860b-c06713f8947a button.colab-df-convert');\n",
              "        buttonEl.style.display =\n",
              "          google.colab.kernel.accessAllowed ? 'block' : 'none';\n",
              "\n",
              "        async function convertToInteractive(key) {\n",
              "          const element = document.querySelector('#df-5ab122d3-5476-4ab2-860b-c06713f8947a');\n",
              "          const dataTable =\n",
              "            await google.colab.kernel.invokeFunction('convertToInteractive',\n",
              "                                                     [key], {});\n",
              "          if (!dataTable) return;\n",
              "\n",
              "          const docLinkHtml = 'Like what you see? Visit the ' +\n",
              "            '<a target=\"_blank\" href=https://colab.research.google.com/notebooks/data_table.ipynb>data table notebook</a>'\n",
              "            + ' to learn more about interactive tables.';\n",
              "          element.innerHTML = '';\n",
              "          dataTable['output_type'] = 'display_data';\n",
              "          await google.colab.output.renderOutput(dataTable, element);\n",
              "          const docLink = document.createElement('div');\n",
              "          docLink.innerHTML = docLinkHtml;\n",
              "          element.appendChild(docLink);\n",
              "        }\n",
              "      </script>\n",
              "    </div>\n",
              "  </div>\n",
              "  "
            ]
          },
          "metadata": {},
          "execution_count": 12
        }
      ]
    },
    {
      "cell_type": "code",
      "source": [
        "y = los_angeles_data['Sales'].resample('MS').mean()"
      ],
      "metadata": {
        "id": "6GmC9wVoIVbq"
      },
      "execution_count": 13,
      "outputs": []
    },
    {
      "cell_type": "markdown",
      "source": [
        "### Visualizing Data"
      ],
      "metadata": {
        "id": "HFC8MBR0MtE0"
      }
    },
    {
      "cell_type": "code",
      "source": [
        "y.plot(figsize=(15,6))\n",
        "plt.title(\"Average Sales per Month\")\n",
        "plt.show()\n"
      ],
      "metadata": {
        "colab": {
          "base_uri": "https://localhost:8080/",
          "height": 508
        },
        "id": "pyr69s6cJMvK",
        "outputId": "177625f9-72fd-4b89-f636-44536598a629"
      },
      "execution_count": 14,
      "outputs": [
        {
          "output_type": "display_data",
          "data": {
            "text/plain": [
              "<Figure size 1500x600 with 1 Axes>"
            ],
            "image/png": "[encoded data removed]"
          },
          "metadata": {}
        }
      ]
    },
    {
      "cell_type": "markdown",
      "source": [
        "This time series dataset has seasonality pattern, such as sales are always low at the beginning of the year and high at the end of of the year"
      ],
      "metadata": {
        "id": "c438A2zhLWsl"
      }
    },
    {
      "cell_type": "markdown",
      "source": [
        "### Decompose to seasonality, trend and noise"
      ],
      "metadata": {
        "id": "lQ4u4LFlMMlz"
      }
    },
    {
      "cell_type": "code",
      "source": [
        "from pylab import rcParams\n",
        "\n",
        "rcParams['figure.figsize'] = 18,8\n",
        "\n",
        "#decompose seasonal data \n",
        "decomposition = sm.tsa.seasonal_decompose(y,model='additive')\n",
        "fig = decomposition.plot()\n",
        "plt.show()"
      ],
      "metadata": {
        "colab": {
          "base_uri": "https://localhost:8080/",
          "height": 504
        },
        "id": "YkGRhMtjJgrw",
        "outputId": "af75b009-54e7-484b-e210-fea15afb3fae"
      },
      "execution_count": 15,
      "outputs": [
        {
          "output_type": "display_data",
          "data": {
            "text/plain": [
              "<Figure size 1800x800 with 4 Axes>"
            ],
            "image/png": "[encoded data removed]"
          },
          "metadata": {}
        }
      ]
    },
    {
      "cell_type": "markdown",
      "source": [
        "###Split to train and test dataset "
      ],
      "metadata": {
        "id": "sTOeM7VvV1z1"
      }
    },
    {
      "cell_type": "code",
      "source": [
        "def train_test_split_timeseries(X,y,test_size=0.2):\n",
        "  split_size = int(len(X) * (1-test_size))\n",
        "  X_train,y_train = X[:split_size],y[:split_size]\n",
        "  X_test,y_test = X[split_size:],y[split_size:]\n",
        "  \n",
        "  return X_train,y_train,X_test,y_test \n"
      ],
      "metadata": {
        "id": "S3UThuAiXPlR"
      },
      "execution_count": 16,
      "outputs": []
    },
    {
      "cell_type": "code",
      "source": [
        "def get_timeseries_metrics(y_true,y_pred):\n",
        "  mae = tf.metrics.mean_absolute_error(y_true,y_pred)\n",
        "  mse = tf.metrics.mean_squared_error(y_true,y_pred)\n",
        "  rmse = tf.sqrt(mse)\n",
        "  #mape = (100 / len(y_true)) * tf.abs(tf.reduce_sum((y_true-y_pred)/y_true))\n",
        "\n",
        "  \n",
        "  return {\"mae\":mae.numpy(),\n",
        "          \"mse\":mse.numpy(),\n",
        "          \"rmse\":rmse.numpy()}"
      ],
      "metadata": {
        "id": "VcH7oHVMLTxN"
      },
      "execution_count": 137,
      "outputs": []
    },
    {
      "cell_type": "code",
      "source": [
        "timesteps = los_angeles_data.index.to_numpy()\n",
        "sales = los_angeles_data['Sales'].to_numpy()"
      ],
      "metadata": {
        "id": "wZffHgTTV8c0"
      },
      "execution_count": 48,
      "outputs": []
    },
    {
      "cell_type": "code",
      "source": [
        "split_size = 0.9\n",
        "X_train,y_train,X_test,y_test=train_test_split_timeseries(timesteps,sales)\n",
        "len(X_train),len(y_train),len(X_test),len(y_test)"
      ],
      "metadata": {
        "colab": {
          "base_uri": "https://localhost:8080/"
        },
        "id": "JD9zBc6QXHAf",
        "outputId": "25ebb20a-12b3-4113-c676-74e0960bd622"
      },
      "execution_count": 19,
      "outputs": [
        {
          "output_type": "execute_result",
          "data": {
            "text/plain": [
              "(264, 264, 67, 67)"
            ]
          },
          "metadata": {},
          "execution_count": 19
        }
      ]
    },
    {
      "cell_type": "markdown",
      "source": [
        "#Naive Forecasting"
      ],
      "metadata": {
        "id": "HRvTclulSDVF"
      }
    },
    {
      "cell_type": "code",
      "source": [
        "naive_forecast = y_test[:-1]\n",
        "naive_forecast"
      ],
      "metadata": {
        "colab": {
          "base_uri": "https://localhost:8080/"
        },
        "id": "doQmDz5CUBsl",
        "outputId": "918a8892-4ab6-46f6-fd27-9644f9f45be6"
      },
      "execution_count": 139,
      "outputs": [
        {
          "output_type": "execute_result",
          "data": {
            "text/plain": [
              "array([3359.952 ,  118.02  ,  171.288 ,   37.52  ,   60.622 , 1515.186 ,\n",
              "        840.125 ,  184.41  ,  124.22  ,  956.8035, 1413.172 ,  640.949 ,\n",
              "         87.92  ,  122.136 ,    5.94  , 1464.22  ,  479.984 ,   73.512 ,\n",
              "       2012.302 ,   99.87  ,  418.296 ,   25.92  ,  148.02  ,  957.768 ,\n",
              "       2088.066 ,   67.7   ,  557.83  ,  369.536 ,  174.8   ,   56.7   ,\n",
              "       2911.784 ,  190.01  ,   15.51  ,  878.816 , 1365.48  ,    9.24  ,\n",
              "         99.2   ,  159.98  , 1687.26  , 1324.574 ,   35.2   ,  441.72  ,\n",
              "        715.19  ,  261.536 ,  168.1   ,   29.69  ,  241.424 ,  186.85  ,\n",
              "         25.576 ,   34.24  ,  132.36  ,  323.71  ,  435.168 ,  193.896 ,\n",
              "         55.488 ,  178.89  ,   11.76  ,  374.376 , 1096.488 ,  172.26  ,\n",
              "         11.808 ,   51.99  ,   12.51  ,  474.95  , 2970.432 ,  424.172 ])"
            ]
          },
          "metadata": {},
          "execution_count": 139
        }
      ]
    },
    {
      "cell_type": "code",
      "source": [
        "len(naive_forecast),len(y_test[1:])"
      ],
      "metadata": {
        "colab": {
          "base_uri": "https://localhost:8080/"
        },
        "id": "r_omeOCbLkKq",
        "outputId": "356cf231-4142-4443-a6d6-8488a06b4b23"
      },
      "execution_count": 140,
      "outputs": [
        {
          "output_type": "execute_result",
          "data": {
            "text/plain": [
              "(66, 66)"
            ]
          },
          "metadata": {},
          "execution_count": 140
        }
      ]
    },
    {
      "cell_type": "code",
      "source": [
        "naive_result = get_timeseries_metrics(y_test[1:],naive_forecast)\n",
        "naive_result"
      ],
      "metadata": {
        "id": "Ata2VVOJSCuR",
        "colab": {
          "base_uri": "https://localhost:8080/"
        },
        "outputId": "11c0c4ec-5f64-480f-98ac-d42be613de58"
      },
      "execution_count": 141,
      "outputs": [
        {
          "output_type": "execute_result",
          "data": {
            "text/plain": [
              "{'mae': 670.1901212121212,\n",
              " 'mse': 1067513.8714691591,\n",
              " 'rmse': 1033.2056288412095}"
            ]
          },
          "metadata": {},
          "execution_count": 141
        }
      ]
    },
    {
      "cell_type": "markdown",
      "source": [
        "ARIMA FORECASTING"
      ],
      "metadata": {
        "id": "LvSZkrK0MJak"
      }
    },
    {
      "cell_type": "code",
      "source": [
        "p=d=q = range(0,2)\n",
        "pdq = list(itertools.product(p,d,q))\n",
        "seasonal_pdq = [(x[0],x[1],x[2],12) for x in pdq]"
      ],
      "metadata": {
        "id": "6kH3F0n8OdxL"
      },
      "execution_count": 142,
      "outputs": []
    },
    {
      "cell_type": "code",
      "source": [
        "param_dict = {}\n",
        "pdq_dict = {}\n",
        "for param in pdq:\n",
        "  for param_seasonal in seasonal_pdq:\n",
        "    try:\n",
        "      mod=sm.tsa.statespace.SARIMAX(y,\n",
        "                                    order=param,\n",
        "                                     seasonal_order = param_seasonal,\n",
        "                                    enforce_stationary=False,\n",
        "                                      enforce_invertibility=False)\n",
        "      results=mod.fit()\n",
        "      param_dict[param_seasonal] = results.aic\n",
        "      pdq_dict[param] = results.aic\n",
        "      print(f\"ARIMA{param}x{param_seasonal}-AIC:{results.aic}\")\n",
        "   \n",
        "    except:\n",
        "      continue\n",
        "    "
      ],
      "metadata": {
        "id": "Yxlz49raQPGv",
        "colab": {
          "base_uri": "https://localhost:8080/"
        },
        "outputId": "e65a5365-0964-49b4-8f49-ac3161b8ec06"
      },
      "execution_count": 143,
      "outputs": [
        {
          "output_type": "stream",
          "name": "stdout",
          "text": [
            "ARIMA(0, 0, 0)x(0, 0, 0, 12)-AIC:767.2648550037876\n",
            "ARIMA(0, 0, 0)x(0, 0, 1, 12)-AIC:1905.7296206518563\n",
            "ARIMA(0, 0, 0)x(0, 1, 0, 12)-AIC:583.1096743790582\n",
            "ARIMA(0, 0, 0)x(0, 1, 1, 12)-AIC:565.2910799446137\n",
            "ARIMA(0, 0, 0)x(1, 0, 0, 12)-AIC:759.8948348898882\n",
            "ARIMA(0, 0, 0)x(1, 0, 1, 12)-AIC:1950.5655820360412\n",
            "ARIMA(0, 0, 0)x(1, 1, 0, 12)-AIC:567.4334250305234\n",
            "ARIMA(0, 0, 0)x(1, 1, 1, 12)-AIC:564.7468919232512\n",
            "ARIMA(0, 0, 1)x(0, 0, 0, 12)-AIC:756.4154200675387\n",
            "ARIMA(0, 0, 1)x(0, 0, 1, 12)-AIC:1627.5123249324788\n",
            "ARIMA(0, 0, 1)x(0, 1, 0, 12)-AIC:584.8934445927254\n",
            "ARIMA(0, 0, 1)x(0, 1, 1, 12)-AIC:567.2730129966468\n",
            "ARIMA(0, 0, 1)x(1, 0, 0, 12)-AIC:754.3061518580512\n",
            "ARIMA(0, 0, 1)x(1, 0, 1, 12)-AIC:2128.177640426801\n",
            "ARIMA(0, 0, 1)x(1, 1, 0, 12)-AIC:569.4321859109893\n",
            "ARIMA(0, 0, 1)x(1, 1, 1, 12)-AIC:566.7468287533051\n",
            "ARIMA(0, 1, 0)x(0, 0, 0, 12)-AIC:743.4024666770914\n",
            "ARIMA(0, 1, 0)x(0, 0, 1, 12)-AIC:2275.047679943994\n",
            "ARIMA(0, 1, 0)x(0, 1, 0, 12)-AIC:588.9911377674537\n",
            "ARIMA(0, 1, 0)x(0, 1, 1, 12)-AIC:571.2821052296032\n",
            "ARIMA(0, 1, 0)x(1, 0, 0, 12)-AIC:744.7621938480896\n",
            "ARIMA(0, 1, 0)x(1, 0, 1, 12)-AIC:1961.375424107966\n",
            "ARIMA(0, 1, 0)x(1, 1, 0, 12)-AIC:573.5502214559654\n",
            "ARIMA(0, 1, 0)x(1, 1, 1, 12)-AIC:570.7011460420027\n",
            "ARIMA(0, 1, 1)x(0, 0, 0, 12)-AIC:714.121949050369\n",
            "ARIMA(0, 1, 1)x(0, 0, 1, 12)-AIC:1883.8798990319992\n",
            "ARIMA(0, 1, 1)x(0, 1, 0, 12)-AIC:572.6104768624585\n",
            "ARIMA(0, 1, 1)x(0, 1, 1, 12)-AIC:554.1865133234135\n",
            "ARIMA(0, 1, 1)x(1, 0, 0, 12)-AIC:713.2546888984949\n",
            "ARIMA(0, 1, 1)x(1, 0, 1, 12)-AIC:1854.7753074566615\n",
            "ARIMA(0, 1, 1)x(1, 1, 0, 12)-AIC:555.7499764282866\n",
            "ARIMA(0, 1, 1)x(1, 1, 1, 12)-AIC:552.8386472785627\n",
            "ARIMA(1, 0, 0)x(0, 0, 0, 12)-AIC:749.6460763148605\n",
            "ARIMA(1, 0, 0)x(0, 0, 1, 12)-AIC:1784.8036530676643\n",
            "ARIMA(1, 0, 0)x(0, 1, 0, 12)-AIC:585.0795372394819\n",
            "ARIMA(1, 0, 0)x(0, 1, 1, 12)-AIC:567.2852263350516\n",
            "ARIMA(1, 0, 0)x(1, 0, 0, 12)-AIC:751.5785086412027\n",
            "ARIMA(1, 0, 0)x(1, 0, 1, 12)-AIC:1644.9508815865051\n",
            "ARIMA(1, 0, 0)x(1, 1, 0, 12)-AIC:569.4328508161625\n",
            "ARIMA(1, 0, 0)x(1, 1, 1, 12)-AIC:566.7468696640095\n",
            "ARIMA(1, 0, 1)x(0, 0, 0, 12)-AIC:731.4703356127815\n",
            "ARIMA(1, 0, 1)x(0, 0, 1, 12)-AIC:2151.8433516127516\n",
            "ARIMA(1, 0, 1)x(0, 1, 0, 12)-AIC:585.5657704037831\n",
            "ARIMA(1, 0, 1)x(0, 1, 1, 12)-AIC:567.392537268264\n",
            "ARIMA(1, 0, 1)x(1, 0, 0, 12)-AIC:730.6696834401849\n",
            "ARIMA(1, 0, 1)x(1, 0, 1, 12)-AIC:2036.5702670112335\n",
            "ARIMA(1, 0, 1)x(1, 1, 0, 12)-AIC:571.3331097328257\n",
            "ARIMA(1, 0, 1)x(1, 1, 1, 12)-AIC:568.5961813800267\n",
            "ARIMA(1, 1, 0)x(0, 0, 0, 12)-AIC:736.5303211543111\n",
            "ARIMA(1, 1, 0)x(0, 0, 1, 12)-AIC:2197.5231141337795\n",
            "ARIMA(1, 1, 0)x(0, 1, 0, 12)-AIC:588.2810845229347\n",
            "ARIMA(1, 1, 0)x(0, 1, 1, 12)-AIC:569.3367228447939\n",
            "ARIMA(1, 1, 0)x(1, 0, 0, 12)-AIC:734.9594797167689\n",
            "ARIMA(1, 1, 0)x(1, 0, 1, 12)-AIC:1954.4906037024011\n",
            "ARIMA(1, 1, 0)x(1, 1, 0, 12)-AIC:570.4119260832097\n",
            "ARIMA(1, 1, 0)x(1, 1, 1, 12)-AIC:568.3003153383117\n",
            "ARIMA(1, 1, 1)x(0, 0, 0, 12)-AIC:716.000041433812\n",
            "ARIMA(1, 1, 1)x(0, 0, 1, 12)-AIC:2058.1278695184637\n",
            "ARIMA(1, 1, 1)x(0, 1, 0, 12)-AIC:574.521898338306\n",
            "ARIMA(1, 1, 1)x(0, 1, 1, 12)-AIC:556.1716886285559\n",
            "ARIMA(1, 1, 1)x(1, 0, 0, 12)-AIC:714.5270887710298\n",
            "ARIMA(1, 1, 1)x(1, 0, 1, 12)-AIC:1827.2517901830265\n",
            "ARIMA(1, 1, 1)x(1, 1, 0, 12)-AIC:557.7191510429767\n",
            "ARIMA(1, 1, 1)x(1, 1, 1, 12)-AIC:554.83615756519\n"
          ]
        }
      ]
    },
    {
      "cell_type": "code",
      "source": [
        "mod = sm.tsa.statespace.SARIMAX(y,\n",
        "                                order=(1,1,1),\n",
        "                                seasonal_order=(1,1,1,12),\n",
        "                                enforce_stationary=False,\n",
        "                                enforce_invertibility=False)\n",
        "results = mod.fit()\n",
        "print(results.summary().tables[1])"
      ],
      "metadata": {
        "colab": {
          "base_uri": "https://localhost:8080/"
        },
        "id": "aKXYExHgM67G",
        "outputId": "e79971dc-52bd-4aba-9f22-8d8af2f7d11a"
      },
      "execution_count": 144,
      "outputs": [
        {
          "output_type": "stream",
          "name": "stdout",
          "text": [
            "==============================================================================\n",
            "                 coef    std err          z      P>|z|      [0.025      0.975]\n",
            "------------------------------------------------------------------------------\n",
            "ar.L1         -0.0088      0.247     -0.036      0.972      -0.492       0.475\n",
            "ma.L1         -1.0002    199.377     -0.005      0.996    -391.771     389.771\n",
            "ar.S.L12      -0.3507      0.184     -1.909      0.056      -0.711       0.009\n",
            "ma.S.L12      -1.0000    199.427     -0.005      0.996    -391.870     389.870\n",
            "sigma2      1.817e+05      0.001   1.65e+08      0.000    1.82e+05    1.82e+05\n",
            "==============================================================================\n"
          ]
        }
      ]
    },
    {
      "cell_type": "code",
      "source": [
        "results.plot_diagnostics(figsize=(16,8))\n",
        "plt.show()"
      ],
      "metadata": {
        "colab": {
          "base_uri": "https://localhost:8080/",
          "height": 583
        },
        "id": "oqEFMFbWOyQb",
        "outputId": "14428952-fa07-4c7b-d4a6-3876f182d262"
      },
      "execution_count": 56,
      "outputs": [
        {
          "output_type": "display_data",
          "data": {
            "text/plain": [
              "<Figure size 1600x800 with 4 Axes>"
            ],
            "image/png": "[encoded data removed]"
          },
          "metadata": {}
        }
      ]
    },
    {
      "cell_type": "code",
      "source": [
        "pred = results.get_prediction(start=pd.to_datetime('2017-01-01'),\n",
        "                              dynamic=False)\n",
        "pred_ci = pred.conf_int()\n",
        "\n",
        "ax = y['2014':].plot(label='observed')\n",
        "pred.predicted_mean.plot(ax=ax,label='One-step ahead Forecast',\n",
        "                         alpha=.7,figsize=(14,7))\n",
        "\n",
        "ax.fill_between(pred_ci.index,\n",
        "                pred_ci.iloc[:,0],\n",
        "                pred_ci.iloc[:,1],color='k',alpha=.2)\n",
        "ax.set_xlabel('Date')\n",
        "ax.set_ylabel('Furniture Sales')\n",
        "plt.legend()\n",
        "plt.show()"
      ],
      "metadata": {
        "id": "oKI7AZVRO8V9",
        "colab": {
          "base_uri": "https://localhost:8080/",
          "height": 573
        },
        "outputId": "7ac9129a-fcab-40e1-ce10-d6cc45a15d36"
      },
      "execution_count": 145,
      "outputs": [
        {
          "output_type": "display_data",
          "data": {
            "text/plain": [
              "<Figure size 1400x700 with 1 Axes>"
            ],
            "image/png": "[encoded data removed]"
          },
          "metadata": {}
        }
      ]
    },
    {
      "cell_type": "code",
      "source": [
        "arima_pred = pred.predicted_mean"
      ],
      "metadata": {
        "id": "lLyg2rBxQFa9"
      },
      "execution_count": 146,
      "outputs": []
    },
    {
      "cell_type": "code",
      "source": [
        "pred_results = get_timeseries_metrics(y['2017-01-01':],arima_pred)\n",
        "pred_results"
      ],
      "metadata": {
        "colab": {
          "base_uri": "https://localhost:8080/"
        },
        "id": "Rh_EC7JTU4BD",
        "outputId": "e2c6d326-9296-463a-99ee-d79c109aadb6"
      },
      "execution_count": 147,
      "outputs": [
        {
          "output_type": "execute_result",
          "data": {
            "text/plain": [
              "{'mae': 279.57402031695517,\n",
              " 'mse': 162060.8452131274,\n",
              " 'rmse': 402.56781442774013}"
            ]
          },
          "metadata": {},
          "execution_count": 147
        }
      ]
    },
    {
      "cell_type": "markdown",
      "source": [
        "### STACKED LSTM "
      ],
      "metadata": {
        "id": "9cEnSkWaX1Z8"
      }
    },
    {
      "cell_type": "code",
      "source": [
        "WINDOW_SIZE = 11\n",
        "HORIZON = 1"
      ],
      "metadata": {
        "id": "rb89ysNkYE7D"
      },
      "execution_count": 129,
      "outputs": []
    },
    {
      "cell_type": "code",
      "source": [
        "def get_labelled_window(x,horizon):\n",
        "  return x[:,:-horizon], x[:,-horizon:]"
      ],
      "metadata": {
        "id": "w80nyKKTZWHA"
      },
      "execution_count": 130,
      "outputs": []
    },
    {
      "cell_type": "code",
      "source": [
        "def make_windows(x,window_size = WINDOW_SIZE,horizon=HORIZON):\n",
        "  window_step = np.expand_dims(np.arange(window_size+horizon),axis=0)\n",
        "  window_indexes = window_step + np.expand_dims(np.arange(len(x)-(window_size+horizon-1)),axis=0).T\n",
        "  window_array = x[window_indexes]\n",
        "  windows,label = get_labelled_window(window_array,horizon=horizon)    \n",
        "  return windows,label                                     "
      ],
      "metadata": {
        "id": "NduH2JjAVMf7"
      },
      "execution_count": 131,
      "outputs": []
    },
    {
      "cell_type": "code",
      "source": [
        "full_windows,full_labels = make_windows(sales,window_size=WINDOW_SIZE,horizon=HORIZON)\n",
        "len(full_windows),len(full_labels)"
      ],
      "metadata": {
        "colab": {
          "base_uri": "https://localhost:8080/"
        },
        "id": "c44NG0OCZULA",
        "outputId": "f850ba58-2e95-4ac5-9cfb-21e223a59f04"
      },
      "execution_count": 132,
      "outputs": [
        {
          "output_type": "execute_result",
          "data": {
            "text/plain": [
              "(320, 320)"
            ]
          },
          "metadata": {},
          "execution_count": 132
        }
      ]
    },
    {
      "cell_type": "code",
      "source": [
        "train_windows,train_labels,test_windows,test_labels = train_test_split_timeseries(full_windows,\n",
        "                                                                                  full_labels,\n",
        "                                                                                  test_size=0.1)"
      ],
      "metadata": {
        "id": "QUKMXu-UcfYd"
      },
      "execution_count": 133,
      "outputs": []
    },
    {
      "cell_type": "code",
      "source": [
        "#creating training data\n",
        "train_windows = tf.data.Dataset.from_tensor_slices(train_windows)\n",
        "train_labels = tf.data.Dataset.from_tensor_slices(train_labels)\n",
        "\n",
        "#create testing data\n",
        "test_windows = tf.data.Dataset.from_tensor_slices(test_windows)\n",
        "test_labels = tf.data.Dataset.from_tensor_slices(test_labels)\n",
        "\n",
        "#zip feature and labels \n",
        "train_dataset = tf.data.Dataset.zip((train_windows,train_labels))\n",
        "test_dataset = tf.data.Dataset.zip((test_windows,test_labels))"
      ],
      "metadata": {
        "id": "kKqcFnWOnkcH"
      },
      "execution_count": 107,
      "outputs": []
    },
    {
      "cell_type": "code",
      "source": [
        "#Data pipelining for better performance\n",
        "BATCH_SIZE = 32\n",
        "train_dataset = train_dataset.batch(BATCH_SIZE).prefetch(tf.data.AUTOTUNE)\n",
        "test_dataset = test_dataset.batch(BATCH_SIZE).prefetch(tf.data.AUTOTUNE)"
      ],
      "metadata": {
        "id": "IkmbMVkImHmC"
      },
      "execution_count": 108,
      "outputs": []
    },
    {
      "cell_type": "code",
      "source": [
        "EPOCHS = 5000\n"
      ],
      "metadata": {
        "id": "uTeHUGLmawPN"
      },
      "execution_count": 109,
      "outputs": []
    },
    {
      "cell_type": "markdown",
      "source": [
        "## CUSTOM STACKED LSTM LAYERS"
      ],
      "metadata": {
        "id": "UFQQaLK-CN_C"
      }
    },
    {
      "cell_type": "code",
      "source": [
        "tf.random.set_seed(42)\n",
        "inputs = tf.keras.layers.Input(shape = WINDOW_SIZE)\n",
        "x = tf.keras.layers.Lambda(lambda x :tf.expand_dims(x,axis=1))(inputs)\n",
        "x = tf.keras.layers.LSTM(32,activation=\"relu\",return_sequences=True)(x)\n",
        "x = tf.keras.layers.Dropout(0.2)(x)\n",
        "x = tf.keras.layers.LSTM(512,activation=\"relu\",return_sequences=True)(x)\n",
        "x = tf.keras.layers.Dropout(0.2)(x)\n",
        "x = tf.keras.layers.LSTM(512,activation=\"relu\",return_sequences=True)(x)\n",
        "x = tf.keras.layers.Dropout(0.2)(x)\n",
        "x = tf.keras.layers.LSTM(512,activation=\"relu\",return_sequences=True)(x)\n",
        "x = tf.keras.layers.Dropout(0.2)(x)\n",
        "x = tf.keras.layers.LSTM(1024,activation=\"relu\",return_sequences=True)(x)\n",
        "x = tf.keras.layers.Dropout(0.2)(x)\n",
        "x = tf.keras.layers.LSTM(1024,activation=\"relu\",return_sequences=True)(x)\n",
        "x = tf.keras.layers.Dropout(0.2)(x)\n",
        "x = tf.keras.layers.LSTM(1024,activation=\"relu\",return_sequences=True)(x)\n",
        "x = tf.keras.layers.Dropout(0.2)(x)\n",
        "x = tf.keras.layers.LSTM(1024,activation=\"relu\",return_sequences=True)(x)\n",
        "x = tf.keras.layers.Dropout(0.2)(x)\n",
        "x = tf.keras.layers.LSTM(1024,activation=\"relu\",return_sequences=True)(x)\n",
        "x = tf.keras.layers.Dropout(0.2)(x)\n",
        "x = tf.keras.layers.LSTM(1024,activation=\"relu\")(x)\n",
        "x = tf.keras.layers.Dropout(0.2)(x)\n",
        "x = tf.keras.layers.Dense(64,activation=\"relu\")(x)\n",
        "outputs = tf.keras.layers.Dense(HORIZON,activation=\"linear\")(x)\n",
        "\n",
        "stacked_lstm = tf.keras.Model(inputs = inputs,outputs=outputs)\n",
        "stacked_lstm.compile(loss=\"mae\",\n",
        "                     optimizer = tf.keras.optimizers.Adam())\n",
        "\n",
        "stacked_lstm.fit(train_dataset,\n",
        "                 epochs = EPOCHS,\n",
        "                 #batch_size = BATCH_SIZE,\n",
        "                 validation_data=test_dataset,\n",
        "                 callbacks = [tf.keras.callbacks.EarlyStopping(monitor=\"val_loss\",\n",
        "                                                               patience = 100,\n",
        "                                                               restore_best_weights=True)]\n",
        "                                                               )\n"
      ],
      "metadata": {
        "colab": {
          "base_uri": "https://localhost:8080/"
        },
        "id": "7B6u4ZE8aAet",
        "outputId": "a0a804c9-3149-4463-b799-19862f533cd6"
      },
      "execution_count": 112,
      "outputs": [
        {
          "output_type": "stream",
          "name": "stderr",
          "text": [
            "WARNING:tensorflow:Layer lstm_80 will not use cuDNN kernels since it doesn't meet the criteria. It will use a generic GPU kernel as fallback when running on GPU.\n",
            "WARNING:tensorflow:Layer lstm_81 will not use cuDNN kernels since it doesn't meet the criteria. It will use a generic GPU kernel as fallback when running on GPU.\n",
            "WARNING:tensorflow:Layer lstm_82 will not use cuDNN kernels since it doesn't meet the criteria. It will use a generic GPU kernel as fallback when running on GPU.\n",
            "WARNING:tensorflow:Layer lstm_83 will not use cuDNN kernels since it doesn't meet the criteria. It will use a generic GPU kernel as fallback when running on GPU.\n",
            "WARNING:tensorflow:Layer lstm_84 will not use cuDNN kernels since it doesn't meet the criteria. It will use a generic GPU kernel as fallback when running on GPU.\n",
            "WARNING:tensorflow:Layer lstm_85 will not use cuDNN kernels since it doesn't meet the criteria. It will use a generic GPU kernel as fallback when running on GPU.\n",
            "WARNING:tensorflow:Layer lstm_86 will not use cuDNN kernels since it doesn't meet the criteria. It will use a generic GPU kernel as fallback when running on GPU.\n",
            "WARNING:tensorflow:Layer lstm_87 will not use cuDNN kernels since it doesn't meet the criteria. It will use a generic GPU kernel as fallback when running on GPU.\n",
            "WARNING:tensorflow:Layer lstm_88 will not use cuDNN kernels since it doesn't meet the criteria. It will use a generic GPU kernel as fallback when running on GPU.\n",
            "WARNING:tensorflow:Layer lstm_89 will not use cuDNN kernels since it doesn't meet the criteria. It will use a generic GPU kernel as fallback when running on GPU.\n"
          ]
        },
        {
          "output_type": "stream",
          "name": "stdout",
          "text": [
            "Epoch 1/5000\n",
            "9/9 [==============================] - 19s 256ms/step - loss: 556.1504 - val_loss: 407.1989\n",
            "Epoch 2/5000\n",
            "9/9 [==============================] - 1s 68ms/step - loss: 665.0549 - val_loss: 406.4125\n",
            "Epoch 3/5000\n",
            "9/9 [==============================] - 1s 70ms/step - loss: 554.0099 - val_loss: 396.6507\n",
            "Epoch 4/5000\n",
            "9/9 [==============================] - 1s 72ms/step - loss: 523.7742 - val_loss: 377.2674\n",
            "Epoch 5/5000\n",
            "9/9 [==============================] - 1s 74ms/step - loss: 508.2141 - val_loss: 358.7589\n",
            "Epoch 6/5000\n",
            "9/9 [==============================] - 0s 56ms/step - loss: 492.7586 - val_loss: 364.1132\n",
            "Epoch 7/5000\n",
            "9/9 [==============================] - 0s 55ms/step - loss: 510.2169 - val_loss: 385.3699\n",
            "Epoch 8/5000\n",
            "9/9 [==============================] - 1s 59ms/step - loss: 505.5280 - val_loss: 384.6624\n",
            "Epoch 9/5000\n",
            "9/9 [==============================] - 1s 60ms/step - loss: 520.8948 - val_loss: 377.2191\n",
            "Epoch 10/5000\n",
            "9/9 [==============================] - 1s 68ms/step - loss: 506.7224 - val_loss: 352.1394\n",
            "Epoch 11/5000\n",
            "9/9 [==============================] - 1s 60ms/step - loss: 473.4600 - val_loss: 353.3124\n",
            "Epoch 12/5000\n",
            "9/9 [==============================] - 1s 72ms/step - loss: 476.8512 - val_loss: 341.9462\n",
            "Epoch 13/5000\n",
            "9/9 [==============================] - 1s 57ms/step - loss: 461.2375 - val_loss: 353.1654\n",
            "Epoch 14/5000\n",
            "9/9 [==============================] - 1s 59ms/step - loss: 450.9508 - val_loss: 354.5406\n",
            "Epoch 15/5000\n",
            "9/9 [==============================] - 1s 63ms/step - loss: 448.8012 - val_loss: 367.4775\n",
            "Epoch 16/5000\n",
            "9/9 [==============================] - 1s 58ms/step - loss: 464.4167 - val_loss: 361.7088\n",
            "Epoch 17/5000\n",
            "9/9 [==============================] - 1s 79ms/step - loss: 432.5768 - val_loss: 372.1081\n",
            "Epoch 18/5000\n",
            "9/9 [==============================] - 1s 98ms/step - loss: 421.7190 - val_loss: 370.0170\n",
            "Epoch 19/5000\n",
            "9/9 [==============================] - 1s 118ms/step - loss: 464.8734 - val_loss: 351.7086\n",
            "Epoch 20/5000\n",
            "9/9 [==============================] - 1s 108ms/step - loss: 434.5032 - val_loss: 354.6331\n",
            "Epoch 21/5000\n",
            "9/9 [==============================] - 1s 59ms/step - loss: 435.9603 - val_loss: 384.4623\n",
            "Epoch 22/5000\n",
            "9/9 [==============================] - 1s 57ms/step - loss: 432.3082 - val_loss: 398.7401\n",
            "Epoch 23/5000\n",
            "9/9 [==============================] - 1s 57ms/step - loss: 481.0016 - val_loss: 368.9333\n",
            "Epoch 24/5000\n",
            "9/9 [==============================] - 1s 55ms/step - loss: 426.1382 - val_loss: 368.9796\n",
            "Epoch 25/5000\n",
            "9/9 [==============================] - 1s 56ms/step - loss: 426.5627 - val_loss: 367.2109\n",
            "Epoch 26/5000\n",
            "9/9 [==============================] - 1s 57ms/step - loss: 443.9615 - val_loss: 364.0864\n",
            "Epoch 27/5000\n",
            "9/9 [==============================] - 1s 57ms/step - loss: 437.1710 - val_loss: 384.6264\n",
            "Epoch 28/5000\n",
            "9/9 [==============================] - 1s 76ms/step - loss: 420.0648 - val_loss: 326.5051\n",
            "Epoch 29/5000\n",
            "9/9 [==============================] - 1s 59ms/step - loss: 405.8449 - val_loss: 360.6855\n",
            "Epoch 30/5000\n",
            "9/9 [==============================] - 1s 58ms/step - loss: 409.5363 - val_loss: 364.3589\n",
            "Epoch 31/5000\n",
            "9/9 [==============================] - 1s 57ms/step - loss: 416.2435 - val_loss: 398.5242\n",
            "Epoch 32/5000\n",
            "9/9 [==============================] - 1s 57ms/step - loss: 435.8067 - val_loss: 383.9168\n",
            "Epoch 33/5000\n",
            "9/9 [==============================] - 1s 59ms/step - loss: 444.5899 - val_loss: 349.2212\n",
            "Epoch 34/5000\n",
            "9/9 [==============================] - 1s 57ms/step - loss: 447.4944 - val_loss: 358.7994\n",
            "Epoch 35/5000\n",
            "9/9 [==============================] - 1s 58ms/step - loss: 458.9949 - val_loss: 351.6266\n",
            "Epoch 36/5000\n",
            "9/9 [==============================] - 1s 61ms/step - loss: 400.6622 - val_loss: 360.0652\n",
            "Epoch 37/5000\n",
            "9/9 [==============================] - 1s 59ms/step - loss: 441.2025 - val_loss: 373.1323\n",
            "Epoch 38/5000\n",
            "9/9 [==============================] - 1s 69ms/step - loss: 435.3051 - val_loss: 366.3246\n",
            "Epoch 39/5000\n",
            "9/9 [==============================] - 1s 109ms/step - loss: 394.0790 - val_loss: 388.0120\n",
            "Epoch 40/5000\n",
            "9/9 [==============================] - 1s 119ms/step - loss: 392.0289 - val_loss: 371.0832\n",
            "Epoch 41/5000\n",
            "9/9 [==============================] - 1s 113ms/step - loss: 424.4655 - val_loss: 401.3016\n",
            "Epoch 42/5000\n",
            "9/9 [==============================] - 1s 68ms/step - loss: 403.2306 - val_loss: 383.5267\n",
            "Epoch 43/5000\n",
            "9/9 [==============================] - 0s 56ms/step - loss: 411.9330 - val_loss: 383.4884\n",
            "Epoch 44/5000\n",
            "9/9 [==============================] - 1s 58ms/step - loss: 415.6081 - val_loss: 402.0376\n",
            "Epoch 45/5000\n",
            "9/9 [==============================] - 1s 61ms/step - loss: 375.8089 - val_loss: 377.4656\n",
            "Epoch 46/5000\n",
            "9/9 [==============================] - 1s 60ms/step - loss: 471.1198 - val_loss: 371.2052\n",
            "Epoch 47/5000\n",
            "9/9 [==============================] - 1s 60ms/step - loss: 438.4008 - val_loss: 387.5803\n",
            "Epoch 48/5000\n",
            "9/9 [==============================] - 1s 57ms/step - loss: 404.3878 - val_loss: 506.8365\n",
            "Epoch 49/5000\n",
            "9/9 [==============================] - 1s 62ms/step - loss: 392.4399 - val_loss: 405.8252\n",
            "Epoch 50/5000\n",
            "9/9 [==============================] - 1s 57ms/step - loss: 394.1760 - val_loss: 434.2286\n",
            "Epoch 51/5000\n",
            "9/9 [==============================] - 1s 59ms/step - loss: 404.6647 - val_loss: 491.9251\n",
            "Epoch 52/5000\n",
            "9/9 [==============================] - 0s 55ms/step - loss: 399.5956 - val_loss: 377.5900\n",
            "Epoch 53/5000\n",
            "9/9 [==============================] - 1s 59ms/step - loss: 365.4736 - val_loss: 368.9810\n",
            "Epoch 54/5000\n",
            "9/9 [==============================] - 1s 56ms/step - loss: 384.0680 - val_loss: 370.3946\n",
            "Epoch 55/5000\n",
            "9/9 [==============================] - 1s 60ms/step - loss: 399.8565 - val_loss: 382.9827\n",
            "Epoch 56/5000\n",
            "9/9 [==============================] - 1s 61ms/step - loss: 393.5624 - val_loss: 408.7728\n",
            "Epoch 57/5000\n",
            "9/9 [==============================] - 1s 63ms/step - loss: 401.9946 - val_loss: 386.8239\n",
            "Epoch 58/5000\n",
            "9/9 [==============================] - 1s 58ms/step - loss: 410.9659 - val_loss: 403.5442\n",
            "Epoch 59/5000\n",
            "9/9 [==============================] - 1s 60ms/step - loss: 381.2274 - val_loss: 406.2027\n",
            "Epoch 60/5000\n",
            "9/9 [==============================] - 1s 109ms/step - loss: 432.7100 - val_loss: 396.8718\n",
            "Epoch 61/5000\n",
            "9/9 [==============================] - 1s 121ms/step - loss: 449.5292 - val_loss: 401.1424\n",
            "Epoch 62/5000\n",
            "9/9 [==============================] - 1s 114ms/step - loss: 389.2354 - val_loss: 384.8129\n",
            "Epoch 63/5000\n",
            "9/9 [==============================] - 1s 70ms/step - loss: 420.4112 - val_loss: 499.2697\n",
            "Epoch 64/5000\n",
            "9/9 [==============================] - 1s 57ms/step - loss: 390.1197 - val_loss: 423.7545\n",
            "Epoch 65/5000\n",
            "9/9 [==============================] - 1s 58ms/step - loss: 394.0756 - val_loss: 388.1506\n",
            "Epoch 66/5000\n",
            "9/9 [==============================] - 0s 54ms/step - loss: 388.9828 - val_loss: 383.2732\n",
            "Epoch 67/5000\n",
            "9/9 [==============================] - 1s 57ms/step - loss: 401.9769 - val_loss: 481.1812\n",
            "Epoch 68/5000\n",
            "9/9 [==============================] - 1s 58ms/step - loss: 441.1090 - val_loss: 415.4958\n",
            "Epoch 69/5000\n",
            "9/9 [==============================] - 0s 53ms/step - loss: 439.2169 - val_loss: 439.0771\n",
            "Epoch 70/5000\n",
            "9/9 [==============================] - 0s 54ms/step - loss: 378.5317 - val_loss: 412.0759\n",
            "Epoch 71/5000\n",
            "9/9 [==============================] - 0s 56ms/step - loss: 384.6860 - val_loss: 425.7778\n",
            "Epoch 72/5000\n",
            "9/9 [==============================] - 1s 59ms/step - loss: 367.5182 - val_loss: 456.4019\n",
            "Epoch 73/5000\n",
            "9/9 [==============================] - 1s 55ms/step - loss: 412.7794 - val_loss: 391.9124\n",
            "Epoch 74/5000\n",
            "9/9 [==============================] - 1s 59ms/step - loss: 431.9153 - val_loss: 460.5645\n",
            "Epoch 75/5000\n",
            "9/9 [==============================] - 1s 58ms/step - loss: 371.3622 - val_loss: 417.8526\n",
            "Epoch 76/5000\n",
            "9/9 [==============================] - 1s 62ms/step - loss: 421.5093 - val_loss: 592.3419\n",
            "Epoch 77/5000\n",
            "9/9 [==============================] - 1s 59ms/step - loss: 420.8700 - val_loss: 386.2879\n",
            "Epoch 78/5000\n",
            "9/9 [==============================] - 0s 55ms/step - loss: 417.3875 - val_loss: 384.4701\n",
            "Epoch 79/5000\n",
            "9/9 [==============================] - 1s 70ms/step - loss: 471.0548 - val_loss: 383.3912\n",
            "Epoch 80/5000\n",
            "9/9 [==============================] - 1s 103ms/step - loss: 412.3214 - val_loss: 484.1915\n",
            "Epoch 81/5000\n",
            "9/9 [==============================] - 1s 114ms/step - loss: 402.1467 - val_loss: 445.4340\n",
            "Epoch 82/5000\n",
            "9/9 [==============================] - 1s 105ms/step - loss: 397.2737 - val_loss: 369.5325\n",
            "Epoch 83/5000\n",
            "9/9 [==============================] - 0s 53ms/step - loss: 401.8541 - val_loss: 375.7573\n",
            "Epoch 84/5000\n",
            "9/9 [==============================] - 1s 57ms/step - loss: 407.5458 - val_loss: 407.8946\n",
            "Epoch 85/5000\n",
            "9/9 [==============================] - 1s 58ms/step - loss: 410.3144 - val_loss: 408.1839\n",
            "Epoch 86/5000\n",
            "9/9 [==============================] - 1s 57ms/step - loss: 372.1818 - val_loss: 477.9343\n",
            "Epoch 87/5000\n",
            "9/9 [==============================] - 1s 55ms/step - loss: 391.0371 - val_loss: 391.3239\n",
            "Epoch 88/5000\n",
            "9/9 [==============================] - 1s 61ms/step - loss: 381.7686 - val_loss: 436.2424\n",
            "Epoch 89/5000\n",
            "9/9 [==============================] - 0s 54ms/step - loss: 400.6937 - val_loss: 364.3541\n",
            "Epoch 90/5000\n",
            "9/9 [==============================] - 1s 55ms/step - loss: 382.1364 - val_loss: 444.3106\n",
            "Epoch 91/5000\n",
            "9/9 [==============================] - 0s 53ms/step - loss: 374.8753 - val_loss: 393.1209\n",
            "Epoch 92/5000\n",
            "9/9 [==============================] - 1s 58ms/step - loss: 417.4618 - val_loss: 394.6592\n",
            "Epoch 93/5000\n",
            "9/9 [==============================] - 1s 56ms/step - loss: 387.8558 - val_loss: 400.9007\n",
            "Epoch 94/5000\n",
            "9/9 [==============================] - 1s 60ms/step - loss: 366.0915 - val_loss: 385.2554\n",
            "Epoch 95/5000\n",
            "9/9 [==============================] - 1s 64ms/step - loss: 389.3652 - val_loss: 427.2346\n",
            "Epoch 96/5000\n",
            "9/9 [==============================] - 1s 64ms/step - loss: 426.9889 - val_loss: 380.1135\n",
            "Epoch 97/5000\n",
            "9/9 [==============================] - 1s 59ms/step - loss: 415.9108 - val_loss: 393.1918\n",
            "Epoch 98/5000\n",
            "9/9 [==============================] - 1s 62ms/step - loss: 390.7216 - val_loss: 378.9811\n",
            "Epoch 99/5000\n",
            "9/9 [==============================] - 1s 57ms/step - loss: 389.2438 - val_loss: 390.5890\n",
            "Epoch 100/5000\n",
            "9/9 [==============================] - 1s 63ms/step - loss: 385.9867 - val_loss: 369.3959\n",
            "Epoch 101/5000\n",
            "9/9 [==============================] - 1s 95ms/step - loss: 394.1837 - val_loss: 379.8226\n",
            "Epoch 102/5000\n",
            "9/9 [==============================] - 1s 111ms/step - loss: 387.0145 - val_loss: 450.3166\n",
            "Epoch 103/5000\n",
            "9/9 [==============================] - 1s 97ms/step - loss: 381.7418 - val_loss: 383.0320\n",
            "Epoch 104/5000\n",
            "9/9 [==============================] - 1s 116ms/step - loss: 405.8503 - val_loss: 376.6791\n",
            "Epoch 105/5000\n",
            "9/9 [==============================] - 1s 59ms/step - loss: 395.1874 - val_loss: 402.6423\n",
            "Epoch 106/5000\n",
            "9/9 [==============================] - 1s 59ms/step - loss: 417.7138 - val_loss: 381.9496\n",
            "Epoch 107/5000\n",
            "9/9 [==============================] - 1s 61ms/step - loss: 365.9279 - val_loss: 440.4442\n",
            "Epoch 108/5000\n",
            "9/9 [==============================] - 1s 65ms/step - loss: 377.1472 - val_loss: 415.6486\n",
            "Epoch 109/5000\n",
            "9/9 [==============================] - 1s 59ms/step - loss: 354.8944 - val_loss: 466.2928\n",
            "Epoch 110/5000\n",
            "9/9 [==============================] - 1s 64ms/step - loss: 378.3817 - val_loss: 386.5207\n",
            "Epoch 111/5000\n",
            "9/9 [==============================] - 1s 59ms/step - loss: 356.4017 - val_loss: 470.2532\n",
            "Epoch 112/5000\n",
            "9/9 [==============================] - 1s 58ms/step - loss: 384.0506 - val_loss: 403.1625\n",
            "Epoch 113/5000\n",
            "9/9 [==============================] - 1s 60ms/step - loss: 392.2560 - val_loss: 466.4118\n",
            "Epoch 114/5000\n",
            "9/9 [==============================] - 1s 58ms/step - loss: 331.2072 - val_loss: 401.0352\n",
            "Epoch 115/5000\n",
            "9/9 [==============================] - 1s 56ms/step - loss: 359.7098 - val_loss: 400.4969\n",
            "Epoch 116/5000\n",
            "9/9 [==============================] - 0s 55ms/step - loss: 371.9256 - val_loss: 484.6003\n",
            "Epoch 117/5000\n",
            "9/9 [==============================] - 1s 62ms/step - loss: 463.2958 - val_loss: 379.4188\n",
            "Epoch 118/5000\n",
            "9/9 [==============================] - 0s 56ms/step - loss: 441.6724 - val_loss: 480.9879\n",
            "Epoch 119/5000\n",
            "9/9 [==============================] - 1s 58ms/step - loss: 417.5200 - val_loss: 423.5432\n",
            "Epoch 120/5000\n",
            "9/9 [==============================] - 1s 59ms/step - loss: 386.5980 - val_loss: 469.0724\n",
            "Epoch 121/5000\n",
            "9/9 [==============================] - 1s 59ms/step - loss: 390.5018 - val_loss: 411.7723\n",
            "Epoch 122/5000\n",
            "9/9 [==============================] - 1s 72ms/step - loss: 380.4071 - val_loss: 432.8325\n",
            "Epoch 123/5000\n",
            "9/9 [==============================] - 1s 114ms/step - loss: 373.5764 - val_loss: 420.6517\n",
            "Epoch 124/5000\n",
            "9/9 [==============================] - 1s 110ms/step - loss: 397.0659 - val_loss: 447.4615\n",
            "Epoch 125/5000\n",
            "9/9 [==============================] - 1s 62ms/step - loss: 380.9619 - val_loss: 414.8933\n",
            "Epoch 126/5000\n",
            "9/9 [==============================] - 1s 60ms/step - loss: 347.0708 - val_loss: 433.1743\n",
            "Epoch 127/5000\n",
            "9/9 [==============================] - 1s 59ms/step - loss: 351.6352 - val_loss: 513.4438\n",
            "Epoch 128/5000\n",
            "9/9 [==============================] - 1s 69ms/step - loss: 343.2232 - val_loss: 434.8652\n"
          ]
        },
        {
          "output_type": "execute_result",
          "data": {
            "text/plain": [
              "<keras.callbacks.History at 0x7f5ec9120e20>"
            ]
          },
          "metadata": {},
          "execution_count": 112
        }
      ]
    },
    {
      "cell_type": "code",
      "source": [
        "stacked_lstm=joblib.load(\"/content/gdrive/MyDrive/DeepStackedLSTM10.pkl\")"
      ],
      "metadata": {
        "id": "vpqEFGi3OdTU"
      },
      "execution_count": null,
      "outputs": []
    },
    {
      "cell_type": "code",
      "source": [
        "load_model_DeepStackedLSTM10 = joblib.load()"
      ],
      "metadata": {
        "id": "kdfFEOeCFH8-"
      },
      "execution_count": null,
      "outputs": []
    },
    {
      "cell_type": "code",
      "source": [
        "stacked_lstm.evaluate(test_dataset)"
      ],
      "metadata": {
        "id": "M57HcL4tD0Ik",
        "colab": {
          "base_uri": "https://localhost:8080/"
        },
        "outputId": "a90aecb1-17c5-4aa6-b63a-6353f431166c"
      },
      "execution_count": 123,
      "outputs": [
        {
          "output_type": "stream",
          "name": "stdout",
          "text": [
            "1/1 [==============================] - 0s 30ms/step - loss: 268.1750\n"
          ]
        },
        {
          "output_type": "execute_result",
          "data": {
            "text/plain": [
              "268.17498779296875"
            ]
          },
          "metadata": {},
          "execution_count": 123
        }
      ]
    },
    {
      "cell_type": "code",
      "source": [
        "def make_pred(model,input_data):\n",
        "  pred = model.predict(input_data)\n",
        "  return tf.squeeze(pred)\n"
      ],
      "metadata": {
        "id": "Wzum7_0FfCBr"
      },
      "execution_count": 84,
      "outputs": []
    },
    {
      "cell_type": "code",
      "source": [
        "stacked_lstm_pred = make_pred(stacked_lstm,test_dataset)\n",
        "stacked_lstm_pred[:10]"
      ],
      "metadata": {
        "colab": {
          "base_uri": "https://localhost:8080/"
        },
        "id": "7Pz5-wmTfa69",
        "outputId": "475b3640-11d2-453b-d42a-b9a2c45f983e"
      },
      "execution_count": 125,
      "outputs": [
        {
          "output_type": "stream",
          "name": "stdout",
          "text": [
            "1/1 [==============================] - 5s 5s/step\n"
          ]
        },
        {
          "output_type": "execute_result",
          "data": {
            "text/plain": [
              "<tf.Tensor: shape=(10,), dtype=float32, numpy=\n",
              "array([ 175.78252 ,   44.03712 ,  226.02522 , 1553.3893  ,  183.23067 ,\n",
              "        630.77606 ,  546.7149  ,   20.629448,  245.8057  ,   28.247833],\n",
              "      dtype=float32)>"
            ]
          },
          "metadata": {},
          "execution_count": 125
        }
      ]
    },
    {
      "cell_type": "code",
      "source": [
        "stacked_lstm_result = get_timeseries_metrics(tf.squeeze(test_labels),stacked_lstm_pred)\n",
        "stacked_lstm_result"
      ],
      "metadata": {
        "colab": {
          "base_uri": "https://localhost:8080/"
        },
        "id": "tIvYdEvyfiS4",
        "outputId": "82539e6a-568a-4486-d0e6-88d06853bc56"
      },
      "execution_count": 138,
      "outputs": [
        {
          "output_type": "execute_result",
          "data": {
            "text/plain": [
              "{'mae': 268.175, 'mse': 217920.0, 'rmse': 466.81903}"
            ]
          },
          "metadata": {},
          "execution_count": 138
        }
      ]
    },
    {
      "cell_type": "markdown",
      "source": [
        "### Bidirectional Algorithm"
      ],
      "metadata": {
        "id": "YjEQsfc6ORyR"
      }
    },
    {
      "cell_type": "code",
      "source": [
        "BATCH_SIZE = 32"
      ],
      "metadata": {
        "id": "rUaod_4F4FBK"
      },
      "execution_count": 114,
      "outputs": []
    },
    {
      "cell_type": "code",
      "source": [
        "tf.random.set_seed(42)\n",
        "\n",
        "inputs = tf.keras.layers.Input(shape=WINDOW_SIZE)\n",
        "x = tf.keras.layers.Lambda(lambda x:tf.expand_dims(x,axis=1))(inputs)\n",
        "x = tf.keras.layers.Bidirectional(tf.keras.layers.LSTM(128,activation=\"relu\",return_sequences=True))(x)\n",
        "x = tf.keras.layers.Dropout(0.5)(x)\n",
        "x = tf.keras.layers.Bidirectional(tf.keras.layers.LSTM(512,activation = \"relu\",return_sequences=True))(x)\n",
        "x = tf.keras.layers.Dropout(0.5)(x)\n",
        "x = tf.keras.layers.Bidirectional(tf.keras.layers.LSTM(512,activation = \"relu\",return_sequences=True))(x)\n",
        "x = tf.keras.layers.Dropout(0.5)(x)\n",
        "x = tf.keras.layers.Bidirectional(tf.keras.layers.LSTM(512,activation = \"relu\",return_sequences=True))(x)\n",
        "x = tf.keras.layers.Dropout(0.5)(x)\n",
        "x = tf.keras.layers.Bidirectional(tf.keras.layers.LSTM(512,activation = \"relu\",return_sequences=True))(x)\n",
        "x = tf.keras.layers.Dropout(0.5)(x)\n",
        "x = tf.keras.layers.Bidirectional(tf.keras.layers.LSTM(512,activation = \"relu\",return_sequences=True))(x)\n",
        "x = tf.keras.layers.Dropout(0.5)(x)\n",
        "x = tf.keras.layers.Bidirectional(tf.keras.layers.LSTM(1024,activation = \"relu\",return_sequences=True))(x)\n",
        "x = tf.keras.layers.Dropout(0.5)(x)\n",
        "x = tf.keras.layers.Bidirectional(tf.keras.layers.LSTM(1024,activation = \"relu\",return_sequences=True))(x)\n",
        "x = tf.keras.layers.Dropout(0.5)(x)\n",
        "x = tf.keras.layers.Bidirectional(tf.keras.layers.LSTM(1024,activation = \"relu\",return_sequences=True))(x)\n",
        "x = tf.keras.layers.Dropout(0.5)(x)\n",
        "x = tf.keras.layers.Bidirectional(tf.keras.layers.LSTM(1024,activation = \"relu\"))(x)\n",
        "x = tf.keras.layers.Dense(32,activation=\"relu\")(x)\n",
        "outputs = tf.keras.layers.Dense(HORIZON,activation=\"linear\")(x)\n",
        "\n",
        "model_bidirectional = tf.keras.Model(inputs=inputs,outputs=outputs)\n",
        "\n",
        "model_bidirectional.compile(loss=\"mae\",\n",
        "                            optimizer = tf.keras.optimizers.Adam())\n",
        "\n",
        "model_bidirectional.fit(train_dataset,\n",
        "                        epochs = EPOCHS,\n",
        "                        batch_size=BATCH_SIZE,\n",
        "                        validation_data = (test_dataset),\n",
        "                        callbacks =[ tf.keras.callbacks.EarlyStopping(monitor=\"val_loss\",\n",
        "                                                                     patience = 100,\n",
        "                                                                     restore_best_weights=True)]\n",
        "                        )"
      ],
      "metadata": {
        "id": "qgEAzYyTOdMI",
        "colab": {
          "base_uri": "https://localhost:8080/"
        },
        "outputId": "a28a276f-68bc-40af-b25a-3c5660d4873e"
      },
      "execution_count": 117,
      "outputs": [
        {
          "output_type": "stream",
          "name": "stderr",
          "text": [
            "WARNING:tensorflow:Layer lstm_100 will not use cuDNN kernels since it doesn't meet the criteria. It will use a generic GPU kernel as fallback when running on GPU.\n",
            "WARNING:tensorflow:Layer lstm_100 will not use cuDNN kernels since it doesn't meet the criteria. It will use a generic GPU kernel as fallback when running on GPU.\n",
            "WARNING:tensorflow:Layer lstm_100 will not use cuDNN kernels since it doesn't meet the criteria. It will use a generic GPU kernel as fallback when running on GPU.\n",
            "WARNING:tensorflow:Layer lstm_101 will not use cuDNN kernels since it doesn't meet the criteria. It will use a generic GPU kernel as fallback when running on GPU.\n",
            "WARNING:tensorflow:Layer lstm_101 will not use cuDNN kernels since it doesn't meet the criteria. It will use a generic GPU kernel as fallback when running on GPU.\n",
            "WARNING:tensorflow:Layer lstm_101 will not use cuDNN kernels since it doesn't meet the criteria. It will use a generic GPU kernel as fallback when running on GPU.\n",
            "WARNING:tensorflow:Layer lstm_102 will not use cuDNN kernels since it doesn't meet the criteria. It will use a generic GPU kernel as fallback when running on GPU.\n",
            "WARNING:tensorflow:Layer lstm_102 will not use cuDNN kernels since it doesn't meet the criteria. It will use a generic GPU kernel as fallback when running on GPU.\n",
            "WARNING:tensorflow:Layer lstm_102 will not use cuDNN kernels since it doesn't meet the criteria. It will use a generic GPU kernel as fallback when running on GPU.\n",
            "WARNING:tensorflow:Layer lstm_103 will not use cuDNN kernels since it doesn't meet the criteria. It will use a generic GPU kernel as fallback when running on GPU.\n",
            "WARNING:tensorflow:Layer lstm_103 will not use cuDNN kernels since it doesn't meet the criteria. It will use a generic GPU kernel as fallback when running on GPU.\n",
            "WARNING:tensorflow:Layer lstm_103 will not use cuDNN kernels since it doesn't meet the criteria. It will use a generic GPU kernel as fallback when running on GPU.\n",
            "WARNING:tensorflow:Layer lstm_104 will not use cuDNN kernels since it doesn't meet the criteria. It will use a generic GPU kernel as fallback when running on GPU.\n",
            "WARNING:tensorflow:Layer lstm_104 will not use cuDNN kernels since it doesn't meet the criteria. It will use a generic GPU kernel as fallback when running on GPU.\n",
            "WARNING:tensorflow:Layer lstm_104 will not use cuDNN kernels since it doesn't meet the criteria. It will use a generic GPU kernel as fallback when running on GPU.\n",
            "WARNING:tensorflow:Layer lstm_105 will not use cuDNN kernels since it doesn't meet the criteria. It will use a generic GPU kernel as fallback when running on GPU.\n",
            "WARNING:tensorflow:Layer lstm_105 will not use cuDNN kernels since it doesn't meet the criteria. It will use a generic GPU kernel as fallback when running on GPU.\n",
            "WARNING:tensorflow:Layer lstm_105 will not use cuDNN kernels since it doesn't meet the criteria. It will use a generic GPU kernel as fallback when running on GPU.\n",
            "WARNING:tensorflow:Layer lstm_106 will not use cuDNN kernels since it doesn't meet the criteria. It will use a generic GPU kernel as fallback when running on GPU.\n",
            "WARNING:tensorflow:Layer lstm_106 will not use cuDNN kernels since it doesn't meet the criteria. It will use a generic GPU kernel as fallback when running on GPU.\n",
            "WARNING:tensorflow:Layer lstm_106 will not use cuDNN kernels since it doesn't meet the criteria. It will use a generic GPU kernel as fallback when running on GPU.\n",
            "WARNING:tensorflow:Layer lstm_107 will not use cuDNN kernels since it doesn't meet the criteria. It will use a generic GPU kernel as fallback when running on GPU.\n",
            "WARNING:tensorflow:Layer lstm_107 will not use cuDNN kernels since it doesn't meet the criteria. It will use a generic GPU kernel as fallback when running on GPU.\n",
            "WARNING:tensorflow:Layer lstm_107 will not use cuDNN kernels since it doesn't meet the criteria. It will use a generic GPU kernel as fallback when running on GPU.\n",
            "WARNING:tensorflow:Layer lstm_108 will not use cuDNN kernels since it doesn't meet the criteria. It will use a generic GPU kernel as fallback when running on GPU.\n",
            "WARNING:tensorflow:Layer lstm_108 will not use cuDNN kernels since it doesn't meet the criteria. It will use a generic GPU kernel as fallback when running on GPU.\n",
            "WARNING:tensorflow:Layer lstm_108 will not use cuDNN kernels since it doesn't meet the criteria. It will use a generic GPU kernel as fallback when running on GPU.\n",
            "WARNING:tensorflow:Layer lstm_109 will not use cuDNN kernels since it doesn't meet the criteria. It will use a generic GPU kernel as fallback when running on GPU.\n",
            "WARNING:tensorflow:Layer lstm_109 will not use cuDNN kernels since it doesn't meet the criteria. It will use a generic GPU kernel as fallback when running on GPU.\n",
            "WARNING:tensorflow:Layer lstm_109 will not use cuDNN kernels since it doesn't meet the criteria. It will use a generic GPU kernel as fallback when running on GPU.\n"
          ]
        },
        {
          "output_type": "stream",
          "name": "stdout",
          "text": [
            "Epoch 1/5000\n",
            "9/9 [==============================] - 41s 528ms/step - loss: 697.0767 - val_loss: 403.1926\n",
            "Epoch 2/5000\n",
            "9/9 [==============================] - 1s 141ms/step - loss: 518.5527 - val_loss: 352.2042\n",
            "Epoch 3/5000\n",
            "9/9 [==============================] - 1s 97ms/step - loss: 533.3676 - val_loss: 390.8083\n",
            "Epoch 4/5000\n",
            "9/9 [==============================] - 1s 97ms/step - loss: 512.0826 - val_loss: 360.8726\n",
            "Epoch 5/5000\n",
            "9/9 [==============================] - 1s 94ms/step - loss: 506.2860 - val_loss: 357.1961\n",
            "Epoch 6/5000\n",
            "9/9 [==============================] - 1s 100ms/step - loss: 532.0048 - val_loss: 382.0587\n",
            "Epoch 7/5000\n",
            "9/9 [==============================] - 1s 92ms/step - loss: 506.1591 - val_loss: 366.1857\n",
            "Epoch 8/5000\n",
            "9/9 [==============================] - 1s 95ms/step - loss: 507.5970 - val_loss: 368.7618\n",
            "Epoch 9/5000\n",
            "9/9 [==============================] - 1s 106ms/step - loss: 511.4697 - val_loss: 372.4045\n",
            "Epoch 10/5000\n",
            "9/9 [==============================] - 1s 98ms/step - loss: 501.6150 - val_loss: 356.6196\n",
            "Epoch 11/5000\n",
            "9/9 [==============================] - 1s 93ms/step - loss: 521.5685 - val_loss: 379.6882\n",
            "Epoch 12/5000\n",
            "9/9 [==============================] - 1s 165ms/step - loss: 507.3407 - val_loss: 360.4755\n",
            "Epoch 13/5000\n",
            "9/9 [==============================] - 1s 140ms/step - loss: 504.7550 - val_loss: 360.1525\n",
            "Epoch 14/5000\n",
            "9/9 [==============================] - 1s 100ms/step - loss: 518.6540 - val_loss: 378.6491\n",
            "Epoch 15/5000\n",
            "9/9 [==============================] - 1s 97ms/step - loss: 498.6335 - val_loss: 354.4774\n",
            "Epoch 16/5000\n",
            "9/9 [==============================] - 1s 96ms/step - loss: 508.0723 - val_loss: 361.4484\n",
            "Epoch 17/5000\n",
            "9/9 [==============================] - 1s 93ms/step - loss: 501.6185 - val_loss: 361.3142\n",
            "Epoch 18/5000\n",
            "9/9 [==============================] - 1s 98ms/step - loss: 504.6464 - val_loss: 367.5560\n",
            "Epoch 19/5000\n",
            "9/9 [==============================] - 1s 95ms/step - loss: 509.9756 - val_loss: 373.0726\n",
            "Epoch 20/5000\n",
            "9/9 [==============================] - 1s 101ms/step - loss: 496.3497 - val_loss: 355.1240\n",
            "Epoch 21/5000\n",
            "9/9 [==============================] - 1s 98ms/step - loss: 509.9814 - val_loss: 375.3564\n",
            "Epoch 22/5000\n",
            "9/9 [==============================] - 1s 93ms/step - loss: 505.5016 - val_loss: 362.8447\n",
            "Epoch 23/5000\n",
            "9/9 [==============================] - 1s 140ms/step - loss: 497.4552 - val_loss: 347.1223\n",
            "Epoch 24/5000\n",
            "9/9 [==============================] - 2s 183ms/step - loss: 511.9455 - val_loss: 370.2863\n",
            "Epoch 25/5000\n",
            "9/9 [==============================] - 2s 180ms/step - loss: 497.3101 - val_loss: 352.2949\n",
            "Epoch 26/5000\n",
            "9/9 [==============================] - 1s 121ms/step - loss: 498.9042 - val_loss: 363.6805\n",
            "Epoch 27/5000\n",
            "9/9 [==============================] - 1s 97ms/step - loss: 497.8657 - val_loss: 358.9683\n",
            "Epoch 28/5000\n",
            "9/9 [==============================] - 1s 98ms/step - loss: 488.4284 - val_loss: 350.2613\n",
            "Epoch 29/5000\n",
            "9/9 [==============================] - 1s 93ms/step - loss: 511.2801 - val_loss: 371.6859\n",
            "Epoch 30/5000\n",
            "9/9 [==============================] - 1s 94ms/step - loss: 500.3733 - val_loss: 371.1644\n",
            "Epoch 31/5000\n",
            "9/9 [==============================] - 1s 96ms/step - loss: 501.1284 - val_loss: 355.8307\n",
            "Epoch 32/5000\n",
            "9/9 [==============================] - 1s 97ms/step - loss: 496.8368 - val_loss: 353.1936\n",
            "Epoch 33/5000\n",
            "9/9 [==============================] - 1s 100ms/step - loss: 505.1955 - val_loss: 363.4790\n",
            "Epoch 34/5000\n",
            "9/9 [==============================] - 1s 98ms/step - loss: 507.4254 - val_loss: 368.4152\n",
            "Epoch 35/5000\n",
            "9/9 [==============================] - 1s 92ms/step - loss: 501.7483 - val_loss: 359.0258\n",
            "Epoch 36/5000\n",
            "9/9 [==============================] - 1s 161ms/step - loss: 491.9707 - val_loss: 353.4915\n",
            "Epoch 37/5000\n",
            "9/9 [==============================] - 1s 132ms/step - loss: 506.1031 - val_loss: 361.8032\n",
            "Epoch 38/5000\n",
            "9/9 [==============================] - 1s 97ms/step - loss: 509.4161 - val_loss: 370.8955\n",
            "Epoch 39/5000\n",
            "9/9 [==============================] - 1s 95ms/step - loss: 496.5863 - val_loss: 358.5518\n",
            "Epoch 40/5000\n",
            "9/9 [==============================] - 1s 92ms/step - loss: 502.1598 - val_loss: 355.7624\n",
            "Epoch 41/5000\n",
            "9/9 [==============================] - 1s 94ms/step - loss: 503.9567 - val_loss: 365.4730\n",
            "Epoch 42/5000\n",
            "9/9 [==============================] - 1s 96ms/step - loss: 497.8096 - val_loss: 374.1341\n",
            "Epoch 43/5000\n",
            "9/9 [==============================] - 1s 96ms/step - loss: 491.5106 - val_loss: 371.7502\n",
            "Epoch 44/5000\n",
            "9/9 [==============================] - 1s 100ms/step - loss: 499.1596 - val_loss: 367.0708\n",
            "Epoch 45/5000\n",
            "9/9 [==============================] - 1s 100ms/step - loss: 494.2234 - val_loss: 354.7643\n",
            "Epoch 46/5000\n",
            "9/9 [==============================] - 1s 96ms/step - loss: 504.6259 - val_loss: 368.8546\n",
            "Epoch 47/5000\n",
            "9/9 [==============================] - 1s 95ms/step - loss: 490.2083 - val_loss: 358.9289\n",
            "Epoch 48/5000\n",
            "9/9 [==============================] - 2s 195ms/step - loss: 497.4982 - val_loss: 357.9720\n",
            "Epoch 49/5000\n",
            "9/9 [==============================] - 1s 136ms/step - loss: 505.6505 - val_loss: 381.1923\n",
            "Epoch 50/5000\n",
            "9/9 [==============================] - 1s 101ms/step - loss: 492.1385 - val_loss: 353.0467\n",
            "Epoch 51/5000\n",
            "9/9 [==============================] - 1s 98ms/step - loss: 499.6407 - val_loss: 368.7478\n",
            "Epoch 52/5000\n",
            "9/9 [==============================] - 1s 102ms/step - loss: 501.1056 - val_loss: 371.0678\n",
            "Epoch 53/5000\n",
            "9/9 [==============================] - 1s 98ms/step - loss: 484.4462 - val_loss: 352.2728\n",
            "Epoch 54/5000\n",
            "9/9 [==============================] - 1s 93ms/step - loss: 504.0656 - val_loss: 365.7554\n",
            "Epoch 55/5000\n",
            "9/9 [==============================] - 1s 101ms/step - loss: 495.6012 - val_loss: 360.6194\n",
            "Epoch 56/5000\n",
            "9/9 [==============================] - 1s 99ms/step - loss: 483.3638 - val_loss: 355.9898\n",
            "Epoch 57/5000\n",
            "9/9 [==============================] - 1s 98ms/step - loss: 499.7207 - val_loss: 356.3934\n",
            "Epoch 58/5000\n",
            "9/9 [==============================] - 1s 136ms/step - loss: 505.7120 - val_loss: 346.5274\n",
            "Epoch 59/5000\n",
            "9/9 [==============================] - 2s 174ms/step - loss: 502.7406 - val_loss: 355.9935\n",
            "Epoch 60/5000\n",
            "9/9 [==============================] - 1s 148ms/step - loss: 509.7303 - val_loss: 357.6182\n",
            "Epoch 61/5000\n",
            "9/9 [==============================] - 1s 102ms/step - loss: 495.7695 - val_loss: 366.7372\n",
            "Epoch 62/5000\n",
            "9/9 [==============================] - 1s 98ms/step - loss: 488.7174 - val_loss: 359.4563\n",
            "Epoch 63/5000\n",
            "9/9 [==============================] - 1s 92ms/step - loss: 501.7176 - val_loss: 380.1061\n",
            "Epoch 64/5000\n",
            "9/9 [==============================] - 1s 93ms/step - loss: 494.9362 - val_loss: 358.6335\n",
            "Epoch 65/5000\n",
            "9/9 [==============================] - 1s 97ms/step - loss: 497.9441 - val_loss: 363.0605\n",
            "Epoch 66/5000\n",
            "9/9 [==============================] - 1s 96ms/step - loss: 486.2036 - val_loss: 364.9984\n",
            "Epoch 67/5000\n",
            "9/9 [==============================] - 1s 95ms/step - loss: 493.4156 - val_loss: 368.4648\n",
            "Epoch 68/5000\n",
            "9/9 [==============================] - 1s 99ms/step - loss: 506.4459 - val_loss: 372.0848\n",
            "Epoch 69/5000\n",
            "9/9 [==============================] - 1s 96ms/step - loss: 482.5953 - val_loss: 351.8776\n",
            "Epoch 70/5000\n",
            "9/9 [==============================] - 1s 139ms/step - loss: 518.4344 - val_loss: 376.2760\n",
            "Epoch 71/5000\n",
            "9/9 [==============================] - 2s 196ms/step - loss: 500.1813 - val_loss: 358.2993\n",
            "Epoch 72/5000\n",
            "9/9 [==============================] - 1s 104ms/step - loss: 515.1347 - val_loss: 368.6735\n",
            "Epoch 73/5000\n",
            "9/9 [==============================] - 1s 98ms/step - loss: 502.2005 - val_loss: 350.2603\n",
            "Epoch 74/5000\n",
            "9/9 [==============================] - 1s 99ms/step - loss: 518.8398 - val_loss: 355.5236\n",
            "Epoch 75/5000\n",
            "9/9 [==============================] - 1s 94ms/step - loss: 501.8574 - val_loss: 377.0609\n",
            "Epoch 76/5000\n",
            "9/9 [==============================] - 1s 94ms/step - loss: 497.9876 - val_loss: 362.0174\n",
            "Epoch 77/5000\n",
            "9/9 [==============================] - 1s 95ms/step - loss: 504.5633 - val_loss: 364.2711\n",
            "Epoch 78/5000\n",
            "9/9 [==============================] - 1s 99ms/step - loss: 496.0341 - val_loss: 368.8618\n",
            "Epoch 79/5000\n",
            "9/9 [==============================] - 1s 98ms/step - loss: 495.2484 - val_loss: 366.8819\n",
            "Epoch 80/5000\n",
            "9/9 [==============================] - 1s 95ms/step - loss: 498.5571 - val_loss: 361.1411\n",
            "Epoch 81/5000\n",
            "9/9 [==============================] - 1s 128ms/step - loss: 505.7670 - val_loss: 364.0746\n",
            "Epoch 82/5000\n",
            "9/9 [==============================] - 2s 196ms/step - loss: 507.6903 - val_loss: 365.9374\n",
            "Epoch 83/5000\n",
            "9/9 [==============================] - 1s 112ms/step - loss: 518.8693 - val_loss: 374.8178\n",
            "Epoch 84/5000\n",
            "9/9 [==============================] - 1s 97ms/step - loss: 525.4841 - val_loss: 369.4001\n",
            "Epoch 85/5000\n",
            "9/9 [==============================] - 1s 97ms/step - loss: 496.1239 - val_loss: 363.6848\n",
            "Epoch 86/5000\n",
            "9/9 [==============================] - 1s 96ms/step - loss: 516.3451 - val_loss: 376.2944\n",
            "Epoch 87/5000\n",
            "9/9 [==============================] - 1s 93ms/step - loss: 502.0546 - val_loss: 373.3365\n",
            "Epoch 88/5000\n",
            "9/9 [==============================] - 1s 99ms/step - loss: 504.2540 - val_loss: 366.3640\n",
            "Epoch 89/5000\n",
            "9/9 [==============================] - 1s 96ms/step - loss: 504.0811 - val_loss: 373.1127\n",
            "Epoch 90/5000\n",
            "9/9 [==============================] - 1s 96ms/step - loss: 496.2990 - val_loss: 366.0179\n",
            "Epoch 91/5000\n",
            "9/9 [==============================] - 1s 93ms/step - loss: 505.9185 - val_loss: 369.9494\n",
            "Epoch 92/5000\n",
            "9/9 [==============================] - 1s 123ms/step - loss: 483.3312 - val_loss: 358.5538\n",
            "Epoch 93/5000\n",
            "9/9 [==============================] - 2s 201ms/step - loss: 487.0670 - val_loss: 373.0099\n",
            "Epoch 94/5000\n",
            "9/9 [==============================] - 1s 101ms/step - loss: 496.2096 - val_loss: 363.1313\n",
            "Epoch 95/5000\n",
            "9/9 [==============================] - 1s 95ms/step - loss: 499.5612 - val_loss: 375.2023\n",
            "Epoch 96/5000\n",
            "9/9 [==============================] - 1s 99ms/step - loss: 507.3893 - val_loss: 369.4401\n",
            "Epoch 97/5000\n",
            "9/9 [==============================] - 1s 94ms/step - loss: 499.5310 - val_loss: 359.8516\n",
            "Epoch 98/5000\n",
            "9/9 [==============================] - 1s 104ms/step - loss: 492.7113 - val_loss: 360.9962\n",
            "Epoch 99/5000\n",
            "9/9 [==============================] - 1s 91ms/step - loss: 507.5909 - val_loss: 369.7067\n",
            "Epoch 100/5000\n",
            "9/9 [==============================] - 1s 99ms/step - loss: 491.3362 - val_loss: 361.5259\n",
            "Epoch 101/5000\n",
            "9/9 [==============================] - 1s 96ms/step - loss: 484.5474 - val_loss: 356.0764\n",
            "Epoch 102/5000\n",
            "9/9 [==============================] - 1s 94ms/step - loss: 495.8958 - val_loss: 375.3178\n",
            "Epoch 103/5000\n",
            "9/9 [==============================] - 1s 95ms/step - loss: 495.7709 - val_loss: 353.9413\n",
            "Epoch 104/5000\n",
            "9/9 [==============================] - 1s 130ms/step - loss: 504.8365 - val_loss: 376.3213\n",
            "Epoch 105/5000\n",
            "9/9 [==============================] - 2s 173ms/step - loss: 490.9590 - val_loss: 357.1854\n",
            "Epoch 106/5000\n",
            "9/9 [==============================] - 2s 180ms/step - loss: 502.4811 - val_loss: 374.8640\n",
            "Epoch 107/5000\n",
            "9/9 [==============================] - 1s 99ms/step - loss: 496.8485 - val_loss: 362.2975\n",
            "Epoch 108/5000\n",
            "9/9 [==============================] - 1s 98ms/step - loss: 509.2975 - val_loss: 371.1677\n",
            "Epoch 109/5000\n",
            "9/9 [==============================] - 1s 97ms/step - loss: 497.6455 - val_loss: 360.0698\n",
            "Epoch 110/5000\n",
            "9/9 [==============================] - 1s 100ms/step - loss: 516.1243 - val_loss: 366.8636\n",
            "Epoch 111/5000\n",
            "9/9 [==============================] - 1s 95ms/step - loss: 528.3995 - val_loss: 380.1389\n",
            "Epoch 112/5000\n",
            "9/9 [==============================] - 1s 98ms/step - loss: 502.7472 - val_loss: 378.7617\n",
            "Epoch 113/5000\n",
            "9/9 [==============================] - 1s 97ms/step - loss: 505.0566 - val_loss: 373.0541\n",
            "Epoch 114/5000\n",
            "9/9 [==============================] - 1s 94ms/step - loss: 502.5055 - val_loss: 356.6146\n",
            "Epoch 115/5000\n",
            "9/9 [==============================] - 1s 92ms/step - loss: 495.4105 - val_loss: 365.4528\n",
            "Epoch 116/5000\n",
            "9/9 [==============================] - 1s 96ms/step - loss: 512.4606 - val_loss: 382.8888\n",
            "Epoch 117/5000\n",
            "9/9 [==============================] - 1s 156ms/step - loss: 495.5049 - val_loss: 348.1171\n",
            "Epoch 118/5000\n",
            "9/9 [==============================] - 2s 165ms/step - loss: 515.3103 - val_loss: 375.8032\n",
            "Epoch 119/5000\n",
            "9/9 [==============================] - 1s 99ms/step - loss: 496.9179 - val_loss: 360.7640\n",
            "Epoch 120/5000\n",
            "9/9 [==============================] - 1s 101ms/step - loss: 496.3356 - val_loss: 371.1413\n",
            "Epoch 121/5000\n",
            "9/9 [==============================] - 1s 94ms/step - loss: 483.7792 - val_loss: 359.4637\n",
            "Epoch 122/5000\n",
            "9/9 [==============================] - 1s 94ms/step - loss: 514.9045 - val_loss: 381.2529\n",
            "Epoch 123/5000\n",
            "9/9 [==============================] - 1s 96ms/step - loss: 482.8674 - val_loss: 351.8114\n",
            "Epoch 124/5000\n",
            "9/9 [==============================] - 1s 95ms/step - loss: 500.4696 - val_loss: 371.2988\n",
            "Epoch 125/5000\n",
            "9/9 [==============================] - 1s 98ms/step - loss: 499.9367 - val_loss: 359.7220\n",
            "Epoch 126/5000\n",
            "9/9 [==============================] - 1s 94ms/step - loss: 488.6136 - val_loss: 372.7336\n",
            "Epoch 127/5000\n",
            "9/9 [==============================] - 1s 99ms/step - loss: 496.4101 - val_loss: 359.9858\n",
            "Epoch 128/5000\n",
            "9/9 [==============================] - 1s 170ms/step - loss: 503.8166 - val_loss: 373.7385\n",
            "Epoch 129/5000\n",
            "9/9 [==============================] - 1s 152ms/step - loss: 494.8474 - val_loss: 368.4248\n",
            "Epoch 130/5000\n",
            "9/9 [==============================] - 1s 104ms/step - loss: 494.5513 - val_loss: 362.6305\n",
            "Epoch 131/5000\n",
            "9/9 [==============================] - 1s 99ms/step - loss: 486.2657 - val_loss: 363.4833\n",
            "Epoch 132/5000\n",
            "9/9 [==============================] - 1s 105ms/step - loss: 490.3738 - val_loss: 367.0123\n",
            "Epoch 133/5000\n",
            "9/9 [==============================] - 1s 100ms/step - loss: 489.1588 - val_loss: 362.1248\n",
            "Epoch 134/5000\n",
            "9/9 [==============================] - 1s 95ms/step - loss: 517.1550 - val_loss: 371.9535\n",
            "Epoch 135/5000\n",
            "9/9 [==============================] - 1s 98ms/step - loss: 493.0147 - val_loss: 362.4195\n",
            "Epoch 136/5000\n",
            "9/9 [==============================] - 1s 95ms/step - loss: 502.7526 - val_loss: 362.7938\n",
            "Epoch 137/5000\n",
            "9/9 [==============================] - 1s 99ms/step - loss: 496.7903 - val_loss: 360.5919\n",
            "Epoch 138/5000\n",
            "9/9 [==============================] - 1s 95ms/step - loss: 494.7289 - val_loss: 362.0930\n",
            "Epoch 139/5000\n",
            "9/9 [==============================] - 1s 103ms/step - loss: 504.1049 - val_loss: 375.7380\n",
            "Epoch 140/5000\n",
            "9/9 [==============================] - 2s 179ms/step - loss: 490.3150 - val_loss: 356.5182\n",
            "Epoch 141/5000\n",
            "9/9 [==============================] - 2s 194ms/step - loss: 489.0898 - val_loss: 363.3103\n",
            "Epoch 142/5000\n",
            "9/9 [==============================] - 1s 104ms/step - loss: 497.7847 - val_loss: 363.2486\n",
            "Epoch 143/5000\n",
            "9/9 [==============================] - 1s 98ms/step - loss: 485.4376 - val_loss: 358.2564\n",
            "Epoch 144/5000\n",
            "9/9 [==============================] - 1s 95ms/step - loss: 502.5974 - val_loss: 368.2558\n",
            "Epoch 145/5000\n",
            "9/9 [==============================] - 1s 95ms/step - loss: 493.9093 - val_loss: 360.1184\n",
            "Epoch 146/5000\n",
            "9/9 [==============================] - 1s 99ms/step - loss: 492.5924 - val_loss: 369.1087\n",
            "Epoch 147/5000\n",
            "9/9 [==============================] - 1s 97ms/step - loss: 502.2577 - val_loss: 359.1234\n",
            "Epoch 148/5000\n",
            "9/9 [==============================] - 1s 100ms/step - loss: 490.6806 - val_loss: 372.1888\n",
            "Epoch 149/5000\n",
            "9/9 [==============================] - 1s 96ms/step - loss: 492.3480 - val_loss: 367.2526\n",
            "Epoch 150/5000\n",
            "9/9 [==============================] - 1s 96ms/step - loss: 502.6222 - val_loss: 377.2776\n",
            "Epoch 151/5000\n",
            "9/9 [==============================] - 1s 118ms/step - loss: 499.0138 - val_loss: 366.9470\n",
            "Epoch 152/5000\n",
            "9/9 [==============================] - 2s 191ms/step - loss: 500.2845 - val_loss: 362.7451\n",
            "Epoch 153/5000\n",
            "9/9 [==============================] - 1s 106ms/step - loss: 498.5341 - val_loss: 368.8591\n",
            "Epoch 154/5000\n",
            "9/9 [==============================] - 1s 107ms/step - loss: 490.0100 - val_loss: 372.6729\n",
            "Epoch 155/5000\n",
            "9/9 [==============================] - 1s 99ms/step - loss: 499.2737 - val_loss: 357.5106\n",
            "Epoch 156/5000\n",
            "9/9 [==============================] - 1s 100ms/step - loss: 498.8099 - val_loss: 371.4198\n",
            "Epoch 157/5000\n",
            "9/9 [==============================] - 1s 99ms/step - loss: 491.9040 - val_loss: 359.1627\n",
            "Epoch 158/5000\n",
            "9/9 [==============================] - 1s 131ms/step - loss: 477.9372 - val_loss: 361.1400\n"
          ]
        },
        {
          "output_type": "execute_result",
          "data": {
            "text/plain": [
              "<keras.callbacks.History at 0x7f5ec0950610>"
            ]
          },
          "metadata": {},
          "execution_count": 117
        }
      ]
    },
    {
      "cell_type": "code",
      "source": [
        "model_bidirectional.evaluate(test_dataset)"
      ],
      "metadata": {
        "colab": {
          "base_uri": "https://localhost:8080/"
        },
        "id": "WMkrzN5uRYW4",
        "outputId": "76759473-31dc-4e2b-bdce-c699b7dbd1b3"
      },
      "execution_count": 119,
      "outputs": [
        {
          "output_type": "stream",
          "name": "stdout",
          "text": [
            "1/1 [==============================] - 0s 64ms/step - loss: 346.5274\n"
          ]
        },
        {
          "output_type": "execute_result",
          "data": {
            "text/plain": [
              "346.52740478515625"
            ]
          },
          "metadata": {},
          "execution_count": 119
        }
      ]
    },
    {
      "cell_type": "code",
      "source": [
        "bidirectional_pred = make_pred(model_bidirectional,test_windows)"
      ],
      "metadata": {
        "colab": {
          "base_uri": "https://localhost:8080/"
        },
        "id": "UI4wfdtjSSQM",
        "outputId": "161d2a57-7abf-46ff-f672-1a377a4c0c57"
      },
      "execution_count": 148,
      "outputs": [
        {
          "output_type": "stream",
          "name": "stdout",
          "text": [
            "1/1 [==============================] - 3s 3s/step\n"
          ]
        }
      ]
    },
    {
      "cell_type": "code",
      "source": [
        "bidirectional_results = get_timeseries_metrics(tf.squeeze(test_labels),bidirectional_pred)\n",
        "bidirectional_results"
      ],
      "metadata": {
        "colab": {
          "base_uri": "https://localhost:8080/"
        },
        "id": "4iVYLTazTH9I",
        "outputId": "bc0c4160-b3e5-432c-85df-66a92fe21407"
      },
      "execution_count": 149,
      "outputs": [
        {
          "output_type": "execute_result",
          "data": {
            "text/plain": [
              "{'mae': 346.5274, 'mse': 446985.88, 'rmse': 668.57}"
            ]
          },
          "metadata": {},
          "execution_count": 149
        }
      ]
    },
    {
      "cell_type": "markdown",
      "source": [
        "### N-BEATS ALGORITHM"
      ],
      "metadata": {
        "id": "Lk-fBesWIDnf"
      }
    },
    {
      "cell_type": "code",
      "source": [
        "WINDOW_SIZE = 3\n",
        "HORIZON = 1"
      ],
      "metadata": {
        "id": "ZSj2MHwEiCD0"
      },
      "execution_count": 150,
      "outputs": []
    },
    {
      "cell_type": "code",
      "source": [
        "los_angeles_nbeats = los_angeles_data.copy()\n",
        "los_angeles_nbeats.head()"
      ],
      "metadata": {
        "colab": {
          "base_uri": "https://localhost:8080/",
          "height": 237
        },
        "id": "jkBWjxqxfWml",
        "outputId": "03bd2d7f-dd47-4577-cba2-0290dced972f"
      },
      "execution_count": 151,
      "outputs": [
        {
          "output_type": "execute_result",
          "data": {
            "text/plain": [
              "              Sales\n",
              "Order Date         \n",
              "2014-01-06   19.440\n",
              "2014-01-20   38.660\n",
              "2014-02-20   12.960\n",
              "2014-03-23  935.152\n",
              "2014-03-26   66.300"
            ],
            "text/html": [
              "\n",
              "  <div id=\"df-04bd4c43-088c-4ca3-8958-133342004503\">\n",
              "    <div class=\"colab-df-container\">\n",
              "      <div>\n",
              "<style scoped>\n",
              "    .dataframe tbody tr th:only-of-type {\n",
              "        vertical-align: middle;\n",
              "    }\n",
              "\n",
              "    .dataframe tbody tr th {\n",
              "        vertical-align: top;\n",
              "    }\n",
              "\n",
              "    .dataframe thead th {\n",
              "        text-align: right;\n",
              "    }\n",
              "</style>\n",
              "<table border=\"1\" class=\"dataframe\">\n",
              "  <thead>\n",
              "    <tr style=\"text-align: right;\">\n",
              "      <th></th>\n",
              "      <th>Sales</th>\n",
              "    </tr>\n",
              "    <tr>\n",
              "      <th>Order Date</th>\n",
              "      <th></th>\n",
              "    </tr>\n",
              "  </thead>\n",
              "  <tbody>\n",
              "    <tr>\n",
              "      <th>2014-01-06</th>\n",
              "      <td>19.440</td>\n",
              "    </tr>\n",
              "    <tr>\n",
              "      <th>2014-01-20</th>\n",
              "      <td>38.660</td>\n",
              "    </tr>\n",
              "    <tr>\n",
              "      <th>2014-02-20</th>\n",
              "      <td>12.960</td>\n",
              "    </tr>\n",
              "    <tr>\n",
              "      <th>2014-03-23</th>\n",
              "      <td>935.152</td>\n",
              "    </tr>\n",
              "    <tr>\n",
              "      <th>2014-03-26</th>\n",
              "      <td>66.300</td>\n",
              "    </tr>\n",
              "  </tbody>\n",
              "</table>\n",
              "</div>\n",
              "      <button class=\"colab-df-convert\" onclick=\"convertToInteractive('df-04bd4c43-088c-4ca3-8958-133342004503')\"\n",
              "              title=\"Convert this dataframe to an interactive table.\"\n",
              "              style=\"display:none;\">\n",
              "        \n",
              "  <svg xmlns=\"http://www.w3.org/2000/svg\" height=\"24px\"viewBox=\"0 0 24 24\"\n",
              "       width=\"24px\">\n",
              "    <path d=\"M0 0h24v24H0V0z\" fill=\"none\"/>\n",
              "    <path d=\"M18.56 5.44l.94 2.06.94-2.06 2.06-.94-2.06-.94-.94-2.06-.94 2.06-2.06.94zm-11 1L8.5 8.5l.94-2.06 2.06-.94-2.06-.94L8.5 2.5l-.94 2.06-2.06.94zm10 10l.94 2.06.94-2.06 2.06-.94-2.06-.94-.94-2.06-.94 2.06-2.06.94z\"/><path d=\"M17.41 7.96l-1.37-1.37c-.4-.4-.92-.59-1.43-.59-.52 0-1.04.2-1.43.59L10.3 9.45l-7.72 7.72c-.78.78-.78 2.05 0 2.83L4 21.41c.39.39.9.59 1.41.59.51 0 1.02-.2 1.41-.59l7.78-7.78 2.81-2.81c.8-.78.8-2.07 0-2.86zM5.41 20L4 18.59l7.72-7.72 1.47 1.35L5.41 20z\"/>\n",
              "  </svg>\n",
              "      </button>\n",
              "      \n",
              "  <style>\n",
              "    .colab-df-container {\n",
              "      display:flex;\n",
              "      flex-wrap:wrap;\n",
              "      gap: 12px;\n",
              "    }\n",
              "\n",
              "    .colab-df-convert {\n",
              "      background-color: #E8F0FE;\n",
              "      border: none;\n",
              "      border-radius: 50%;\n",
              "      cursor: pointer;\n",
              "      display: none;\n",
              "      fill: #1967D2;\n",
              "      height: 32px;\n",
              "      padding: 0 0 0 0;\n",
              "      width: 32px;\n",
              "    }\n",
              "\n",
              "    .colab-df-convert:hover {\n",
              "      background-color: #E2EBFA;\n",
              "      box-shadow: 0px 1px 2px rgba(60, 64, 67, 0.3), 0px 1px 3px 1px rgba(60, 64, 67, 0.15);\n",
              "      fill: #174EA6;\n",
              "    }\n",
              "\n",
              "    [theme=dark] .colab-df-convert {\n",
              "      background-color: #3B4455;\n",
              "      fill: #D2E3FC;\n",
              "    }\n",
              "\n",
              "    [theme=dark] .colab-df-convert:hover {\n",
              "      background-color: #434B5C;\n",
              "      box-shadow: 0px 1px 3px 1px rgba(0, 0, 0, 0.15);\n",
              "      filter: drop-shadow(0px 1px 2px rgba(0, 0, 0, 0.3));\n",
              "      fill: #FFFFFF;\n",
              "    }\n",
              "  </style>\n",
              "\n",
              "      <script>\n",
              "        const buttonEl =\n",
              "          document.querySelector('#df-04bd4c43-088c-4ca3-8958-133342004503 button.colab-df-convert');\n",
              "        buttonEl.style.display =\n",
              "          google.colab.kernel.accessAllowed ? 'block' : 'none';\n",
              "\n",
              "        async function convertToInteractive(key) {\n",
              "          const element = document.querySelector('#df-04bd4c43-088c-4ca3-8958-133342004503');\n",
              "          const dataTable =\n",
              "            await google.colab.kernel.invokeFunction('convertToInteractive',\n",
              "                                                     [key], {});\n",
              "          if (!dataTable) return;\n",
              "\n",
              "          const docLinkHtml = 'Like what you see? Visit the ' +\n",
              "            '<a target=\"_blank\" href=https://colab.research.google.com/notebooks/data_table.ipynb>data table notebook</a>'\n",
              "            + ' to learn more about interactive tables.';\n",
              "          element.innerHTML = '';\n",
              "          dataTable['output_type'] = 'display_data';\n",
              "          await google.colab.output.renderOutput(dataTable, element);\n",
              "          const docLink = document.createElement('div');\n",
              "          docLink.innerHTML = docLinkHtml;\n",
              "          element.appendChild(docLink);\n",
              "        }\n",
              "      </script>\n",
              "    </div>\n",
              "  </div>\n",
              "  "
            ]
          },
          "metadata": {},
          "execution_count": 151
        }
      ]
    },
    {
      "cell_type": "code",
      "source": [
        "for i in range(WINDOW_SIZE):\n",
        "  los_angeles_nbeats[f\"Sales {i+1}\"] = los_angeles_nbeats[\"Sales\"].shift(periods=i+1)\n",
        "los_angeles_nbeats"
      ],
      "metadata": {
        "id": "yLAPyJT_hc9Y",
        "colab": {
          "base_uri": "https://localhost:8080/",
          "height": 455
        },
        "outputId": "906ffa93-4a85-4c63-eb3a-d207afc50cc8"
      },
      "execution_count": 152,
      "outputs": [
        {
          "output_type": "execute_result",
          "data": {
            "text/plain": [
              "               Sales   Sales 1   Sales 2  Sales 3\n",
              "Order Date                                       \n",
              "2014-01-06    19.440       NaN       NaN      NaN\n",
              "2014-01-20    38.660    19.440       NaN      NaN\n",
              "2014-02-20    12.960    38.660    19.440      NaN\n",
              "2014-03-23   935.152    12.960    38.660   19.440\n",
              "2014-03-26    66.300   935.152    12.960   38.660\n",
              "...              ...       ...       ...      ...\n",
              "2017-12-21    12.510    51.990    11.808  172.260\n",
              "2017-12-22   474.950    12.510    51.990   11.808\n",
              "2017-12-24  2970.432   474.950    12.510   51.990\n",
              "2017-12-25   424.172  2970.432   474.950   12.510\n",
              "2017-12-29   695.944   424.172  2970.432  474.950\n",
              "\n",
              "[331 rows x 4 columns]"
            ],
            "text/html": [
              "\n",
              "  <div id=\"df-361af5f7-9d80-43ac-a2ca-983573c02bb7\">\n",
              "    <div class=\"colab-df-container\">\n",
              "      <div>\n",
              "<style scoped>\n",
              "    .dataframe tbody tr th:only-of-type {\n",
              "        vertical-align: middle;\n",
              "    }\n",
              "\n",
              "    .dataframe tbody tr th {\n",
              "        vertical-align: top;\n",
              "    }\n",
              "\n",
              "    .dataframe thead th {\n",
              "        text-align: right;\n",
              "    }\n",
              "</style>\n",
              "<table border=\"1\" class=\"dataframe\">\n",
              "  <thead>\n",
              "    <tr style=\"text-align: right;\">\n",
              "      <th></th>\n",
              "      <th>Sales</th>\n",
              "      <th>Sales 1</th>\n",
              "      <th>Sales 2</th>\n",
              "      <th>Sales 3</th>\n",
              "    </tr>\n",
              "    <tr>\n",
              "      <th>Order Date</th>\n",
              "      <th></th>\n",
              "      <th></th>\n",
              "      <th></th>\n",
              "      <th></th>\n",
              "    </tr>\n",
              "  </thead>\n",
              "  <tbody>\n",
              "    <tr>\n",
              "      <th>2014-01-06</th>\n",
              "      <td>19.440</td>\n",
              "      <td>NaN</td>\n",
              "      <td>NaN</td>\n",
              "      <td>NaN</td>\n",
              "    </tr>\n",
              "    <tr>\n",
              "      <th>2014-01-20</th>\n",
              "      <td>38.660</td>\n",
              "      <td>19.440</td>\n",
              "      <td>NaN</td>\n",
              "      <td>NaN</td>\n",
              "    </tr>\n",
              "    <tr>\n",
              "      <th>2014-02-20</th>\n",
              "      <td>12.960</td>\n",
              "      <td>38.660</td>\n",
              "      <td>19.440</td>\n",
              "      <td>NaN</td>\n",
              "    </tr>\n",
              "    <tr>\n",
              "      <th>2014-03-23</th>\n",
              "      <td>935.152</td>\n",
              "      <td>12.960</td>\n",
              "      <td>38.660</td>\n",
              "      <td>19.440</td>\n",
              "    </tr>\n",
              "    <tr>\n",
              "      <th>2014-03-26</th>\n",
              "      <td>66.300</td>\n",
              "      <td>935.152</td>\n",
              "      <td>12.960</td>\n",
              "      <td>38.660</td>\n",
              "    </tr>\n",
              "    <tr>\n",
              "      <th>...</th>\n",
              "      <td>...</td>\n",
              "      <td>...</td>\n",
              "      <td>...</td>\n",
              "      <td>...</td>\n",
              "    </tr>\n",
              "    <tr>\n",
              "      <th>2017-12-21</th>\n",
              "      <td>12.510</td>\n",
              "      <td>51.990</td>\n",
              "      <td>11.808</td>\n",
              "      <td>172.260</td>\n",
              "    </tr>\n",
              "    <tr>\n",
              "      <th>2017-12-22</th>\n",
              "      <td>474.950</td>\n",
              "      <td>12.510</td>\n",
              "      <td>51.990</td>\n",
              "      <td>11.808</td>\n",
              "    </tr>\n",
              "    <tr>\n",
              "      <th>2017-12-24</th>\n",
              "      <td>2970.432</td>\n",
              "      <td>474.950</td>\n",
              "      <td>12.510</td>\n",
              "      <td>51.990</td>\n",
              "    </tr>\n",
              "    <tr>\n",
              "      <th>2017-12-25</th>\n",
              "      <td>424.172</td>\n",
              "      <td>2970.432</td>\n",
              "      <td>474.950</td>\n",
              "      <td>12.510</td>\n",
              "    </tr>\n",
              "    <tr>\n",
              "      <th>2017-12-29</th>\n",
              "      <td>695.944</td>\n",
              "      <td>424.172</td>\n",
              "      <td>2970.432</td>\n",
              "      <td>474.950</td>\n",
              "    </tr>\n",
              "  </tbody>\n",
              "</table>\n",
              "<p>331 rows × 4 columns</p>\n",
              "</div>\n",
              "      <button class=\"colab-df-convert\" onclick=\"convertToInteractive('df-361af5f7-9d80-43ac-a2ca-983573c02bb7')\"\n",
              "              title=\"Convert this dataframe to an interactive table.\"\n",
              "              style=\"display:none;\">\n",
              "        \n",
              "  <svg xmlns=\"http://www.w3.org/2000/svg\" height=\"24px\"viewBox=\"0 0 24 24\"\n",
              "       width=\"24px\">\n",
              "    <path d=\"M0 0h24v24H0V0z\" fill=\"none\"/>\n",
              "    <path d=\"M18.56 5.44l.94 2.06.94-2.06 2.06-.94-2.06-.94-.94-2.06-.94 2.06-2.06.94zm-11 1L8.5 8.5l.94-2.06 2.06-.94-2.06-.94L8.5 2.5l-.94 2.06-2.06.94zm10 10l.94 2.06.94-2.06 2.06-.94-2.06-.94-.94-2.06-.94 2.06-2.06.94z\"/><path d=\"M17.41 7.96l-1.37-1.37c-.4-.4-.92-.59-1.43-.59-.52 0-1.04.2-1.43.59L10.3 9.45l-7.72 7.72c-.78.78-.78 2.05 0 2.83L4 21.41c.39.39.9.59 1.41.59.51 0 1.02-.2 1.41-.59l7.78-7.78 2.81-2.81c.8-.78.8-2.07 0-2.86zM5.41 20L4 18.59l7.72-7.72 1.47 1.35L5.41 20z\"/>\n",
              "  </svg>\n",
              "      </button>\n",
              "      \n",
              "  <style>\n",
              "    .colab-df-container {\n",
              "      display:flex;\n",
              "      flex-wrap:wrap;\n",
              "      gap: 12px;\n",
              "    }\n",
              "\n",
              "    .colab-df-convert {\n",
              "      background-color: #E8F0FE;\n",
              "      border: none;\n",
              "      border-radius: 50%;\n",
              "      cursor: pointer;\n",
              "      display: none;\n",
              "      fill: #1967D2;\n",
              "      height: 32px;\n",
              "      padding: 0 0 0 0;\n",
              "      width: 32px;\n",
              "    }\n",
              "\n",
              "    .colab-df-convert:hover {\n",
              "      background-color: #E2EBFA;\n",
              "      box-shadow: 0px 1px 2px rgba(60, 64, 67, 0.3), 0px 1px 3px 1px rgba(60, 64, 67, 0.15);\n",
              "      fill: #174EA6;\n",
              "    }\n",
              "\n",
              "    [theme=dark] .colab-df-convert {\n",
              "      background-color: #3B4455;\n",
              "      fill: #D2E3FC;\n",
              "    }\n",
              "\n",
              "    [theme=dark] .colab-df-convert:hover {\n",
              "      background-color: #434B5C;\n",
              "      box-shadow: 0px 1px 3px 1px rgba(0, 0, 0, 0.15);\n",
              "      filter: drop-shadow(0px 1px 2px rgba(0, 0, 0, 0.3));\n",
              "      fill: #FFFFFF;\n",
              "    }\n",
              "  </style>\n",
              "\n",
              "      <script>\n",
              "        const buttonEl =\n",
              "          document.querySelector('#df-361af5f7-9d80-43ac-a2ca-983573c02bb7 button.colab-df-convert');\n",
              "        buttonEl.style.display =\n",
              "          google.colab.kernel.accessAllowed ? 'block' : 'none';\n",
              "\n",
              "        async function convertToInteractive(key) {\n",
              "          const element = document.querySelector('#df-361af5f7-9d80-43ac-a2ca-983573c02bb7');\n",
              "          const dataTable =\n",
              "            await google.colab.kernel.invokeFunction('convertToInteractive',\n",
              "                                                     [key], {});\n",
              "          if (!dataTable) return;\n",
              "\n",
              "          const docLinkHtml = 'Like what you see? Visit the ' +\n",
              "            '<a target=\"_blank\" href=https://colab.research.google.com/notebooks/data_table.ipynb>data table notebook</a>'\n",
              "            + ' to learn more about interactive tables.';\n",
              "          element.innerHTML = '';\n",
              "          dataTable['output_type'] = 'display_data';\n",
              "          await google.colab.output.renderOutput(dataTable, element);\n",
              "          const docLink = document.createElement('div');\n",
              "          docLink.innerHTML = docLinkHtml;\n",
              "          element.appendChild(docLink);\n",
              "        }\n",
              "      </script>\n",
              "    </div>\n",
              "  </div>\n",
              "  "
            ]
          },
          "metadata": {},
          "execution_count": 152
        }
      ]
    },
    {
      "cell_type": "code",
      "source": [
        "x = los_angeles_nbeats.dropna().drop(\"Sales\",axis = 1)\n",
        "y = los_angeles_nbeats.dropna()[\"Sales\"]"
      ],
      "metadata": {
        "id": "sAGCD-8Gmn2R"
      },
      "execution_count": 153,
      "outputs": []
    },
    {
      "cell_type": "code",
      "source": [
        "X_train,y_train,X_test,y_test = train_test_split_timeseries(x,\n",
        "                                                            y)\n",
        "len(X_train), len(y_train), len(X_test), len(y_test)"
      ],
      "metadata": {
        "colab": {
          "base_uri": "https://localhost:8080/"
        },
        "id": "BIhIDH49kNdQ",
        "outputId": "f685e6e0-19d3-49c2-dd42-f6e8b9d85efe"
      },
      "execution_count": 154,
      "outputs": [
        {
          "output_type": "execute_result",
          "data": {
            "text/plain": [
              "(262, 262, 66, 66)"
            ]
          },
          "metadata": {},
          "execution_count": 154
        }
      ]
    },
    {
      "cell_type": "code",
      "source": [
        "print(X_train.shape),print(y_train.shape),print(X_test.shape),print(y_test.shape)"
      ],
      "metadata": {
        "colab": {
          "base_uri": "https://localhost:8080/"
        },
        "id": "t7XobE5e_i3A",
        "outputId": "9c36d71e-4f28-4756-af8c-1527ed526507"
      },
      "execution_count": 155,
      "outputs": [
        {
          "output_type": "stream",
          "name": "stdout",
          "text": [
            "(262, 3)\n",
            "(262,)\n",
            "(66, 3)\n",
            "(66,)\n"
          ]
        },
        {
          "output_type": "execute_result",
          "data": {
            "text/plain": [
              "(None, None, None, None)"
            ]
          },
          "metadata": {},
          "execution_count": 155
        }
      ]
    },
    {
      "cell_type": "code",
      "source": [
        "# train features and labels\n",
        "train_features_dataset = tf.data.Dataset.from_tensor_slices(X_train)\n",
        "train_labels_dataset = tf.data.Dataset.from_tensor_slices(y_train)\n",
        "\n",
        "# test featuresn and labels\n",
        "test_features_dataset = tf.data.Dataset.from_tensor_slices(X_test)\n",
        "test_labels_dataset = tf.data.Dataset.from_tensor_slices(y_test)\n",
        "\n",
        "# zipping features and labels to tuple\n",
        "train_dataset = tf.data.Dataset.zip((train_features_dataset,train_labels_dataset))\n",
        "test_dataset = tf.data.Dataset.zip((test_features_dataset,test_labels_dataset))"
      ],
      "metadata": {
        "id": "-QGrQHaQlB4s"
      },
      "execution_count": 156,
      "outputs": []
    },
    {
      "cell_type": "code",
      "source": [
        "BATCH_SIZE = 32\n",
        "# data pipeline and prefetch\n",
        "train_dataset = train_dataset.batch(BATCH_SIZE).prefetch(tf.data.AUTOTUNE)\n",
        "test_dataset = test_dataset.batch(BATCH_SIZE).prefetch(tf.data.AUTOTUNE)"
      ],
      "metadata": {
        "id": "cw0TonwRmqUp"
      },
      "execution_count": 157,
      "outputs": []
    },
    {
      "cell_type": "code",
      "source": [
        "class NBeatsBlock(tf.keras.layers.Layer):\n",
        "  def __init__(self,\n",
        "               input_size :int,\n",
        "               theta_size :int,\n",
        "               horizon : int,\n",
        "               n_neurons :int,\n",
        "               n_layers :int,\n",
        "               **kwargs):\n",
        "    super().__init__(**kwargs)\n",
        "    self.input_size = input_size\n",
        "    self.theta_size = theta_size\n",
        "    self.horizon = horizon\n",
        "    self.n_layers = n_layers\n",
        "    self.n_neurons = n_neurons\n",
        "\n",
        "    #Block contains 4 fully connected layers with each relu activations\n",
        "    self.hidden = [tf.keras.layers.Dense(n_neurons,activation=\"relu\") for _ in range(n_layers) ]\n",
        "    # output of block is theta layer theta_backcast, theta_forecast\n",
        "    self.theta_layer = tf.keras.layers.Dense(theta_size,activation=\"linear\")\n",
        "  \n",
        "  def call(self,inputs):\n",
        "    x = inputs\n",
        "    for layer in self.hidden:\n",
        "      x = layer(x)\n",
        "      #x = tf.keras.layers.Dropout(0.5)(x)\n",
        "\n",
        "    theta = self.theta_layer(x)\n",
        "    # Output backcast and forecast\n",
        "    backcast,forecast = theta[:,:self.input_size],theta[:,-self.horizon:]\n",
        "    return backcast,forecast\n",
        "  \n",
        "  \n",
        "\n",
        "\n",
        "    \n",
        "    "
      ],
      "metadata": {
        "id": "bAtRGB5mgOGU"
      },
      "execution_count": 158,
      "outputs": []
    },
    {
      "cell_type": "code",
      "source": [
        "\n",
        "EPOCHS = 5000\n",
        "N_STACKS = 30\n",
        "N_NEURONS = 512\n",
        "N_LAYERS = 4\n",
        "\n",
        "INPUT_SIZE = WINDOW_SIZE * HORIZON\n",
        "THETA_SIZE = WINDOW_SIZE + HORIZON\n",
        "INPUT_SIZE,THETA_SIZE"
      ],
      "metadata": {
        "id": "biqm_I5t30hG",
        "colab": {
          "base_uri": "https://localhost:8080/"
        },
        "outputId": "c51a5406-8ae0-40f0-c399-1bb1f0196412"
      },
      "execution_count": 159,
      "outputs": [
        {
          "output_type": "execute_result",
          "data": {
            "text/plain": [
              "(3, 4)"
            ]
          },
          "metadata": {},
          "execution_count": 159
        }
      ]
    },
    {
      "cell_type": "code",
      "source": [
        "%time\n",
        "tf.random.set_seed(42)\n",
        "\n",
        "# Set up instances\n",
        "nbeats_block_layer = NBeatsBlock(input_size = INPUT_SIZE,\n",
        "                                 theta_size = THETA_SIZE,\n",
        "                                 horizon=HORIZON,\n",
        "                                 n_neurons = N_NEURONS,\n",
        "                                 n_layers = N_LAYERS,\n",
        "                                 name=\"InitialBlck\")\n",
        "\n",
        "\n",
        "# Create input to stack\n",
        "stack_input = tf.keras.layers.Input(shape=INPUT_SIZE,name=\"stack_input\")\n",
        "\n",
        "# Create initial backcast and forecast (backcast + forecast)\n",
        "backcast,forecast = nbeats_block_layer(stack_input)\n",
        "\n",
        "residuals = tf.keras.layers.subtract([stack_input,backcast],name=\"subtract_00\")\n",
        "\n",
        "# Create stack of block layers\n",
        "for i,_ in enumerate(range(N_STACKS-1)):\n",
        "\n",
        "  # Use the NBeatsBlock to calculate the backcast as well the forecast\n",
        "  backcast, block_forecast = NBeatsBlock(\n",
        "      input_size = INPUT_SIZE,\n",
        "      theta_size = THETA_SIZE,\n",
        "      horizon = HORIZON,\n",
        "      n_neurons = N_NEURONS,\n",
        "      n_layers = N_LAYERS,\n",
        "      name = f\"NBeatsBlock_{i}\"\n",
        "  )(residuals)\n",
        "\n",
        "\n",
        "  # Create  double resiudal stacking\n",
        "  residuals = tf.keras.layers.subtract([residuals,backcast],name=f\"subtracted_{i}\")\n",
        "  forecast = tf.keras.layers.add([forecast,block_forecast],name=f\"add_{i}\")\n",
        "\n",
        "n_beats_model = tf.keras.Model(inputs = stack_input,outputs = forecast)\n",
        "\n",
        "n_beats_model.compile(loss=\"mae\",\n",
        "                      optimizer = tf.keras.optimizers.Adam())\n",
        "\n",
        "n_beats_model.fit(train_dataset,\n",
        "                  epochs=EPOCHS,\n",
        "                  validation_data=test_dataset,\n",
        "                  callbacks=[tf.keras.callbacks.EarlyStopping(monitor=\"val_loss\",\n",
        "                                                             patience=100,\n",
        "                                                             restore_best_weights=True)])\n"
      ],
      "metadata": {
        "colab": {
          "base_uri": "https://localhost:8080/"
        },
        "id": "7IhSzXsxqC8I",
        "outputId": "5695246c-e735-4169-c76f-fe4fe4e459b4"
      },
      "execution_count": 160,
      "outputs": [
        {
          "output_type": "stream",
          "name": "stdout",
          "text": [
            "CPU times: user 4 µs, sys: 1e+03 ns, total: 5 µs\n",
            "Wall time: 9.3 µs\n",
            "Epoch 1/5000\n",
            "9/9 [==============================] - 63s 336ms/step - loss: 2017.3700 - val_loss: 482.7698\n",
            "Epoch 2/5000\n",
            "9/9 [==============================] - 0s 55ms/step - loss: 522.3752 - val_loss: 497.4832\n",
            "Epoch 3/5000\n",
            "9/9 [==============================] - 1s 56ms/step - loss: 539.1978 - val_loss: 491.8509\n",
            "Epoch 4/5000\n",
            "9/9 [==============================] - 1s 75ms/step - loss: 522.5671 - val_loss: 469.3605\n",
            "Epoch 5/5000\n",
            "9/9 [==============================] - 0s 54ms/step - loss: 511.0871 - val_loss: 473.8173\n",
            "Epoch 6/5000\n",
            "9/9 [==============================] - 0s 54ms/step - loss: 510.2310 - val_loss: 474.9458\n",
            "Epoch 7/5000\n",
            "9/9 [==============================] - 1s 74ms/step - loss: 501.4242 - val_loss: 456.1531\n",
            "Epoch 8/5000\n",
            "9/9 [==============================] - 1s 70ms/step - loss: 492.4407 - val_loss: 431.6249\n",
            "Epoch 9/5000\n",
            "9/9 [==============================] - 0s 56ms/step - loss: 500.0222 - val_loss: 459.7407\n",
            "Epoch 10/5000\n",
            "9/9 [==============================] - 1s 58ms/step - loss: 552.8416 - val_loss: 473.5312\n",
            "Epoch 11/5000\n",
            "9/9 [==============================] - 1s 57ms/step - loss: 544.1022 - val_loss: 499.4272\n",
            "Epoch 12/5000\n",
            "9/9 [==============================] - 0s 55ms/step - loss: 531.7419 - val_loss: 471.7451\n",
            "Epoch 13/5000\n",
            "9/9 [==============================] - 0s 55ms/step - loss: 510.3736 - val_loss: 461.1695\n",
            "Epoch 14/5000\n",
            "9/9 [==============================] - 1s 72ms/step - loss: 496.5003 - val_loss: 430.0390\n",
            "Epoch 15/5000\n",
            "9/9 [==============================] - 1s 57ms/step - loss: 519.4996 - val_loss: 452.4988\n",
            "Epoch 16/5000\n",
            "9/9 [==============================] - 0s 55ms/step - loss: 503.0139 - val_loss: 462.1210\n",
            "Epoch 17/5000\n",
            "9/9 [==============================] - 0s 56ms/step - loss: 496.3084 - val_loss: 471.5795\n",
            "Epoch 18/5000\n",
            "9/9 [==============================] - 1s 75ms/step - loss: 488.7853 - val_loss: 453.3675\n",
            "Epoch 19/5000\n",
            "9/9 [==============================] - 1s 81ms/step - loss: 490.0706 - val_loss: 441.4539\n",
            "Epoch 20/5000\n",
            "9/9 [==============================] - 1s 85ms/step - loss: 496.0340 - val_loss: 440.2241\n",
            "Epoch 21/5000\n",
            "9/9 [==============================] - 1s 78ms/step - loss: 481.4855 - val_loss: 444.1761\n",
            "Epoch 22/5000\n",
            "9/9 [==============================] - 0s 54ms/step - loss: 481.0229 - val_loss: 437.2504\n",
            "Epoch 23/5000\n",
            "9/9 [==============================] - 0s 54ms/step - loss: 484.0577 - val_loss: 450.4968\n",
            "Epoch 24/5000\n",
            "9/9 [==============================] - 1s 57ms/step - loss: 481.5994 - val_loss: 444.8980\n",
            "Epoch 25/5000\n",
            "9/9 [==============================] - 0s 54ms/step - loss: 480.3660 - val_loss: 444.1134\n",
            "Epoch 26/5000\n",
            "9/9 [==============================] - 0s 56ms/step - loss: 471.8638 - val_loss: 431.7993\n",
            "Epoch 27/5000\n",
            "9/9 [==============================] - 1s 75ms/step - loss: 468.2092 - val_loss: 427.8778\n",
            "Epoch 28/5000\n",
            "9/9 [==============================] - 1s 59ms/step - loss: 485.5391 - val_loss: 454.7532\n",
            "Epoch 29/5000\n",
            "9/9 [==============================] - 0s 55ms/step - loss: 484.8195 - val_loss: 462.5093\n",
            "Epoch 30/5000\n",
            "9/9 [==============================] - 0s 56ms/step - loss: 476.3340 - val_loss: 431.4356\n",
            "Epoch 31/5000\n",
            "9/9 [==============================] - 0s 54ms/step - loss: 471.7815 - val_loss: 433.9395\n",
            "Epoch 32/5000\n",
            "9/9 [==============================] - 1s 61ms/step - loss: 478.1148 - val_loss: 444.9604\n",
            "Epoch 33/5000\n",
            "9/9 [==============================] - 0s 56ms/step - loss: 469.6739 - val_loss: 433.2029\n",
            "Epoch 34/5000\n",
            "9/9 [==============================] - 1s 76ms/step - loss: 467.1364 - val_loss: 427.2789\n",
            "Epoch 35/5000\n",
            "9/9 [==============================] - 1s 58ms/step - loss: 472.3058 - val_loss: 447.2842\n",
            "Epoch 36/5000\n",
            "9/9 [==============================] - 1s 58ms/step - loss: 470.9793 - val_loss: 434.7990\n",
            "Epoch 37/5000\n",
            "9/9 [==============================] - 1s 60ms/step - loss: 472.0467 - val_loss: 436.3072\n",
            "Epoch 38/5000\n",
            "9/9 [==============================] - 1s 79ms/step - loss: 470.0137 - val_loss: 423.7016\n",
            "Epoch 39/5000\n",
            "9/9 [==============================] - 1s 84ms/step - loss: 472.0698 - val_loss: 437.2378\n",
            "Epoch 40/5000\n",
            "9/9 [==============================] - 1s 85ms/step - loss: 473.2870 - val_loss: 434.4511\n",
            "Epoch 41/5000\n",
            "9/9 [==============================] - 1s 101ms/step - loss: 469.7533 - val_loss: 423.2327\n",
            "Epoch 42/5000\n",
            "9/9 [==============================] - 1s 64ms/step - loss: 474.7953 - val_loss: 436.3232\n",
            "Epoch 43/5000\n",
            "9/9 [==============================] - 1s 57ms/step - loss: 470.1783 - val_loss: 431.4431\n",
            "Epoch 44/5000\n",
            "9/9 [==============================] - 0s 54ms/step - loss: 462.7556 - val_loss: 428.4661\n",
            "Epoch 45/5000\n",
            "9/9 [==============================] - 1s 57ms/step - loss: 469.5389 - val_loss: 440.3700\n",
            "Epoch 46/5000\n",
            "9/9 [==============================] - 0s 54ms/step - loss: 467.2102 - val_loss: 430.0599\n",
            "Epoch 47/5000\n",
            "9/9 [==============================] - 1s 56ms/step - loss: 463.2998 - val_loss: 427.9207\n",
            "Epoch 48/5000\n",
            "9/9 [==============================] - 0s 54ms/step - loss: 471.8618 - val_loss: 435.9402\n",
            "Epoch 49/5000\n",
            "9/9 [==============================] - 1s 58ms/step - loss: 463.6863 - val_loss: 425.3398\n",
            "Epoch 50/5000\n",
            "9/9 [==============================] - 0s 56ms/step - loss: 466.0273 - val_loss: 430.8091\n",
            "Epoch 51/5000\n",
            "9/9 [==============================] - 0s 55ms/step - loss: 461.8932 - val_loss: 428.2070\n",
            "Epoch 52/5000\n",
            "9/9 [==============================] - 1s 59ms/step - loss: 465.3184 - val_loss: 442.2042\n",
            "Epoch 53/5000\n",
            "9/9 [==============================] - 1s 62ms/step - loss: 468.6315 - val_loss: 434.5583\n",
            "Epoch 54/5000\n",
            "9/9 [==============================] - 1s 58ms/step - loss: 468.0162 - val_loss: 438.0960\n",
            "Epoch 55/5000\n",
            "9/9 [==============================] - 1s 80ms/step - loss: 468.0312 - val_loss: 438.4999\n",
            "Epoch 56/5000\n",
            "9/9 [==============================] - 1s 88ms/step - loss: 463.7251 - val_loss: 429.0573\n",
            "Epoch 57/5000\n",
            "9/9 [==============================] - 1s 79ms/step - loss: 466.0232 - val_loss: 437.3424\n",
            "Epoch 58/5000\n",
            "9/9 [==============================] - 1s 84ms/step - loss: 471.3723 - val_loss: 432.6859\n",
            "Epoch 59/5000\n",
            "9/9 [==============================] - 1s 90ms/step - loss: 461.0374 - val_loss: 423.8381\n",
            "Epoch 60/5000\n",
            "9/9 [==============================] - 1s 86ms/step - loss: 461.0773 - val_loss: 433.6418\n",
            "Epoch 61/5000\n",
            "9/9 [==============================] - 1s 83ms/step - loss: 460.4456 - val_loss: 428.5217\n",
            "Epoch 62/5000\n",
            "9/9 [==============================] - 1s 85ms/step - loss: 459.9478 - val_loss: 436.3977\n",
            "Epoch 63/5000\n",
            "9/9 [==============================] - 1s 73ms/step - loss: 462.2809 - val_loss: 437.2713\n",
            "Epoch 64/5000\n",
            "9/9 [==============================] - 0s 54ms/step - loss: 469.9896 - val_loss: 437.8959\n",
            "Epoch 65/5000\n",
            "9/9 [==============================] - 1s 77ms/step - loss: 464.8670 - val_loss: 421.5473\n",
            "Epoch 66/5000\n",
            "9/9 [==============================] - 1s 58ms/step - loss: 459.9261 - val_loss: 423.1431\n",
            "Epoch 67/5000\n",
            "9/9 [==============================] - 1s 72ms/step - loss: 454.8533 - val_loss: 416.2066\n",
            "Epoch 68/5000\n",
            "9/9 [==============================] - 0s 54ms/step - loss: 457.9935 - val_loss: 422.6390\n",
            "Epoch 69/5000\n",
            "9/9 [==============================] - 0s 52ms/step - loss: 454.9004 - val_loss: 435.8047\n",
            "Epoch 70/5000\n",
            "9/9 [==============================] - 1s 56ms/step - loss: 463.2692 - val_loss: 440.1633\n",
            "Epoch 71/5000\n",
            "9/9 [==============================] - 0s 52ms/step - loss: 467.8614 - val_loss: 427.5400\n",
            "Epoch 72/5000\n",
            "9/9 [==============================] - 1s 57ms/step - loss: 464.8547 - val_loss: 427.4825\n",
            "Epoch 73/5000\n",
            "9/9 [==============================] - 0s 54ms/step - loss: 463.2765 - val_loss: 429.3447\n",
            "Epoch 74/5000\n",
            "9/9 [==============================] - 1s 61ms/step - loss: 460.2906 - val_loss: 422.9375\n",
            "Epoch 75/5000\n",
            "9/9 [==============================] - 0s 56ms/step - loss: 473.5229 - val_loss: 432.3312\n",
            "Epoch 76/5000\n",
            "9/9 [==============================] - 1s 58ms/step - loss: 461.6009 - val_loss: 422.2095\n",
            "Epoch 77/5000\n",
            "9/9 [==============================] - 0s 55ms/step - loss: 468.2272 - val_loss: 434.9795\n",
            "Epoch 78/5000\n",
            "9/9 [==============================] - 1s 59ms/step - loss: 461.2533 - val_loss: 421.5850\n",
            "Epoch 79/5000\n",
            "9/9 [==============================] - 1s 60ms/step - loss: 476.5395 - val_loss: 438.2339\n",
            "Epoch 80/5000\n",
            "9/9 [==============================] - 1s 62ms/step - loss: 464.7908 - val_loss: 423.1021\n",
            "Epoch 81/5000\n",
            "9/9 [==============================] - 1s 81ms/step - loss: 471.2541 - val_loss: 430.2225\n",
            "Epoch 82/5000\n",
            "9/9 [==============================] - 1s 83ms/step - loss: 469.9776 - val_loss: 439.8143\n",
            "Epoch 83/5000\n",
            "9/9 [==============================] - 1s 85ms/step - loss: 475.6883 - val_loss: 431.9447\n",
            "Epoch 84/5000\n",
            "9/9 [==============================] - 1s 56ms/step - loss: 469.4075 - val_loss: 420.5726\n",
            "Epoch 85/5000\n",
            "9/9 [==============================] - 1s 57ms/step - loss: 463.4698 - val_loss: 440.2391\n",
            "Epoch 86/5000\n",
            "9/9 [==============================] - 1s 57ms/step - loss: 478.9119 - val_loss: 426.5334\n",
            "Epoch 87/5000\n",
            "9/9 [==============================] - 1s 58ms/step - loss: 464.6676 - val_loss: 417.4897\n",
            "Epoch 88/5000\n",
            "9/9 [==============================] - 1s 61ms/step - loss: 464.0866 - val_loss: 430.2554\n",
            "Epoch 89/5000\n",
            "9/9 [==============================] - 1s 97ms/step - loss: 464.4808 - val_loss: 441.7556\n",
            "Epoch 90/5000\n",
            "9/9 [==============================] - 1s 126ms/step - loss: 469.7086 - val_loss: 429.6365\n",
            "Epoch 91/5000\n",
            "9/9 [==============================] - 1s 101ms/step - loss: 468.6231 - val_loss: 426.5486\n",
            "Epoch 92/5000\n",
            "9/9 [==============================] - 1s 119ms/step - loss: 462.4936 - val_loss: 422.0839\n",
            "Epoch 93/5000\n",
            "9/9 [==============================] - 1s 60ms/step - loss: 460.5509 - val_loss: 440.0583\n",
            "Epoch 94/5000\n",
            "9/9 [==============================] - 1s 63ms/step - loss: 458.0372 - val_loss: 419.9240\n",
            "Epoch 95/5000\n",
            "9/9 [==============================] - 1s 58ms/step - loss: 463.0295 - val_loss: 440.5347\n",
            "Epoch 96/5000\n",
            "9/9 [==============================] - 1s 63ms/step - loss: 461.3526 - val_loss: 421.4768\n",
            "Epoch 97/5000\n",
            "9/9 [==============================] - 1s 81ms/step - loss: 459.8064 - val_loss: 429.4242\n",
            "Epoch 98/5000\n",
            "9/9 [==============================] - 1s 83ms/step - loss: 464.9911 - val_loss: 429.4485\n",
            "Epoch 99/5000\n",
            "9/9 [==============================] - 1s 82ms/step - loss: 475.5035 - val_loss: 431.3974\n",
            "Epoch 100/5000\n",
            "9/9 [==============================] - 1s 82ms/step - loss: 479.1631 - val_loss: 468.0959\n",
            "Epoch 101/5000\n",
            "9/9 [==============================] - 1s 86ms/step - loss: 495.0507 - val_loss: 456.8105\n",
            "Epoch 102/5000\n",
            "9/9 [==============================] - 1s 64ms/step - loss: 490.5146 - val_loss: 441.0481\n",
            "Epoch 103/5000\n",
            "9/9 [==============================] - 1s 59ms/step - loss: 477.0799 - val_loss: 446.7261\n",
            "Epoch 104/5000\n",
            "9/9 [==============================] - 1s 58ms/step - loss: 491.9539 - val_loss: 441.6847\n",
            "Epoch 105/5000\n",
            "9/9 [==============================] - 1s 58ms/step - loss: 475.2440 - val_loss: 425.1591\n",
            "Epoch 106/5000\n",
            "9/9 [==============================] - 0s 56ms/step - loss: 471.7750 - val_loss: 434.7625\n",
            "Epoch 107/5000\n",
            "9/9 [==============================] - 1s 62ms/step - loss: 476.4270 - val_loss: 444.3155\n",
            "Epoch 108/5000\n",
            "9/9 [==============================] - 1s 58ms/step - loss: 466.8352 - val_loss: 434.3566\n",
            "Epoch 109/5000\n",
            "9/9 [==============================] - 1s 56ms/step - loss: 455.4993 - val_loss: 429.2603\n",
            "Epoch 110/5000\n",
            "9/9 [==============================] - 1s 64ms/step - loss: 468.5224 - val_loss: 443.1675\n",
            "Epoch 111/5000\n",
            "9/9 [==============================] - 1s 63ms/step - loss: 463.3911 - val_loss: 425.5717\n",
            "Epoch 112/5000\n",
            "9/9 [==============================] - 0s 55ms/step - loss: 457.8282 - val_loss: 433.9720\n",
            "Epoch 113/5000\n",
            "9/9 [==============================] - 1s 56ms/step - loss: 467.6575 - val_loss: 429.2746\n",
            "Epoch 114/5000\n",
            "9/9 [==============================] - 1s 57ms/step - loss: 457.0258 - val_loss: 428.3252\n",
            "Epoch 115/5000\n",
            "9/9 [==============================] - 1s 59ms/step - loss: 449.8368 - val_loss: 433.2672\n",
            "Epoch 116/5000\n",
            "9/9 [==============================] - 1s 60ms/step - loss: 457.1256 - val_loss: 428.2383\n",
            "Epoch 117/5000\n",
            "9/9 [==============================] - 1s 60ms/step - loss: 454.0692 - val_loss: 421.8232\n",
            "Epoch 118/5000\n",
            "9/9 [==============================] - 1s 57ms/step - loss: 448.7385 - val_loss: 418.2251\n",
            "Epoch 119/5000\n",
            "9/9 [==============================] - 1s 60ms/step - loss: 449.9370 - val_loss: 430.2762\n",
            "Epoch 120/5000\n",
            "9/9 [==============================] - 1s 73ms/step - loss: 453.5674 - val_loss: 419.1362\n",
            "Epoch 121/5000\n",
            "9/9 [==============================] - 1s 84ms/step - loss: 455.4923 - val_loss: 425.9029\n",
            "Epoch 122/5000\n",
            "9/9 [==============================] - 1s 84ms/step - loss: 450.2251 - val_loss: 421.5755\n",
            "Epoch 123/5000\n",
            "9/9 [==============================] - 1s 87ms/step - loss: 447.1457 - val_loss: 431.3805\n",
            "Epoch 124/5000\n",
            "9/9 [==============================] - 1s 64ms/step - loss: 451.8760 - val_loss: 438.4778\n",
            "Epoch 125/5000\n",
            "9/9 [==============================] - 1s 60ms/step - loss: 454.8702 - val_loss: 425.2971\n",
            "Epoch 126/5000\n",
            "9/9 [==============================] - 1s 59ms/step - loss: 450.1327 - val_loss: 441.5662\n",
            "Epoch 127/5000\n",
            "9/9 [==============================] - 1s 59ms/step - loss: 462.2202 - val_loss: 455.7219\n",
            "Epoch 128/5000\n",
            "9/9 [==============================] - 1s 58ms/step - loss: 473.4142 - val_loss: 461.8573\n",
            "Epoch 129/5000\n",
            "9/9 [==============================] - 1s 59ms/step - loss: 488.2434 - val_loss: 425.3652\n",
            "Epoch 130/5000\n",
            "9/9 [==============================] - 0s 56ms/step - loss: 499.1374 - val_loss: 455.8078\n",
            "Epoch 131/5000\n",
            "9/9 [==============================] - 1s 60ms/step - loss: 478.3047 - val_loss: 439.3276\n",
            "Epoch 132/5000\n",
            "9/9 [==============================] - 1s 62ms/step - loss: 855.3271 - val_loss: 761.2925\n",
            "Epoch 133/5000\n",
            "9/9 [==============================] - 1s 58ms/step - loss: 16299.3057 - val_loss: 1208.6874\n",
            "Epoch 134/5000\n",
            "9/9 [==============================] - 1s 57ms/step - loss: 28619.0742 - val_loss: 14557.4600\n",
            "Epoch 135/5000\n",
            "9/9 [==============================] - 1s 57ms/step - loss: 54493.2656 - val_loss: 2967.0178\n",
            "Epoch 136/5000\n",
            "9/9 [==============================] - 1s 57ms/step - loss: 1125.5419 - val_loss: 2246.2188\n",
            "Epoch 137/5000\n",
            "9/9 [==============================] - 1s 57ms/step - loss: 1203.3206 - val_loss: 628.1487\n",
            "Epoch 138/5000\n",
            "9/9 [==============================] - 1s 60ms/step - loss: 600.6609 - val_loss: 604.8744\n",
            "Epoch 139/5000\n",
            "9/9 [==============================] - 1s 56ms/step - loss: 597.0073 - val_loss: 534.7395\n",
            "Epoch 140/5000\n",
            "9/9 [==============================] - 1s 62ms/step - loss: 563.6472 - val_loss: 606.9198\n",
            "Epoch 141/5000\n",
            "9/9 [==============================] - 1s 58ms/step - loss: 583.7902 - val_loss: 478.0595\n",
            "Epoch 142/5000\n",
            "9/9 [==============================] - 1s 86ms/step - loss: 508.7514 - val_loss: 447.9152\n",
            "Epoch 143/5000\n",
            "9/9 [==============================] - 1s 86ms/step - loss: 505.8711 - val_loss: 451.4404\n",
            "Epoch 144/5000\n",
            "9/9 [==============================] - 1s 85ms/step - loss: 486.5273 - val_loss: 435.1085\n",
            "Epoch 145/5000\n",
            "9/9 [==============================] - 1s 64ms/step - loss: 487.8510 - val_loss: 451.6157\n",
            "Epoch 146/5000\n",
            "9/9 [==============================] - 1s 58ms/step - loss: 481.0690 - val_loss: 436.2442\n",
            "Epoch 147/5000\n",
            "9/9 [==============================] - 1s 59ms/step - loss: 472.5952 - val_loss: 442.8894\n",
            "Epoch 148/5000\n",
            "9/9 [==============================] - 1s 60ms/step - loss: 480.6697 - val_loss: 431.7127\n",
            "Epoch 149/5000\n",
            "9/9 [==============================] - 1s 59ms/step - loss: 473.5931 - val_loss: 438.7411\n",
            "Epoch 150/5000\n",
            "9/9 [==============================] - 1s 60ms/step - loss: 470.8745 - val_loss: 426.1336\n",
            "Epoch 151/5000\n",
            "9/9 [==============================] - 1s 57ms/step - loss: 469.2572 - val_loss: 422.8047\n",
            "Epoch 152/5000\n",
            "9/9 [==============================] - 1s 58ms/step - loss: 478.7193 - val_loss: 450.9280\n",
            "Epoch 153/5000\n",
            "9/9 [==============================] - 1s 61ms/step - loss: 488.7594 - val_loss: 453.7596\n",
            "Epoch 154/5000\n",
            "9/9 [==============================] - 1s 62ms/step - loss: 480.8863 - val_loss: 439.2810\n",
            "Epoch 155/5000\n",
            "9/9 [==============================] - 1s 58ms/step - loss: 469.2752 - val_loss: 429.0449\n",
            "Epoch 156/5000\n",
            "9/9 [==============================] - 1s 59ms/step - loss: 473.3688 - val_loss: 427.8545\n",
            "Epoch 157/5000\n",
            "9/9 [==============================] - 1s 59ms/step - loss: 467.3850 - val_loss: 423.6577\n",
            "Epoch 158/5000\n",
            "9/9 [==============================] - 1s 61ms/step - loss: 467.7478 - val_loss: 436.9383\n",
            "Epoch 159/5000\n",
            "9/9 [==============================] - 0s 56ms/step - loss: 467.3053 - val_loss: 421.1617\n",
            "Epoch 160/5000\n",
            "9/9 [==============================] - 1s 57ms/step - loss: 468.6737 - val_loss: 434.4297\n",
            "Epoch 161/5000\n",
            "9/9 [==============================] - 1s 58ms/step - loss: 471.7557 - val_loss: 427.1293\n",
            "Epoch 162/5000\n",
            "9/9 [==============================] - 1s 59ms/step - loss: 464.2023 - val_loss: 434.0872\n",
            "Epoch 163/5000\n",
            "9/9 [==============================] - 1s 74ms/step - loss: 470.1355 - val_loss: 432.7421\n",
            "Epoch 164/5000\n",
            "9/9 [==============================] - 1s 83ms/step - loss: 462.7208 - val_loss: 421.0051\n",
            "Epoch 165/5000\n",
            "9/9 [==============================] - 1s 80ms/step - loss: 464.5670 - val_loss: 419.6495\n",
            "Epoch 166/5000\n",
            "9/9 [==============================] - 1s 79ms/step - loss: 460.4507 - val_loss: 423.0875\n",
            "Epoch 167/5000\n",
            "9/9 [==============================] - 1s 88ms/step - loss: 463.7479 - val_loss: 411.8657\n",
            "Epoch 168/5000\n",
            "9/9 [==============================] - 1s 78ms/step - loss: 465.3497 - val_loss: 409.2935\n",
            "Epoch 169/5000\n",
            "9/9 [==============================] - 1s 62ms/step - loss: 469.3250 - val_loss: 437.6624\n",
            "Epoch 170/5000\n",
            "9/9 [==============================] - 1s 57ms/step - loss: 471.3235 - val_loss: 419.2601\n",
            "Epoch 171/5000\n",
            "9/9 [==============================] - 1s 57ms/step - loss: 468.1963 - val_loss: 432.9589\n",
            "Epoch 172/5000\n",
            "9/9 [==============================] - 1s 58ms/step - loss: 466.7181 - val_loss: 423.2448\n",
            "Epoch 173/5000\n",
            "9/9 [==============================] - 1s 57ms/step - loss: 465.1691 - val_loss: 420.1319\n",
            "Epoch 174/5000\n",
            "9/9 [==============================] - 1s 57ms/step - loss: 463.5225 - val_loss: 418.9431\n",
            "Epoch 175/5000\n",
            "9/9 [==============================] - 0s 55ms/step - loss: 472.0805 - val_loss: 434.7987\n",
            "Epoch 176/5000\n",
            "9/9 [==============================] - 0s 56ms/step - loss: 466.4454 - val_loss: 423.2559\n",
            "Epoch 177/5000\n",
            "9/9 [==============================] - 1s 58ms/step - loss: 474.6880 - val_loss: 416.9396\n",
            "Epoch 178/5000\n",
            "9/9 [==============================] - 1s 63ms/step - loss: 463.5053 - val_loss: 416.3013\n",
            "Epoch 179/5000\n",
            "9/9 [==============================] - 1s 59ms/step - loss: 458.6831 - val_loss: 415.0635\n",
            "Epoch 180/5000\n",
            "9/9 [==============================] - 1s 59ms/step - loss: 456.1351 - val_loss: 411.1644\n",
            "Epoch 181/5000\n",
            "9/9 [==============================] - 1s 63ms/step - loss: 466.0403 - val_loss: 436.3356\n",
            "Epoch 182/5000\n",
            "9/9 [==============================] - 1s 56ms/step - loss: 463.6984 - val_loss: 422.6191\n",
            "Epoch 183/5000\n",
            "9/9 [==============================] - 1s 62ms/step - loss: 461.1273 - val_loss: 427.3441\n",
            "Epoch 184/5000\n",
            "9/9 [==============================] - 1s 58ms/step - loss: 461.4395 - val_loss: 444.5503\n",
            "Epoch 185/5000\n",
            "9/9 [==============================] - 1s 69ms/step - loss: 467.2583 - val_loss: 420.2381\n",
            "Epoch 186/5000\n",
            "9/9 [==============================] - 1s 86ms/step - loss: 455.3740 - val_loss: 432.4420\n",
            "Epoch 187/5000\n",
            "9/9 [==============================] - 1s 80ms/step - loss: 465.7167 - val_loss: 438.3156\n",
            "Epoch 188/5000\n",
            "9/9 [==============================] - 1s 82ms/step - loss: 469.4234 - val_loss: 435.6129\n",
            "Epoch 189/5000\n",
            "9/9 [==============================] - 1s 59ms/step - loss: 462.7624 - val_loss: 429.8931\n",
            "Epoch 190/5000\n",
            "9/9 [==============================] - 1s 60ms/step - loss: 458.1419 - val_loss: 415.5179\n",
            "Epoch 191/5000\n",
            "9/9 [==============================] - 1s 65ms/step - loss: 454.7978 - val_loss: 423.4942\n",
            "Epoch 192/5000\n",
            "9/9 [==============================] - 1s 58ms/step - loss: 457.0847 - val_loss: 437.9681\n",
            "Epoch 193/5000\n",
            "9/9 [==============================] - 1s 60ms/step - loss: 457.7520 - val_loss: 417.7643\n",
            "Epoch 194/5000\n",
            "9/9 [==============================] - 0s 55ms/step - loss: 451.5192 - val_loss: 424.0146\n",
            "Epoch 195/5000\n",
            "9/9 [==============================] - 1s 59ms/step - loss: 460.9603 - val_loss: 424.7600\n",
            "Epoch 196/5000\n",
            "9/9 [==============================] - 1s 63ms/step - loss: 461.5926 - val_loss: 439.3444\n",
            "Epoch 197/5000\n",
            "9/9 [==============================] - 1s 58ms/step - loss: 465.6109 - val_loss: 445.7182\n",
            "Epoch 198/5000\n",
            "9/9 [==============================] - 1s 56ms/step - loss: 476.8096 - val_loss: 434.0764\n",
            "Epoch 199/5000\n",
            "9/9 [==============================] - 1s 62ms/step - loss: 485.0277 - val_loss: 431.0407\n",
            "Epoch 200/5000\n",
            "9/9 [==============================] - 1s 60ms/step - loss: 468.2415 - val_loss: 424.6527\n",
            "Epoch 201/5000\n",
            "9/9 [==============================] - 1s 58ms/step - loss: 465.4323 - val_loss: 428.9252\n",
            "Epoch 202/5000\n",
            "9/9 [==============================] - 1s 64ms/step - loss: 463.4926 - val_loss: 449.1636\n",
            "Epoch 203/5000\n",
            "9/9 [==============================] - 1s 58ms/step - loss: 470.2121 - val_loss: 426.7684\n",
            "Epoch 204/5000\n",
            "9/9 [==============================] - 1s 60ms/step - loss: 458.2657 - val_loss: 433.4940\n",
            "Epoch 205/5000\n",
            "9/9 [==============================] - 1s 58ms/step - loss: 459.5824 - val_loss: 417.8926\n",
            "Epoch 206/5000\n",
            "9/9 [==============================] - 1s 104ms/step - loss: 453.9811 - val_loss: 407.7484\n",
            "Epoch 207/5000\n",
            "9/9 [==============================] - 1s 85ms/step - loss: 455.0733 - val_loss: 415.1627\n",
            "Epoch 208/5000\n",
            "9/9 [==============================] - 1s 81ms/step - loss: 450.4851 - val_loss: 417.0988\n",
            "Epoch 209/5000\n",
            "9/9 [==============================] - 1s 79ms/step - loss: 451.9472 - val_loss: 410.4488\n",
            "Epoch 210/5000\n",
            "9/9 [==============================] - 1s 58ms/step - loss: 451.2878 - val_loss: 418.6267\n",
            "Epoch 211/5000\n",
            "9/9 [==============================] - 1s 62ms/step - loss: 462.6111 - val_loss: 436.8185\n",
            "Epoch 212/5000\n",
            "9/9 [==============================] - 1s 57ms/step - loss: 481.4466 - val_loss: 434.6367\n",
            "Epoch 213/5000\n",
            "9/9 [==============================] - 1s 55ms/step - loss: 459.2930 - val_loss: 419.2622\n",
            "Epoch 214/5000\n",
            "9/9 [==============================] - 1s 60ms/step - loss: 453.9027 - val_loss: 417.0265\n",
            "Epoch 215/5000\n",
            "9/9 [==============================] - 1s 57ms/step - loss: 459.1155 - val_loss: 439.3846\n",
            "Epoch 216/5000\n",
            "9/9 [==============================] - 1s 56ms/step - loss: 467.4552 - val_loss: 424.5472\n",
            "Epoch 217/5000\n",
            "9/9 [==============================] - 1s 58ms/step - loss: 456.0493 - val_loss: 426.3337\n",
            "Epoch 218/5000\n",
            "9/9 [==============================] - 1s 58ms/step - loss: 453.8635 - val_loss: 414.6148\n",
            "Epoch 219/5000\n",
            "9/9 [==============================] - 1s 58ms/step - loss: 447.0993 - val_loss: 415.7292\n",
            "Epoch 220/5000\n",
            "9/9 [==============================] - 1s 57ms/step - loss: 443.9424 - val_loss: 422.1782\n",
            "Epoch 221/5000\n",
            "9/9 [==============================] - 1s 60ms/step - loss: 444.5250 - val_loss: 414.3648\n",
            "Epoch 222/5000\n",
            "9/9 [==============================] - 1s 57ms/step - loss: 450.5007 - val_loss: 415.1119\n",
            "Epoch 223/5000\n",
            "9/9 [==============================] - 1s 58ms/step - loss: 441.1913 - val_loss: 414.1813\n",
            "Epoch 224/5000\n",
            "9/9 [==============================] - 1s 60ms/step - loss: 441.1653 - val_loss: 421.6851\n",
            "Epoch 225/5000\n",
            "9/9 [==============================] - 1s 57ms/step - loss: 456.0130 - val_loss: 426.3719\n",
            "Epoch 226/5000\n",
            "9/9 [==============================] - 1s 56ms/step - loss: 448.9341 - val_loss: 414.7600\n",
            "Epoch 227/5000\n",
            "9/9 [==============================] - 1s 74ms/step - loss: 444.6270 - val_loss: 402.6703\n",
            "Epoch 228/5000\n",
            "9/9 [==============================] - 1s 87ms/step - loss: 449.5098 - val_loss: 421.5104\n",
            "Epoch 229/5000\n",
            "9/9 [==============================] - 1s 80ms/step - loss: 460.0534 - val_loss: 419.7664\n",
            "Epoch 230/5000\n",
            "9/9 [==============================] - 1s 84ms/step - loss: 448.6147 - val_loss: 419.6758\n",
            "Epoch 231/5000\n",
            "9/9 [==============================] - 1s 60ms/step - loss: 443.0295 - val_loss: 409.4216\n",
            "Epoch 232/5000\n",
            "9/9 [==============================] - 1s 62ms/step - loss: 443.8372 - val_loss: 410.0718\n",
            "Epoch 233/5000\n",
            "9/9 [==============================] - 1s 62ms/step - loss: 444.6535 - val_loss: 422.6056\n",
            "Epoch 234/5000\n",
            "9/9 [==============================] - 1s 62ms/step - loss: 443.1201 - val_loss: 410.8866\n",
            "Epoch 235/5000\n",
            "9/9 [==============================] - 1s 61ms/step - loss: 456.2481 - val_loss: 403.6743\n",
            "Epoch 236/5000\n",
            "9/9 [==============================] - 1s 59ms/step - loss: 447.5133 - val_loss: 429.7650\n",
            "Epoch 237/5000\n",
            "9/9 [==============================] - 1s 59ms/step - loss: 453.3551 - val_loss: 432.9128\n",
            "Epoch 238/5000\n",
            "9/9 [==============================] - 1s 58ms/step - loss: 455.6369 - val_loss: 416.5430\n",
            "Epoch 239/5000\n",
            "9/9 [==============================] - 1s 60ms/step - loss: 456.8084 - val_loss: 437.9973\n",
            "Epoch 240/5000\n",
            "9/9 [==============================] - 1s 60ms/step - loss: 456.9778 - val_loss: 420.2574\n",
            "Epoch 241/5000\n",
            "9/9 [==============================] - 1s 63ms/step - loss: 449.5152 - val_loss: 423.7566\n",
            "Epoch 242/5000\n",
            "9/9 [==============================] - 1s 58ms/step - loss: 449.1624 - val_loss: 426.3088\n",
            "Epoch 243/5000\n",
            "9/9 [==============================] - 1s 58ms/step - loss: 444.5090 - val_loss: 416.3282\n",
            "Epoch 244/5000\n",
            "9/9 [==============================] - 1s 60ms/step - loss: 449.1957 - val_loss: 440.3056\n",
            "Epoch 245/5000\n",
            "9/9 [==============================] - 1s 75ms/step - loss: 450.0623 - val_loss: 444.9952\n",
            "Epoch 246/5000\n",
            "9/9 [==============================] - 1s 134ms/step - loss: 459.0093 - val_loss: 409.8166\n",
            "Epoch 247/5000\n",
            "9/9 [==============================] - 1s 138ms/step - loss: 443.8333 - val_loss: 419.2825\n",
            "Epoch 248/5000\n",
            "9/9 [==============================] - 1s 84ms/step - loss: 442.3062 - val_loss: 416.8582\n",
            "Epoch 249/5000\n",
            "9/9 [==============================] - 1s 90ms/step - loss: 453.3757 - val_loss: 433.3620\n",
            "Epoch 250/5000\n",
            "9/9 [==============================] - 1s 63ms/step - loss: 450.5244 - val_loss: 414.9714\n",
            "Epoch 251/5000\n",
            "9/9 [==============================] - 1s 59ms/step - loss: 438.0063 - val_loss: 409.2801\n",
            "Epoch 252/5000\n",
            "9/9 [==============================] - 1s 64ms/step - loss: 437.3199 - val_loss: 405.2920\n",
            "Epoch 253/5000\n",
            "9/9 [==============================] - 1s 61ms/step - loss: 439.2511 - val_loss: 435.3843\n",
            "Epoch 254/5000\n",
            "9/9 [==============================] - 1s 64ms/step - loss: 439.4987 - val_loss: 416.1320\n",
            "Epoch 255/5000\n",
            "9/9 [==============================] - 1s 59ms/step - loss: 430.8878 - val_loss: 413.8209\n",
            "Epoch 256/5000\n",
            "9/9 [==============================] - 1s 65ms/step - loss: 429.4279 - val_loss: 427.5353\n",
            "Epoch 257/5000\n",
            "9/9 [==============================] - 1s 57ms/step - loss: 435.4209 - val_loss: 424.5328\n",
            "Epoch 258/5000\n",
            "9/9 [==============================] - 1s 56ms/step - loss: 426.0396 - val_loss: 420.0167\n",
            "Epoch 259/5000\n",
            "9/9 [==============================] - 1s 59ms/step - loss: 427.5921 - val_loss: 424.9822\n",
            "Epoch 260/5000\n",
            "9/9 [==============================] - 1s 57ms/step - loss: 426.2830 - val_loss: 429.0514\n",
            "Epoch 261/5000\n",
            "9/9 [==============================] - 1s 58ms/step - loss: 428.4580 - val_loss: 427.6399\n",
            "Epoch 262/5000\n",
            "9/9 [==============================] - 0s 55ms/step - loss: 430.5636 - val_loss: 407.8100\n",
            "Epoch 263/5000\n",
            "9/9 [==============================] - 1s 61ms/step - loss: 423.0584 - val_loss: 415.0550\n",
            "Epoch 264/5000\n",
            "9/9 [==============================] - 1s 56ms/step - loss: 422.1766 - val_loss: 426.5400\n",
            "Epoch 265/5000\n",
            "9/9 [==============================] - 1s 61ms/step - loss: 424.2308 - val_loss: 416.7744\n",
            "Epoch 266/5000\n",
            "9/9 [==============================] - 1s 62ms/step - loss: 421.3383 - val_loss: 406.6628\n",
            "Epoch 267/5000\n",
            "9/9 [==============================] - 1s 65ms/step - loss: 421.2238 - val_loss: 424.4999\n",
            "Epoch 268/5000\n",
            "9/9 [==============================] - 1s 83ms/step - loss: 432.6486 - val_loss: 415.8135\n",
            "Epoch 269/5000\n",
            "9/9 [==============================] - 1s 85ms/step - loss: 431.3924 - val_loss: 434.7458\n",
            "Epoch 270/5000\n",
            "9/9 [==============================] - 1s 86ms/step - loss: 427.3573 - val_loss: 411.0788\n",
            "Epoch 271/5000\n",
            "9/9 [==============================] - 1s 60ms/step - loss: 427.1357 - val_loss: 443.4190\n",
            "Epoch 272/5000\n",
            "9/9 [==============================] - 1s 60ms/step - loss: 442.6659 - val_loss: 430.3569\n",
            "Epoch 273/5000\n",
            "9/9 [==============================] - 1s 61ms/step - loss: 448.3880 - val_loss: 441.4710\n",
            "Epoch 274/5000\n",
            "9/9 [==============================] - 1s 61ms/step - loss: 452.2563 - val_loss: 438.2632\n",
            "Epoch 275/5000\n",
            "9/9 [==============================] - 1s 62ms/step - loss: 448.1351 - val_loss: 425.2131\n",
            "Epoch 276/5000\n",
            "9/9 [==============================] - 1s 60ms/step - loss: 435.9540 - val_loss: 424.2948\n",
            "Epoch 277/5000\n",
            "9/9 [==============================] - 1s 60ms/step - loss: 437.3113 - val_loss: 418.4811\n",
            "Epoch 278/5000\n",
            "9/9 [==============================] - 1s 62ms/step - loss: 430.4767 - val_loss: 416.2123\n",
            "Epoch 279/5000\n",
            "9/9 [==============================] - 1s 64ms/step - loss: 435.1054 - val_loss: 439.1837\n",
            "Epoch 280/5000\n",
            "9/9 [==============================] - 1s 57ms/step - loss: 426.3473 - val_loss: 417.9286\n",
            "Epoch 281/5000\n",
            "9/9 [==============================] - 1s 63ms/step - loss: 433.1736 - val_loss: 427.3368\n",
            "Epoch 282/5000\n",
            "9/9 [==============================] - 1s 57ms/step - loss: 442.1484 - val_loss: 462.3259\n",
            "Epoch 283/5000\n",
            "9/9 [==============================] - 1s 57ms/step - loss: 458.1613 - val_loss: 447.8100\n",
            "Epoch 284/5000\n",
            "9/9 [==============================] - 1s 60ms/step - loss: 454.7860 - val_loss: 445.1484\n",
            "Epoch 285/5000\n",
            "9/9 [==============================] - 1s 65ms/step - loss: 439.6880 - val_loss: 421.3603\n",
            "Epoch 286/5000\n",
            "9/9 [==============================] - 1s 60ms/step - loss: 436.3613 - val_loss: 420.6256\n",
            "Epoch 287/5000\n",
            "9/9 [==============================] - 1s 58ms/step - loss: 448.5253 - val_loss: 420.7595\n",
            "Epoch 288/5000\n",
            "9/9 [==============================] - 1s 60ms/step - loss: 437.9111 - val_loss: 421.0003\n",
            "Epoch 289/5000\n",
            "9/9 [==============================] - 1s 80ms/step - loss: 421.7107 - val_loss: 417.5837\n",
            "Epoch 290/5000\n",
            "9/9 [==============================] - 1s 77ms/step - loss: 465.9194 - val_loss: 449.9694\n",
            "Epoch 291/5000\n",
            "9/9 [==============================] - 1s 88ms/step - loss: 478.6805 - val_loss: 477.1404\n",
            "Epoch 292/5000\n",
            "9/9 [==============================] - 1s 85ms/step - loss: 455.2195 - val_loss: 447.2046\n",
            "Epoch 293/5000\n",
            "9/9 [==============================] - 1s 65ms/step - loss: 457.5444 - val_loss: 437.4561\n",
            "Epoch 294/5000\n",
            "9/9 [==============================] - 1s 59ms/step - loss: 451.0251 - val_loss: 431.0562\n",
            "Epoch 295/5000\n",
            "9/9 [==============================] - 1s 64ms/step - loss: 443.5031 - val_loss: 418.9156\n",
            "Epoch 296/5000\n",
            "9/9 [==============================] - 0s 56ms/step - loss: 441.8941 - val_loss: 422.6233\n",
            "Epoch 297/5000\n",
            "9/9 [==============================] - 1s 58ms/step - loss: 439.7035 - val_loss: 421.0464\n",
            "Epoch 298/5000\n",
            "9/9 [==============================] - 1s 58ms/step - loss: 439.3269 - val_loss: 423.5593\n",
            "Epoch 299/5000\n",
            "9/9 [==============================] - 1s 57ms/step - loss: 458.1517 - val_loss: 430.1121\n",
            "Epoch 300/5000\n",
            "9/9 [==============================] - 1s 60ms/step - loss: 461.0566 - val_loss: 408.1303\n",
            "Epoch 301/5000\n",
            "9/9 [==============================] - 1s 63ms/step - loss: 441.2325 - val_loss: 418.4497\n",
            "Epoch 302/5000\n",
            "9/9 [==============================] - 1s 60ms/step - loss: 442.3213 - val_loss: 435.1979\n",
            "Epoch 303/5000\n",
            "9/9 [==============================] - 1s 59ms/step - loss: 439.0717 - val_loss: 413.5443\n",
            "Epoch 304/5000\n",
            "9/9 [==============================] - 1s 60ms/step - loss: 438.5132 - val_loss: 417.0805\n",
            "Epoch 305/5000\n",
            "9/9 [==============================] - 1s 66ms/step - loss: 435.8600 - val_loss: 416.5682\n",
            "Epoch 306/5000\n",
            "9/9 [==============================] - 1s 61ms/step - loss: 429.1945 - val_loss: 410.8319\n",
            "Epoch 307/5000\n",
            "9/9 [==============================] - 1s 59ms/step - loss: 425.5843 - val_loss: 414.7122\n",
            "Epoch 308/5000\n",
            "9/9 [==============================] - 1s 64ms/step - loss: 427.2756 - val_loss: 421.2513\n",
            "Epoch 309/5000\n",
            "9/9 [==============================] - 1s 59ms/step - loss: 427.5845 - val_loss: 408.7410\n",
            "Epoch 310/5000\n",
            "9/9 [==============================] - 1s 74ms/step - loss: 429.7011 - val_loss: 412.8153\n",
            "Epoch 311/5000\n",
            "9/9 [==============================] - 1s 81ms/step - loss: 433.0224 - val_loss: 418.7460\n",
            "Epoch 312/5000\n",
            "9/9 [==============================] - 1s 89ms/step - loss: 428.8018 - val_loss: 422.5465\n",
            "Epoch 313/5000\n",
            "9/9 [==============================] - 1s 86ms/step - loss: 423.1796 - val_loss: 421.6039\n",
            "Epoch 314/5000\n",
            "9/9 [==============================] - 1s 88ms/step - loss: 428.4203 - val_loss: 427.0590\n",
            "Epoch 315/5000\n",
            "9/9 [==============================] - 1s 62ms/step - loss: 426.4520 - val_loss: 416.1310\n",
            "Epoch 316/5000\n",
            "9/9 [==============================] - 1s 61ms/step - loss: 423.3766 - val_loss: 436.2133\n",
            "Epoch 317/5000\n",
            "9/9 [==============================] - 1s 59ms/step - loss: 431.5521 - val_loss: 427.3615\n",
            "Epoch 318/5000\n",
            "9/9 [==============================] - 1s 60ms/step - loss: 435.4146 - val_loss: 420.1536\n",
            "Epoch 319/5000\n",
            "9/9 [==============================] - 1s 60ms/step - loss: 429.5348 - val_loss: 426.5681\n",
            "Epoch 320/5000\n",
            "9/9 [==============================] - 1s 62ms/step - loss: 429.5035 - val_loss: 421.5169\n",
            "Epoch 321/5000\n",
            "9/9 [==============================] - 1s 60ms/step - loss: 433.5890 - val_loss: 435.4490\n",
            "Epoch 322/5000\n",
            "9/9 [==============================] - 1s 57ms/step - loss: 426.1108 - val_loss: 426.3816\n",
            "Epoch 323/5000\n",
            "9/9 [==============================] - 1s 65ms/step - loss: 417.9331 - val_loss: 429.5827\n",
            "Epoch 324/5000\n",
            "9/9 [==============================] - 1s 59ms/step - loss: 425.9271 - val_loss: 427.9890\n",
            "Epoch 325/5000\n",
            "9/9 [==============================] - 1s 63ms/step - loss: 420.6986 - val_loss: 426.8256\n",
            "Epoch 326/5000\n",
            "9/9 [==============================] - 1s 59ms/step - loss: 421.6868 - val_loss: 415.6256\n",
            "Epoch 327/5000\n",
            "9/9 [==============================] - 1s 88ms/step - loss: 418.7408 - val_loss: 424.2570\n"
          ]
        },
        {
          "output_type": "execute_result",
          "data": {
            "text/plain": [
              "<keras.callbacks.History at 0x7f5e65ea6230>"
            ]
          },
          "metadata": {},
          "execution_count": 160
        }
      ]
    },
    {
      "cell_type": "code",
      "source": [
        "n_beats_model.evaluate(test_dataset)"
      ],
      "metadata": {
        "id": "fcwKs6edr1HK",
        "colab": {
          "base_uri": "https://localhost:8080/"
        },
        "outputId": "9ac2737a-f091-40a6-c6e5-fcd8d5c41a4d"
      },
      "execution_count": 161,
      "outputs": [
        {
          "output_type": "stream",
          "name": "stdout",
          "text": [
            "3/3 [==============================] - 0s 13ms/step - loss: 402.6703\n"
          ]
        },
        {
          "output_type": "execute_result",
          "data": {
            "text/plain": [
              "402.6703186035156"
            ]
          },
          "metadata": {},
          "execution_count": 161
        }
      ]
    },
    {
      "cell_type": "code",
      "source": [
        "n_beats_pred = make_pred(n_beats_model,test_dataset)"
      ],
      "metadata": {
        "id": "b--lFUkJGjUB",
        "colab": {
          "base_uri": "https://localhost:8080/"
        },
        "outputId": "641a5673-f303-45d7-a753-81985d919d72"
      },
      "execution_count": 162,
      "outputs": [
        {
          "output_type": "stream",
          "name": "stdout",
          "text": [
            "3/3 [==============================] - 1s 10ms/step\n"
          ]
        }
      ]
    },
    {
      "cell_type": "code",
      "source": [
        "n_beats_results = get_timeseries_metrics(y_test,n_beats_pred)\n",
        "n_beats_results"
      ],
      "metadata": {
        "colab": {
          "base_uri": "https://localhost:8080/"
        },
        "id": "HEuQdwVw09gG",
        "outputId": "08f117f6-30fc-4568-8237-7789a999fdc5"
      },
      "execution_count": 163,
      "outputs": [
        {
          "output_type": "execute_result",
          "data": {
            "text/plain": [
              "{'mae': 402.67032, 'mse': 501947.5, 'rmse': 708.48254}"
            ]
          },
          "metadata": {},
          "execution_count": 163
        }
      ]
    },
    {
      "cell_type": "code",
      "source": [
        "n_beats_df = pd.DataFrame()"
      ],
      "metadata": {
        "id": "eBf1EuQy1Txi"
      },
      "execution_count": 164,
      "outputs": []
    },
    {
      "cell_type": "markdown",
      "source": [
        "### COMPARING TIME SERIES MODELS RESULTS"
      ],
      "metadata": {
        "id": "JP6qCKoX1L_k"
      }
    },
    {
      "cell_type": "code",
      "source": [
        "model_list = ['Naive Model','ARIMA Model','DeepStackedLSTM10','DeepStackedBidirectionalLSTM','NBeats Algortihm']\n",
        "mae_score = [naive_result['mae'],pred_results['mae'],stacked_lstm_result['mae'],bidirectional_results['mae'],n_beats_results['mae']]"
      ],
      "metadata": {
        "id": "1YSsC3oa1qt7"
      },
      "execution_count": 165,
      "outputs": []
    },
    {
      "cell_type": "code",
      "source": [
        "timeseries_results = pd.DataFrame({\"Model Name\":model_list,\n",
        "                                   \"Mae Score\":mae_score})"
      ],
      "metadata": {
        "id": "zBQk43281LVc"
      },
      "execution_count": 167,
      "outputs": []
    },
    {
      "cell_type": "code",
      "source": [
        "timeseries_results = timeseries_results.sort_values(by=\"Mae Score\",ascending=True,ignore_index=True)\n",
        "timeseries_results"
      ],
      "metadata": {
        "id": "b57bstsTB4Mb",
        "colab": {
          "base_uri": "https://localhost:8080/",
          "height": 206
        },
        "outputId": "fbe6f9f2-dcc4-4810-ac89-c93fe7d301d9"
      },
      "execution_count": 193,
      "outputs": [
        {
          "output_type": "execute_result",
          "data": {
            "text/plain": [
              "                     Model Name   Mae Score\n",
              "0             DeepStackedLSTM10  268.174988\n",
              "1                   ARIMA Model  279.574020\n",
              "2  DeepStackedBidirectionalLSTM  346.527405\n",
              "3              NBeats Algortihm  402.670319\n",
              "4                   Naive Model  670.190121"
            ],
            "text/html": [
              "\n",
              "  <div id=\"df-b9996fee-05d3-44a4-b57f-932bf94d212d\">\n",
              "    <div class=\"colab-df-container\">\n",
              "      <div>\n",
              "<style scoped>\n",
              "    .dataframe tbody tr th:only-of-type {\n",
              "        vertical-align: middle;\n",
              "    }\n",
              "\n",
              "    .dataframe tbody tr th {\n",
              "        vertical-align: top;\n",
              "    }\n",
              "\n",
              "    .dataframe thead th {\n",
              "        text-align: right;\n",
              "    }\n",
              "</style>\n",
              "<table border=\"1\" class=\"dataframe\">\n",
              "  <thead>\n",
              "    <tr style=\"text-align: right;\">\n",
              "      <th></th>\n",
              "      <th>Model Name</th>\n",
              "      <th>Mae Score</th>\n",
              "    </tr>\n",
              "  </thead>\n",
              "  <tbody>\n",
              "    <tr>\n",
              "      <th>0</th>\n",
              "      <td>DeepStackedLSTM10</td>\n",
              "      <td>268.174988</td>\n",
              "    </tr>\n",
              "    <tr>\n",
              "      <th>1</th>\n",
              "      <td>ARIMA Model</td>\n",
              "      <td>279.574020</td>\n",
              "    </tr>\n",
              "    <tr>\n",
              "      <th>2</th>\n",
              "      <td>DeepStackedBidirectionalLSTM</td>\n",
              "      <td>346.527405</td>\n",
              "    </tr>\n",
              "    <tr>\n",
              "      <th>3</th>\n",
              "      <td>NBeats Algortihm</td>\n",
              "      <td>402.670319</td>\n",
              "    </tr>\n",
              "    <tr>\n",
              "      <th>4</th>\n",
              "      <td>Naive Model</td>\n",
              "      <td>670.190121</td>\n",
              "    </tr>\n",
              "  </tbody>\n",
              "</table>\n",
              "</div>\n",
              "      <button class=\"colab-df-convert\" onclick=\"convertToInteractive('df-b9996fee-05d3-44a4-b57f-932bf94d212d')\"\n",
              "              title=\"Convert this dataframe to an interactive table.\"\n",
              "              style=\"display:none;\">\n",
              "        \n",
              "  <svg xmlns=\"http://www.w3.org/2000/svg\" height=\"24px\"viewBox=\"0 0 24 24\"\n",
              "       width=\"24px\">\n",
              "    <path d=\"M0 0h24v24H0V0z\" fill=\"none\"/>\n",
              "    <path d=\"M18.56 5.44l.94 2.06.94-2.06 2.06-.94-2.06-.94-.94-2.06-.94 2.06-2.06.94zm-11 1L8.5 8.5l.94-2.06 2.06-.94-2.06-.94L8.5 2.5l-.94 2.06-2.06.94zm10 10l.94 2.06.94-2.06 2.06-.94-2.06-.94-.94-2.06-.94 2.06-2.06.94z\"/><path d=\"M17.41 7.96l-1.37-1.37c-.4-.4-.92-.59-1.43-.59-.52 0-1.04.2-1.43.59L10.3 9.45l-7.72 7.72c-.78.78-.78 2.05 0 2.83L4 21.41c.39.39.9.59 1.41.59.51 0 1.02-.2 1.41-.59l7.78-7.78 2.81-2.81c.8-.78.8-2.07 0-2.86zM5.41 20L4 18.59l7.72-7.72 1.47 1.35L5.41 20z\"/>\n",
              "  </svg>\n",
              "      </button>\n",
              "      \n",
              "  <style>\n",
              "    .colab-df-container {\n",
              "      display:flex;\n",
              "      flex-wrap:wrap;\n",
              "      gap: 12px;\n",
              "    }\n",
              "\n",
              "    .colab-df-convert {\n",
              "      background-color: #E8F0FE;\n",
              "      border: none;\n",
              "      border-radius: 50%;\n",
              "      cursor: pointer;\n",
              "      display: none;\n",
              "      fill: #1967D2;\n",
              "      height: 32px;\n",
              "      padding: 0 0 0 0;\n",
              "      width: 32px;\n",
              "    }\n",
              "\n",
              "    .colab-df-convert:hover {\n",
              "      background-color: #E2EBFA;\n",
              "      box-shadow: 0px 1px 2px rgba(60, 64, 67, 0.3), 0px 1px 3px 1px rgba(60, 64, 67, 0.15);\n",
              "      fill: #174EA6;\n",
              "    }\n",
              "\n",
              "    [theme=dark] .colab-df-convert {\n",
              "      background-color: #3B4455;\n",
              "      fill: #D2E3FC;\n",
              "    }\n",
              "\n",
              "    [theme=dark] .colab-df-convert:hover {\n",
              "      background-color: #434B5C;\n",
              "      box-shadow: 0px 1px 3px 1px rgba(0, 0, 0, 0.15);\n",
              "      filter: drop-shadow(0px 1px 2px rgba(0, 0, 0, 0.3));\n",
              "      fill: #FFFFFF;\n",
              "    }\n",
              "  </style>\n",
              "\n",
              "      <script>\n",
              "        const buttonEl =\n",
              "          document.querySelector('#df-b9996fee-05d3-44a4-b57f-932bf94d212d button.colab-df-convert');\n",
              "        buttonEl.style.display =\n",
              "          google.colab.kernel.accessAllowed ? 'block' : 'none';\n",
              "\n",
              "        async function convertToInteractive(key) {\n",
              "          const element = document.querySelector('#df-b9996fee-05d3-44a4-b57f-932bf94d212d');\n",
              "          const dataTable =\n",
              "            await google.colab.kernel.invokeFunction('convertToInteractive',\n",
              "                                                     [key], {});\n",
              "          if (!dataTable) return;\n",
              "\n",
              "          const docLinkHtml = 'Like what you see? Visit the ' +\n",
              "            '<a target=\"_blank\" href=https://colab.research.google.com/notebooks/data_table.ipynb>data table notebook</a>'\n",
              "            + ' to learn more about interactive tables.';\n",
              "          element.innerHTML = '';\n",
              "          dataTable['output_type'] = 'display_data';\n",
              "          await google.colab.output.renderOutput(dataTable, element);\n",
              "          const docLink = document.createElement('div');\n",
              "          docLink.innerHTML = docLinkHtml;\n",
              "          element.appendChild(docLink);\n",
              "        }\n",
              "      </script>\n",
              "    </div>\n",
              "  </div>\n",
              "  "
            ]
          },
          "metadata": {},
          "execution_count": 193
        }
      ]
    },
    {
      "cell_type": "markdown",
      "source": [
        "### CREATING FORECASTING INTERVAL USING BEST MODEL"
      ],
      "metadata": {
        "id": "6sBIYQ01RZeA"
      }
    },
    {
      "cell_type": "code",
      "source": [
        "def get_upper_and_lower(preds,results):\n",
        "  mae = results['mae']\n",
        "\n",
        "  # Multiply std by 1.96 (95% CI from mean ) \n",
        "  interval = 1.96 * mae\n",
        "\n",
        "  # get lower and upper prediction\n",
        "  lower,upper = preds - interval,preds + interval\n",
        "\n",
        "  return lower,upper"
      ],
      "metadata": {
        "id": "zwcAcJ-qRYaw"
      },
      "execution_count": 186,
      "outputs": []
    },
    {
      "cell_type": "code",
      "source": [
        "lower,upper = get_upper_and_lower(preds=stacked_lstm_pred,results=stacked_lstm_result)"
      ],
      "metadata": {
        "id": "yS_6zBlARJEh"
      },
      "execution_count": 188,
      "outputs": []
    },
    {
      "cell_type": "markdown",
      "source": [
        "**DeepStackedLSTM10** is the **best model** (lowest mse score) for forecasting sales in Los Angeles"
      ],
      "metadata": {
        "id": "157W3VHV7iIb"
      }
    },
    {
      "cell_type": "markdown",
      "source": [
        "# Visualizing Real Sales and Forecast Sales using DeepStackedLSTM10"
      ],
      "metadata": {
        "id": "qFFqLDVKCCjp"
      }
    },
    {
      "cell_type": "code",
      "source": [
        "offset = len(X_test)-stacked_lstm_pred.shape[0]\n",
        "plt.figure(figsize = (10,6))\n",
        "plt.plot(X_test.index[offset:],y_test[offset:],label = \"Real Sales\")\n",
        "plt.plot(X_test.index[offset:],stacked_lstm_pred,label = \"Forecasting Sales\")\n",
        "plt.fill_between(X_test.index[offset:],\n",
        "        (lower),\n",
        "        (upper),\n",
        "         label = \"Forecasting intervals\",\n",
        "         color='grey')\n",
        "plt.title(\"Real Sales vs Forecasting Superstore Sales in LA\")\n",
        "plt.legend()\n",
        "plt.show()"
      ],
      "metadata": {
        "colab": {
          "base_uri": "https://localhost:8080/",
          "height": 576
        },
        "id": "Zajbkc4a7D43",
        "outputId": "2560a4e5-a282-4c9d-9ae7-635ce5ba9286"
      },
      "execution_count": 190,
      "outputs": [
        {
          "output_type": "display_data",
          "data": {
            "text/plain": [
              "<Figure size 1000x600 with 1 Axes>"
            ],
            "image/png": "[encoded data removed]"
          },
          "metadata": {}
        }
      ]
    },
    {
      "cell_type": "code",
      "source": [],
      "metadata": {
        "id": "EfIuV0a973yy"
      },
      "execution_count": null,
      "outputs": []
    }
  ]
}